{
 "cells": [
  {
   "cell_type": "code",
   "execution_count": 1,
   "id": "80c12bef-1cea-4c74-a7e9-883c04514391",
   "metadata": {},
   "outputs": [],
   "source": [
    "import pandas as pd"
   ]
  },
  {
   "cell_type": "code",
   "execution_count": 2,
   "id": "0129b60c-f22a-4cee-95f6-ac5f9360152a",
   "metadata": {},
   "outputs": [],
   "source": [
    "model = pd.read_pickle('HousePricePredictor')"
   ]
  },
  {
   "cell_type": "code",
   "execution_count": 3,
   "id": "0d3694f6-e8c6-4f29-84bc-17863951a46e",
   "metadata": {},
   "outputs": [
    {
     "data": {
      "text/plain": [
       "LinearRegression()"
      ]
     },
     "execution_count": 3,
     "metadata": {},
     "output_type": "execute_result"
    }
   ],
   "source": [
    "model"
   ]
  },
  {
   "cell_type": "code",
   "execution_count": 4,
   "id": "71b0901f-d1f1-42ce-b925-881f2362b450",
   "metadata": {},
   "outputs": [],
   "source": [
    "cols=['Avg. Area Income', 'Avg. Area House Age', 'Avg. Area Number of Rooms', 'Area Population']"
   ]
  },
  {
   "cell_type": "code",
   "execution_count": 5,
   "id": "e55c2f60-153d-4991-8b5e-0126ad826691",
   "metadata": {},
   "outputs": [
    {
     "name": "stdin",
     "output_type": "stream",
     "text": [
      "Enter the income : 85000\n",
      "Enter the house age : 6\n",
      "Enter the rooms : 7\n",
      "Enter the polpulation : 4000\n"
     ]
    }
   ],
   "source": [
    "income=eval(input('Enter the income :'))\n",
    "house_age = eval(input('Enter the house age :'))\n",
    "rooms = eval(input('Enter the rooms :'))\n",
    "population = eval(input('Enter the polpulation :'))\n",
    "query = pd.DataFrame({'Avg. Area Income':[income],'Avg. Area House Age':[house_age],\n",
    "                      'Avg. Area Number of Rooms':[rooms],'Area Population':[population]})"
   ]
  },
  {
   "cell_type": "code",
   "execution_count": 6,
   "id": "cb019b63-b984-42a6-8746-20c206bffdb8",
   "metadata": {},
   "outputs": [
    {
     "data": {
      "text/html": [
       "<div>\n",
       "<style scoped>\n",
       "    .dataframe tbody tr th:only-of-type {\n",
       "        vertical-align: middle;\n",
       "    }\n",
       "\n",
       "    .dataframe tbody tr th {\n",
       "        vertical-align: top;\n",
       "    }\n",
       "\n",
       "    .dataframe thead th {\n",
       "        text-align: right;\n",
       "    }\n",
       "</style>\n",
       "<table border=\"1\" class=\"dataframe\">\n",
       "  <thead>\n",
       "    <tr style=\"text-align: right;\">\n",
       "      <th></th>\n",
       "      <th>Avg. Area Income</th>\n",
       "      <th>Avg. Area House Age</th>\n",
       "      <th>Avg. Area Number of Rooms</th>\n",
       "      <th>Area Population</th>\n",
       "    </tr>\n",
       "  </thead>\n",
       "  <tbody>\n",
       "    <tr>\n",
       "      <th>0</th>\n",
       "      <td>85000</td>\n",
       "      <td>6</td>\n",
       "      <td>7</td>\n",
       "      <td>4000</td>\n",
       "    </tr>\n",
       "  </tbody>\n",
       "</table>\n",
       "</div>"
      ],
      "text/plain": [
       "   Avg. Area Income  Avg. Area House Age  Avg. Area Number of Rooms  \\\n",
       "0             85000                    6                          7   \n",
       "\n",
       "   Area Population  \n",
       "0             4000  "
      ]
     },
     "execution_count": 6,
     "metadata": {},
     "output_type": "execute_result"
    }
   ],
   "source": [
    "query"
   ]
  },
  {
   "cell_type": "code",
   "execution_count": 7,
   "id": "c178d86a-d9da-41a6-9ca3-2e7dfdd9e7e9",
   "metadata": {},
   "outputs": [
    {
     "data": {
      "text/plain": [
       "1098759.9360759598"
      ]
     },
     "execution_count": 7,
     "metadata": {},
     "output_type": "execute_result"
    }
   ],
   "source": [
    "model.predict(query)[0]"
   ]
  },
  {
   "cell_type": "code",
   "execution_count": 8,
   "id": "4d357514-f9aa-4899-9a9c-1f83aa5c78ed",
   "metadata": {},
   "outputs": [
    {
     "name": "stdout",
     "output_type": "stream",
     "text": [
      "Price for the house can be: 1098759.9$\n"
     ]
    }
   ],
   "source": [
    "print('Price for the house can be: %.1f$'%(model.predict(query)[0]))"
   ]
  },
  {
   "cell_type": "code",
   "execution_count": null,
   "id": "e8265ae6-149e-4ed6-b1c1-f365742a0681",
   "metadata": {},
   "outputs": [],
   "source": []
  }
 ],
 "metadata": {
  "kernelspec": {
   "display_name": "Python 3",
   "language": "python",
   "name": "python3"
  },
  "language_info": {
   "codemirror_mode": {
    "name": "ipython",
    "version": 3
   },
   "file_extension": ".py",
   "mimetype": "text/x-python",
   "name": "python",
   "nbconvert_exporter": "python",
   "pygments_lexer": "ipython3",
   "version": "3.8.8"
  }
 },
 "nbformat": 4,
 "nbformat_minor": 5
}
