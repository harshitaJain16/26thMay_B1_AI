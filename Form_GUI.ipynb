{
 "cells": [
  {
   "cell_type": "code",
   "execution_count": 8,
   "id": "096ed2e0-7108-450b-9dcf-2de9542ece7f",
   "metadata": {},
   "outputs": [],
   "source": [
    "import tkinter as tk\n",
    "import warnings\n",
    "warnings.filterwarnings('ignore')"
   ]
  },
  {
   "cell_type": "code",
   "execution_count": 10,
   "id": "ce518322-d1ff-4a12-a0c0-578ced5b96d9",
   "metadata": {},
   "outputs": [],
   "source": [
    "app=tk.Tk()\n",
    "app.geometry('400x280')\n",
    "app.title(\"Regestrartion Form\")\n",
    "tk.Label(app,text=\"Full Name\").place(x=20,y=30)\n",
    "tk.Label(app,text=\"Email ID\").place(x=20,y=60)\n",
    "tk.Label(app,text=\"User Name\").place(x=20,y=90)\n",
    "tk.Label(app,text=\"Password\").place(x=20,y=120)\n",
    "tk.Label(app,text=\"Age\").place(x=20,y=150)\n",
    "tk.Label(app,text=\"Mobile\").place(x=20,y=180)\n",
    "\n",
    "f_name=tk.Variable(app)\n",
    "mail=tk.Variable(app)\n",
    "user_name=tk.Variable(app)\n",
    "passw=tk.Variable(app)\n",
    "age=tk.Variable(app)\n",
    "mob=tk.Variable(app)\n",
    "\n",
    "\n",
    "\n",
    "tk.Entry(app,width=30,textvariable=f_name,bg='#ffffff').place(x=150,y=30)\n",
    "tk.Entry(app,width=30,textvariable=mail,bg='#ffffff').place(x=150,y=60)\n",
    "tk.Entry(app,width=30,textvariable=user_name,bg='#ffffff').place(x=150,y=90)\n",
    "tk.Entry(app,width=30,textvariable=passw,bg='#ffffff').place(x=150,y=120)\n",
    "tk.Entry(app,width=30,textvariable=age,bg='#ffffff').place(x=150,y=150)\n",
    "tk.Entry(app,width=30,textvariable=mob,bg='#ffffff').place(x=150,y=180)\n",
    "\n",
    "\n",
    "def register():\n",
    "    f=open('data.csv','a')\n",
    "    data=[f_name.get(),mail.get(),user_name.get(),passw.get(),age.get(),mob.get()]\n",
    "    f.write(','.join(data)+'\\n')\n",
    "    f.close()\n",
    "    f_name.set('')\n",
    "    mail.set('')\n",
    "    user_name.set('')\n",
    "    passw.set('')\n",
    "    age.set('')\n",
    "    mob.set('')\n",
    "    \n",
    "    \n",
    "tk.Button(app,text=\"Submit\",command=register).place(x=150,y=210)  \n",
    "app.mainloop()"
   ]
  },
  {
   "cell_type": "code",
   "execution_count": null,
   "id": "b11f04de-3004-4f39-ae2d-de18cf63a7cc",
   "metadata": {},
   "outputs": [],
   "source": []
  }
 ],
 "metadata": {
  "kernelspec": {
   "display_name": "Python 3",
   "language": "python",
   "name": "python3"
  },
  "language_info": {
   "codemirror_mode": {
    "name": "ipython",
    "version": 3
   },
   "file_extension": ".py",
   "mimetype": "text/x-python",
   "name": "python",
   "nbconvert_exporter": "python",
   "pygments_lexer": "ipython3",
   "version": "3.8.8"
  }
 },
 "nbformat": 4,
 "nbformat_minor": 5
}
