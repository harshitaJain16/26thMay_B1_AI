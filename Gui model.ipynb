{
 "cells": [
  {
   "cell_type": "code",
   "execution_count": 1,
   "id": "3bcec608-6241-40d3-9f9c-4a060248cfb2",
   "metadata": {},
   "outputs": [],
   "source": [
    "import pandas as pd\n",
    "import warnings\n",
    "warnings.filterwarnings('ignore') \n",
    "import tkinter as tk\n"
   ]
  },
  {
   "cell_type": "code",
   "execution_count": 2,
   "id": "3ad6b61b-9816-48b6-aed4-74bf49ed7b75",
   "metadata": {},
   "outputs": [],
   "source": [
    "model = pd.read_pickle('HousePricePredictor')\n"
   ]
  },
  {
   "cell_type": "code",
   "execution_count": 57,
   "id": "3c66c3df-b642-4866-baf5-496e50a2f224",
   "metadata": {},
   "outputs": [],
   "source": [
    "import math\n",
    "\n",
    "app=tk.Tk()\n",
    "app.config(bg=\"azure3\")\n",
    "app.geometry('400x280')\n",
    "app.title(\"HousePricePredictor\")\n",
    "tk.Label(app,width=15,text=\"Area Income\",bg=\"midnightblue\",fg=\"white\").place(x=20,y=30)\n",
    "tk.Label(app,width=15,text=\"Area House Age\",bg=\"midnightblue\",fg=\"white\").place(x=20,y=60)\n",
    "tk.Label(app,width=15,text=\"Number of Rooms\",bg=\"midnightblue\",fg=\"white\").place(x=20,y=90)\n",
    "tk.Label(app,width=15,text=\"Area Population\",bg=\"midnightblue\",fg=\"white\").place(x=20,y=120)\n",
    "tk.Label(app,width=15,text=\"House Price :\",fg=\"midnightblue\",bg=\"azure3\",font=(\"Helvetica\", 15,\"bold\")).place(x=20,y=210)\n",
    "\n",
    "\n",
    "area_income=tk.Variable(app)\n",
    "house_age=tk.Variable(app)\n",
    "rooms=tk.Variable(app)\n",
    "population=tk.Variable(app)\n",
    "\n",
    "tk.Entry(app,width=25,textvariable=area_income,bg='#ffffff').place(x=200,y=30)\n",
    "tk.Entry(app,width=25,textvariable=house_age,bg='#ffffff').place(x=200,y=60)\n",
    "tk.Entry(app,width=25,textvariable=rooms,bg='#ffffff').place(x=200,y=90)\n",
    "tk.Entry(app,width=25,textvariable=population,bg='#ffffff').place(x=200,y=120)\n",
    "predict_var = tk.Variable(app)\n",
    "tk.Label(app,textvariable=predict_var,fg=\"midnightblue\",bg=\"azure3\",font=(\"Helvetica\", 15,\"bold\")).place(x=200,y=210)\n",
    "def register():\n",
    "    a=area_income.get()\n",
    "    b=house_age.get()\n",
    "    c=rooms.get()\n",
    "    d=population.get()\n",
    "    query = pd.DataFrame({'Avg. Area Income':[a],'Avg. Area House Age':[b],\n",
    "                      'Avg. Area Number of Rooms':[c],'Area Population':[d]})\n",
    "    #n=\"%.1f$'%(model.predict(query)[0])\"\n",
    "    e=model.predict(query)[0]\n",
    "    predict_var.set(\"{0:.1f}$\".format(e))\n",
    "    area_income.set('')\n",
    "    house_age.set('')\n",
    "    rooms.set('')\n",
    "    population.set('')\n",
    "    \n",
    "    \n",
    "    \n",
    "    \n",
    "tk.Button(app,text=\"Predict\",command=register,bg=\"midnightblue\",fg=\"white\").place(x=150,y=150) \n",
    "app.mainloop()\n"
   ]
  },
  {
   "cell_type": "code",
   "execution_count": null,
   "id": "def260c7-2ab8-433b-ab16-25b0d7995243",
   "metadata": {},
   "outputs": [],
   "source": []
  }
 ],
 "metadata": {
  "kernelspec": {
   "display_name": "Python 3",
   "language": "python",
   "name": "python3"
  },
  "language_info": {
   "codemirror_mode": {
    "name": "ipython",
    "version": 3
   },
   "file_extension": ".py",
   "mimetype": "text/x-python",
   "name": "python",
   "nbconvert_exporter": "python",
   "pygments_lexer": "ipython3",
   "version": "3.8.8"
  }
 },
 "nbformat": 4,
 "nbformat_minor": 5
}
