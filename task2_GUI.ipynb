{
 "cells": [
  {
   "cell_type": "code",
   "execution_count": 73,
   "id": "68c8d530-2e50-4c63-a854-cb712dc6cc56",
   "metadata": {},
   "outputs": [],
   "source": [
    "import pandas as pd\n",
    "import numpy as np\n",
    "import tkinter as tk\n",
    "import warnings\n",
    "warnings.filterwarnings('ignore')"
   ]
  },
  {
   "cell_type": "code",
   "execution_count": 86,
   "id": "8891c453-f228-45fe-9723-12b311d76ac9",
   "metadata": {},
   "outputs": [],
   "source": [
    "col=np.arange(1,21)\n",
    "df = pd.read_csv('Task 2.csv')\n",
    "df.index=col\n"
   ]
  },
  {
   "cell_type": "code",
   "execution_count": 87,
   "id": "f856ccc7-6331-4765-b38d-d9cedccd7bbc",
   "metadata": {},
   "outputs": [
    {
     "data": {
      "text/html": [
       "<div>\n",
       "<style scoped>\n",
       "    .dataframe tbody tr th:only-of-type {\n",
       "        vertical-align: middle;\n",
       "    }\n",
       "\n",
       "    .dataframe tbody tr th {\n",
       "        vertical-align: top;\n",
       "    }\n",
       "\n",
       "    .dataframe thead th {\n",
       "        text-align: right;\n",
       "    }\n",
       "</style>\n",
       "<table border=\"1\" class=\"dataframe\">\n",
       "  <thead>\n",
       "    <tr style=\"text-align: right;\">\n",
       "      <th></th>\n",
       "      <th>Users</th>\n",
       "      <th>Age</th>\n",
       "      <th>Gender</th>\n",
       "      <th>Mail Domain</th>\n",
       "    </tr>\n",
       "  </thead>\n",
       "  <tbody>\n",
       "    <tr>\n",
       "      <th>1</th>\n",
       "      <td>Aarav Jain</td>\n",
       "      <td>25</td>\n",
       "      <td>Male</td>\n",
       "      <td>Aaravjain12@google.com</td>\n",
       "    </tr>\n",
       "    <tr>\n",
       "      <th>2</th>\n",
       "      <td>Darsh Mehta</td>\n",
       "      <td>21</td>\n",
       "      <td>Male</td>\n",
       "      <td>mehtadarsh16@google.com</td>\n",
       "    </tr>\n",
       "    <tr>\n",
       "      <th>3</th>\n",
       "      <td>Priya Sharma</td>\n",
       "      <td>21</td>\n",
       "      <td>Female</td>\n",
       "      <td>priyasharma03@yahoo.com</td>\n",
       "    </tr>\n",
       "    <tr>\n",
       "      <th>4</th>\n",
       "      <td>avika bhagat</td>\n",
       "      <td>26</td>\n",
       "      <td>Female</td>\n",
       "      <td>bhagatavi01@google.com</td>\n",
       "    </tr>\n",
       "    <tr>\n",
       "      <th>5</th>\n",
       "      <td>Sakshi singh</td>\n",
       "      <td>28</td>\n",
       "      <td>Female</td>\n",
       "      <td>sakshisingh23@gmail.com</td>\n",
       "    </tr>\n",
       "  </tbody>\n",
       "</table>\n",
       "</div>"
      ],
      "text/plain": [
       "          Users  Age  Gender              Mail Domain\n",
       "1    Aarav Jain   25    Male   Aaravjain12@google.com\n",
       "2   Darsh Mehta   21    Male  mehtadarsh16@google.com\n",
       "3  Priya Sharma   21  Female  priyasharma03@yahoo.com\n",
       "4  avika bhagat   26  Female   bhagatavi01@google.com\n",
       "5  Sakshi singh   28  Female  sakshisingh23@gmail.com"
      ]
     },
     "execution_count": 87,
     "metadata": {},
     "output_type": "execute_result"
    }
   ],
   "source": [
    "df.head()"
   ]
  },
  {
   "cell_type": "code",
   "execution_count": 88,
   "id": "d69227d2-f89b-4950-8acc-07dd4cb3473e",
   "metadata": {},
   "outputs": [
    {
     "data": {
      "text/plain": [
       "20"
      ]
     },
     "execution_count": 88,
     "metadata": {},
     "output_type": "execute_result"
    }
   ],
   "source": [
    "df['Users'].count()"
   ]
  },
  {
   "cell_type": "markdown",
   "id": "0e6d36e4-937a-4230-a6e5-27b8e5e1bc5f",
   "metadata": {},
   "source": [
    "#Gui\n"
   ]
  },
  {
   "cell_type": "code",
   "execution_count": 90,
   "id": "daa91dcf-5b59-40ff-bc6b-b5561b6d0e44",
   "metadata": {},
   "outputs": [],
   "source": [
    "app=tk.Tk()\n",
    "app.title('users Data')\n",
    "app.geometry(\"500x400\")\n",
    "app.config(bg='white')\n",
    "title =tk.Label(app,text=\"Summary\", font=(\"Helvetica\", 15,\"bold\"), bg=\"grey\",fg=\"black\").place(x=190,y=5)\n",
    "tk.Label(app,text=\"Total users\",bg=\"grey\",fg=\"black\",font=(\"Helvetica\", 12)).place(x=50,y=60)\n",
    "tk.Label(app,text=\"Average Age\",bg=\"grey\",fg=\"black\",font=(\"Helvetica\", 12)).place(x=50,y=100)\n",
    "tk.Label(app,text=\"Commonly Mail Domain\",bg=\"gray\",fg=\"black\",font=(\"Helvetica\", 12)).place(x=50,y=150)\n",
    "total_users = tk.Variable(app)\n",
    "tk.Label(app,textvariable=total_users,fg=\"black\",bg=\"white\",font=(\"Helvetica\", 12)).place(x=240,y=55)\n",
    "#total_users.set(\"hi\")\n",
    "avg_age = tk.Variable(app)\n",
    "tk.Label(app,textvariable=avg_age,fg=\"black\",bg=\"white\",font=(\"Helvetica\", 12)).place(x=240,y=95)\n",
    "\n",
    "\n",
    "def Func():\n",
    "    total_users.set(df['Users'].count())\n",
    "    avg_age.set(df['Age'].mean())\n",
    "    #print(a)\n",
    "    domains=list(map(lambda x:x.split('@')[1],df['Mail Domain']))\n",
    "    #print(domains)\n",
    "    dict_1={i:domains.count(i) for i in domains}\n",
    "    dict_2 = dict(sorted(dict_1.items(), key=lambda x:x[1]))\n",
    "    list_1=list(dict_2.items())[::-1]\n",
    "    #print(list_1)\n",
    "    m=150\n",
    "    n=200\n",
    "    for i,j in list_1[0:5]:\n",
    "        tk.Label(app,text=i,font=(\"Helvetica\", 12),fg=\"black\",bg=\"white\").place(x=m,y=n)\n",
    "        tk.Label(app,text=j,font=(\"Helvetica\", 12),fg=\"black\",bg=\"white\").place(x=m+100,y=n)\n",
    "        n+=30\n",
    "        \n",
    "        \n",
    "\n",
    "Func()\n",
    "app.mainloop()\n",
    "    \n",
    "    "
   ]
  },
  {
   "cell_type": "code",
   "execution_count": null,
   "id": "909f4269-f420-4498-9f7c-2e497c1c74e9",
   "metadata": {},
   "outputs": [],
   "source": []
  }
 ],
 "metadata": {
  "kernelspec": {
   "display_name": "Python 3",
   "language": "python",
   "name": "python3"
  },
  "language_info": {
   "codemirror_mode": {
    "name": "ipython",
    "version": 3
   },
   "file_extension": ".py",
   "mimetype": "text/x-python",
   "name": "python",
   "nbconvert_exporter": "python",
   "pygments_lexer": "ipython3",
   "version": "3.8.8"
  }
 },
 "nbformat": 4,
 "nbformat_minor": 5
}
