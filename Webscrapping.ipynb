{
 "cells": [
  {
   "cell_type": "code",
   "execution_count": 1,
   "id": "e8ae90c2-ee88-4f45-bbe6-f1528071372b",
   "metadata": {},
   "outputs": [],
   "source": [
    "import requests\n",
    "from bs4 import BeautifulSoup"
   ]
  },
  {
   "cell_type": "code",
   "execution_count": 2,
   "id": "8a5a9904-1e03-48f2-b00c-d7ac1a562b04",
   "metadata": {},
   "outputs": [],
   "source": [
    "import warnings"
   ]
  },
  {
   "cell_type": "code",
   "execution_count": 3,
   "id": "d21fa7ed-529a-4a12-8aa4-d1fd166b0bbe",
   "metadata": {},
   "outputs": [],
   "source": [
    "header = {\n",
    "              \"User-Agent\": 'Mozilla/5.0 (Windows NT 10.0; Win64; x64) AppleWebKit/537.36 (KHTML, like Gecko) Chrome/91.0.4472.77 Safari/537.36',\n",
    "               \"Accept\": 'text/html,application/xhtml+xml,application/xml;q=0.9,image/avif,image/webp,image/apng,*/*;q=0.8,application/signed-exchange;v=b3;q=0.9',\n",
    "}"
   ]
  },
  {
   "cell_type": "code",
   "execution_count": 4,
   "id": "57a78cfe-1bdc-428d-b227-b5283b728991",
   "metadata": {},
   "outputs": [],
   "source": [
    "curr_page = 1\n",
    "product = 'smart phones'\n",
    "url = 'https://www.flipkart.com/search?q='"
   ]
  },
  {
   "cell_type": "code",
   "execution_count": 5,
   "id": "ecd18702-baa8-492c-a86b-294ec4a6393c",
   "metadata": {},
   "outputs": [
    {
     "data": {
      "text/plain": [
       "'https://www.flipkart.com/search?q=smart+phones&page=1'"
      ]
     },
     "execution_count": 5,
     "metadata": {},
     "output_type": "execute_result"
    }
   ],
   "source": [
    "query_url =url + '+'.join(product.split()) + '&page={}'.format(curr_page)\n",
    "query_url"
   ]
  },
  {
   "cell_type": "code",
   "execution_count": 6,
   "id": "e416c362-2558-4d73-af77-60413a48982a",
   "metadata": {},
   "outputs": [],
   "source": [
    "r = requests.get(query_url, headers = header)"
   ]
  },
  {
   "cell_type": "code",
   "execution_count": 7,
   "id": "beba6ce5-3269-4579-9306-dc854a3b6987",
   "metadata": {},
   "outputs": [
    {
     "data": {
      "text/plain": [
       "200"
      ]
     },
     "execution_count": 7,
     "metadata": {},
     "output_type": "execute_result"
    }
   ],
   "source": [
    "r.status_code"
   ]
  },
  {
   "cell_type": "code",
   "execution_count": 8,
   "id": "581c85a2-cdfe-4325-b3a3-54f1fc937f9c",
   "metadata": {
    "scrolled": true,
    "tags": []
   },
   "outputs": [],
   "source": [
    "text = r.text\n"
   ]
  },
  {
   "cell_type": "code",
   "execution_count": 9,
   "id": "468c2c1b-3828-4c22-ab2d-46e7e9095b16",
   "metadata": {},
   "outputs": [],
   "source": [
    "soup = BeautifulSoup(text, 'html.parser')"
   ]
  },
  {
   "cell_type": "code",
   "execution_count": 10,
   "id": "d5999ca2-9c39-4180-b16b-e91e99762dfc",
   "metadata": {},
   "outputs": [
    {
     "data": {
      "text/plain": [
       "bs4.BeautifulSoup"
      ]
     },
     "execution_count": 10,
     "metadata": {},
     "output_type": "execute_result"
    }
   ],
   "source": [
    "type(soup)\n"
   ]
  },
  {
   "cell_type": "code",
   "execution_count": 11,
   "id": "f63506a1-7e31-493c-aeb5-cd97faf3dd11",
   "metadata": {
    "scrolled": true,
    "tags": []
   },
   "outputs": [
    {
     "data": {
      "text/plain": [
       "<div class=\"_1YokD2 _3Mn1Gg\" style=\"flex-grow:1;overflow:auto\"><div class=\"_1YokD2 _2GoDe3 col-12-12\" style=\"background-color:#ffffff;align-items:flex-end\"><div class=\"_1AtVbE\" style=\"flex-grow:1;overflow:auto\"><div class=\"W_R1IA\"><div class=\"_1MR4o5\"><div class=\"_3GIHBu\"><a class=\"_2whKao\" href=\"/\">Home</a><svg class=\"_39X-Og\" height=\"27\" viewbox=\"0 0 16 27\" width=\"16\" xmlns=\"http://www.w3.org/2000/svg\"><path class=\"DpXnhQ\" d=\"M16 23.207L6.11 13.161 16 3.093 12.955 0 0 13.161l12.955 13.161z\" fill=\"#fff\"></path></svg></div><div class=\"_3GIHBu\"><a class=\"_2whKao\" href=\"/mobiles-accessories/pr?sid=tyy&amp;marketplace=FLIPKART\">Mobiles &amp; Accessories</a><svg class=\"_39X-Og\" height=\"27\" viewbox=\"0 0 16 27\" width=\"16\" xmlns=\"http://www.w3.org/2000/svg\"><path class=\"DpXnhQ\" d=\"M16 23.207L6.11 13.161 16 3.093 12.955 0 0 13.161l12.955 13.161z\" fill=\"#fff\"></path></svg></div><div class=\"_3GIHBu\"><a class=\"_2whKao\" href=\"/mobiles/pr?sid=tyy,4io&amp;marketplace=FLIPKART\">Mobiles</a><svg class=\"_39X-Og\" height=\"27\" viewbox=\"0 0 16 27\" width=\"16\" xmlns=\"http://www.w3.org/2000/svg\"><path class=\"DpXnhQ\" d=\"M16 23.207L6.11 13.161 16 3.093 12.955 0 0 13.161l12.955 13.161z\" fill=\"#fff\"></path></svg></div></div><span class=\"_10Ermr\">Showing 1 – 24 of 5,846 results for \"<span>smart phones</span>\"</span><div class=\"_5THWM1\"><span class=\"_2i7N3j\">Sort By</span><div class=\"_10UF8M _3LsR0e\">Relevance</div><div class=\"_10UF8M\">Popularity</div><div class=\"_10UF8M\">Price -- Low to High</div><div class=\"_10UF8M\">Price -- High to Low</div><div class=\"_10UF8M\">Newest First</div></div></div></div></div><div class=\"_1AtVbE col-12-12\"><div class=\"_13oc-S\"><div data-id=\"MOBGF489SQZCFHYA\" style=\"width:100%\"><div class=\"_2kHMtA\"><a class=\"_1fQZEK\" href=\"/realme-c20-cool-grey-32-gb/p/itmea1903897436b?pid=MOBGF489SQZCFHYA&amp;lid=LSTMOBGF489SQZCFHYAGB7SDS&amp;marketplace=FLIPKART&amp;q=smart+phones&amp;store=tyy%2F4io&amp;srno=s_1_1&amp;otracker=search&amp;fm=organic&amp;iid=6da0fea3-9ba2-4282-b413-53bba747be99.MOBGF489SQZCFHYA.SEARCH&amp;ppt=None&amp;ppn=None&amp;ssid=1eru8fsdmo0000001623816938871&amp;qH=a5594894156db043\" rel=\"noopener noreferrer\" target=\"_blank\"><div class=\"MIXNux\"><div class=\"_2QcLo-\"><div><div class=\"CXW8mj\" style=\"height:200px;width:200px\"><img alt=\"realme C20 (Cool Grey, 32 GB)\" class=\"_396cs4 _3exPp9\" src=\"https://rukminim1.flixcart.com/image/312/312/kn7sdjk0/mobile/7/9/u/c20-rmx3063-realme-original-imagfxfzjrkqtbhe.jpeg?q=70\"/></div></div></div><div class=\"_3wLduG\"><div class=\"_3PzNI-\"><span class=\"f3A4_V\"><label class=\"_2iDkf8\"><input class=\"_30VH1S\" readonly=\"\" type=\"checkbox\"/><div class=\"_24_Dny\"></div></label></span><label class=\"_6Up2sF\"><span>Add to Compare</span></label></div></div><div class=\"_2hVSre _3nq8ih\"><div class=\"_36FSn5\"><svg class=\"_1l0elc\" height=\"16\" viewbox=\"0 0 20 16\" width=\"16\" xmlns=\"http://www.w3.org/2000/svg\"><path class=\"eX72wL\" d=\"M8.695 16.682C4.06 12.382 1 9.536 1 6.065 1 3.219 3.178 1 5.95 1c1.566 0 3.069.746 4.05 1.915C10.981 1.745 12.484 1 14.05 1 16.822 1 19 3.22 19 6.065c0 3.471-3.06 6.316-7.695 10.617L10 17.897l-1.305-1.215z\" fill=\"#2874F0\" fill-rule=\"evenodd\" opacity=\".9\" stroke=\"#FFF\"></path></svg></div></div></div><div class=\"_3pLy-c row\"><div class=\"col col-7-12\"><div class=\"_4rR01T\">realme C20 (Cool Grey, 32 GB)</div><div class=\"gUuXy-\"><span class=\"_1lRcqv\" id=\"productRating_LSTMOBGF489SQZCFHYAGB7SDS_MOBGF489SQZCFHYA_\"><div class=\"_3LWZlK\">4.3<img class=\"_1wB99o\" src=\"data:image/svg+xml;base64,PHN2ZyB4bWxucz0iaHR0cDovL3d3dy53My5vcmcvMjAwMC9zdmciIHdpZHRoPSIxMyIgaGVpZ2h0PSIxMiI+PHBhdGggZmlsbD0iI0ZGRiIgZD0iTTYuNSA5LjQzOWwtMy42NzQgMi4yMy45NC00LjI2LTMuMjEtMi44ODMgNC4yNTQtLjQwNEw2LjUuMTEybDEuNjkgNC4wMSA0LjI1NC40MDQtMy4yMSAyLjg4Mi45NCA0LjI2eiIvPjwvc3ZnPg==\"/></div></span><span class=\"_2_R_DZ\"><span><span>40,003 Ratings </span><span class=\"_13vcmD\">&amp;</span><span> 1,860 Reviews</span></span></span></div><div class=\"fMghEO\"><ul class=\"_1xgFaf\"><li class=\"rgWa7D\">2 GB RAM | 32 GB ROM | Expandable Upto 256 GB</li><li class=\"rgWa7D\">16.51 cm (6.5 inch) HD+ Display</li><li class=\"rgWa7D\">8MP Rear Camera | 5MP Front Camera</li><li class=\"rgWa7D\">5000 mAh Battery</li><li class=\"rgWa7D\">MediaTek Helio G35 Processor</li><li class=\"rgWa7D\">1 Year Warranty for Mobile and 6 Months for Accessories</li></ul></div></div><div class=\"col col-5-12 nlI3QM\"><div class=\"_3tbKJL\"><div class=\"_25b18c\"><div class=\"_30jeq3 _1_WHN1\">₹6,799</div><div class=\"_3I9_wc _27UcVY\">₹<!-- -->7,999</div><div class=\"_3Ay6Sb\"><span>15% off</span></div></div></div><div class=\"_13J9qT\"><img height=\"21\" src=\"//static-assets-web.flixcart.com/www/linchpin/fk-cp-zion/img/fa_62673a.png\"/></div><div class=\"_2ZdXDB\"><div class=\"_3xFhiH\"><div class=\"_2Tpdn3 _18hQoS\" style=\"color:#000000;font-size:14px;font-style:normal;font-weight:400\">Upto </div><div class=\"_2Tpdn3 _18hQoS\" style=\"color:#000000;font-size:14px;font-style:normal;font-weight:700\">₹6,250</div><div class=\"_2Tpdn3 _18hQoS\" style=\"color:#000000;font-size:14px;font-style:normal;font-weight:400\"> Off on Exchange</div></div></div></div></div></a></div></div></div></div><div class=\"_1AtVbE col-12-12\"><div class=\"_13oc-S\"><div data-id=\"MOBGF4894MEWZJGV\" style=\"width:100%\"><div class=\"_2kHMtA\"><a class=\"_1fQZEK\" href=\"/realme-c20-cool-blue-32-gb/p/itmea1903897436b?pid=MOBGF4894MEWZJGV&amp;lid=LSTMOBGF4894MEWZJGVW425N5&amp;marketplace=FLIPKART&amp;q=smart+phones&amp;store=tyy%2F4io&amp;srno=s_1_2&amp;otracker=search&amp;fm=organic&amp;iid=6da0fea3-9ba2-4282-b413-53bba747be99.MOBGF4894MEWZJGV.SEARCH&amp;ppt=None&amp;ppn=None&amp;ssid=1eru8fsdmo0000001623816938871&amp;qH=a5594894156db043\" rel=\"noopener noreferrer\" target=\"_blank\"><div class=\"MIXNux\"><div class=\"_2QcLo-\"><div><div class=\"CXW8mj\" style=\"height:200px;width:200px\"><img alt=\"realme C20 (Cool Blue, 32 GB)\" class=\"_396cs4 _3exPp9\" src=\"https://rukminim1.flixcart.com/image/312/312/kn7sdjk0/mobile/w/h/q/c20-rmx3063-realme-original-imagfxfzay72jqvh.jpeg?q=70\"/></div></div></div><div class=\"_3wLduG\"><div class=\"_3PzNI-\"><span class=\"f3A4_V\"><label class=\"_2iDkf8\"><input class=\"_30VH1S\" readonly=\"\" type=\"checkbox\"/><div class=\"_24_Dny\"></div></label></span><label class=\"_6Up2sF\"><span>Add to Compare</span></label></div></div><div class=\"_2hVSre _3nq8ih\"><div class=\"_36FSn5\"><svg class=\"_1l0elc\" height=\"16\" viewbox=\"0 0 20 16\" width=\"16\" xmlns=\"http://www.w3.org/2000/svg\"><path class=\"eX72wL\" d=\"M8.695 16.682C4.06 12.382 1 9.536 1 6.065 1 3.219 3.178 1 5.95 1c1.566 0 3.069.746 4.05 1.915C10.981 1.745 12.484 1 14.05 1 16.822 1 19 3.22 19 6.065c0 3.471-3.06 6.316-7.695 10.617L10 17.897l-1.305-1.215z\" fill=\"#2874F0\" fill-rule=\"evenodd\" opacity=\".9\" stroke=\"#FFF\"></path></svg></div></div></div><div class=\"_3pLy-c row\"><div class=\"col col-7-12\"><div class=\"_4rR01T\">realme C20 (Cool Blue, 32 GB)</div><div class=\"gUuXy-\"><span class=\"_1lRcqv\" id=\"productRating_LSTMOBGF4894MEWZJGVW425N5_MOBGF4894MEWZJGV_\"><div class=\"_3LWZlK\">4.3<img class=\"_1wB99o\" src=\"data:image/svg+xml;base64,PHN2ZyB4bWxucz0iaHR0cDovL3d3dy53My5vcmcvMjAwMC9zdmciIHdpZHRoPSIxMyIgaGVpZ2h0PSIxMiI+PHBhdGggZmlsbD0iI0ZGRiIgZD0iTTYuNSA5LjQzOWwtMy42NzQgMi4yMy45NC00LjI2LTMuMjEtMi44ODMgNC4yNTQtLjQwNEw2LjUuMTEybDEuNjkgNC4wMSA0LjI1NC40MDQtMy4yMSAyLjg4Mi45NCA0LjI2eiIvPjwvc3ZnPg==\"/></div></span><span class=\"_2_R_DZ\"><span><span>40,003 Ratings </span><span class=\"_13vcmD\">&amp;</span><span> 1,860 Reviews</span></span></span></div><div class=\"fMghEO\"><ul class=\"_1xgFaf\"><li class=\"rgWa7D\">2 GB RAM | 32 GB ROM | Expandable Upto 256 GB</li><li class=\"rgWa7D\">16.51 cm (6.5 inch) HD+ Display</li><li class=\"rgWa7D\">8MP Rear Camera | 5MP Front Camera</li><li class=\"rgWa7D\">5000 mAh Battery</li><li class=\"rgWa7D\">MediaTek Helio G35 Processor</li><li class=\"rgWa7D\">1 Year Warranty for Mobile and 6 Months for Accessories</li></ul></div></div><div class=\"col col-5-12 nlI3QM\"><div class=\"_3tbKJL\"><div class=\"_25b18c\"><div class=\"_30jeq3 _1_WHN1\">₹6,799</div><div class=\"_3I9_wc _27UcVY\">₹<!-- -->7,999</div><div class=\"_3Ay6Sb\"><span>15% off</span></div></div></div><div class=\"_13J9qT\"><img height=\"21\" src=\"//static-assets-web.flixcart.com/www/linchpin/fk-cp-zion/img/fa_62673a.png\"/></div></div></div></a></div></div></div></div><div class=\"_1AtVbE col-12-12\"><div class=\"_13oc-S\"><div data-id=\"MOBFV8RYKWQ3HACE\" style=\"width:100%\"><div class=\"_2kHMtA\"><a class=\"_1fQZEK\" href=\"/redmi-9i-midnight-black-64-gb/p/itm0e1018dac2627?pid=MOBFV8RYKWQ3HACE&amp;lid=LSTMOBFV8RYKWQ3HACEV2QOWQ&amp;marketplace=FLIPKART&amp;q=smart+phones&amp;store=tyy%2F4io&amp;srno=s_1_3&amp;otracker=search&amp;fm=organic&amp;iid=6da0fea3-9ba2-4282-b413-53bba747be99.MOBFV8RYKWQ3HACE.SEARCH&amp;ppt=None&amp;ppn=None&amp;ssid=1eru8fsdmo0000001623816938871&amp;qH=a5594894156db043\" rel=\"noopener noreferrer\" target=\"_blank\"><div class=\"MIXNux\"><div class=\"_2QcLo-\"><div><div class=\"CXW8mj\" style=\"height:200px;width:200px\"><img alt=\"REDMI 9i (Midnight Black, 64 GB)\" class=\"_396cs4 _3exPp9\" src=\"https://rukminim1.flixcart.com/image/312/312/kesv0y80/mobile/h/p/q/redmi-9i-mzb0814in-original-imafvehkgzghyqtp.jpeg?q=70\"/></div></div></div><div class=\"_3wLduG\"><div class=\"_3PzNI-\"><span class=\"f3A4_V\"><label class=\"_2iDkf8\"><input class=\"_30VH1S\" readonly=\"\" type=\"checkbox\"/><div class=\"_24_Dny\"></div></label></span><label class=\"_6Up2sF\"><span>Add to Compare</span></label></div></div><div class=\"_2hVSre _3nq8ih\"><div class=\"_36FSn5\"><svg class=\"_1l0elc\" height=\"16\" viewbox=\"0 0 20 16\" width=\"16\" xmlns=\"http://www.w3.org/2000/svg\"><path class=\"eX72wL\" d=\"M8.695 16.682C4.06 12.382 1 9.536 1 6.065 1 3.219 3.178 1 5.95 1c1.566 0 3.069.746 4.05 1.915C10.981 1.745 12.484 1 14.05 1 16.822 1 19 3.22 19 6.065c0 3.471-3.06 6.316-7.695 10.617L10 17.897l-1.305-1.215z\" fill=\"#2874F0\" fill-rule=\"evenodd\" opacity=\".9\" stroke=\"#FFF\"></path></svg></div></div></div><div class=\"_3pLy-c row\"><div class=\"col col-7-12\"><div class=\"_4rR01T\">REDMI 9i (Midnight Black, 64 GB)</div><div class=\"gUuXy-\"><span class=\"_1lRcqv\" id=\"productRating_LSTMOBFV8RYKWQ3HACEV2QOWQ_MOBFV8RYKWQ3HACE_\"><div class=\"_3LWZlK\">4.3<img class=\"_1wB99o\" src=\"data:image/svg+xml;base64,PHN2ZyB4bWxucz0iaHR0cDovL3d3dy53My5vcmcvMjAwMC9zdmciIHdpZHRoPSIxMyIgaGVpZ2h0PSIxMiI+PHBhdGggZmlsbD0iI0ZGRiIgZD0iTTYuNSA5LjQzOWwtMy42NzQgMi4yMy45NC00LjI2LTMuMjEtMi44ODMgNC4yNTQtLjQwNEw2LjUuMTEybDEuNjkgNC4wMSA0LjI1NC40MDQtMy4yMSAyLjg4Mi45NCA0LjI2eiIvPjwvc3ZnPg==\"/></div></span><span class=\"_2_R_DZ\"><span><span>3,15,436 Ratings </span><span class=\"_13vcmD\">&amp;</span><span> 17,910 Reviews</span></span></span></div><div class=\"fMghEO\"><ul class=\"_1xgFaf\"><li class=\"rgWa7D\">4 GB RAM | 64 GB ROM | Expandable Upto 512 GB</li><li class=\"rgWa7D\">16.59 cm (6.53 inch) HD+ Display</li><li class=\"rgWa7D\">13MP Rear Camera | 5MP Front Camera</li><li class=\"rgWa7D\">5000 mAh Lithium Polymer Battery</li><li class=\"rgWa7D\">MediaTek Helio G25 Processor</li><li class=\"rgWa7D\">Brand Warranty of 1 Year Available for Mobile and 6 Months for Accessories</li></ul></div></div><div class=\"col col-5-12 nlI3QM\"><div class=\"_3tbKJL\"><div class=\"_25b18c\"><div class=\"_30jeq3 _1_WHN1\">₹7,999</div><div class=\"_3I9_wc _27UcVY\">₹<!-- -->9,999</div><div class=\"_3Ay6Sb\"><span>20% off</span></div></div></div><div class=\"_13J9qT\"><img height=\"21\" src=\"//static-assets-web.flixcart.com/www/linchpin/fk-cp-zion/img/fa_62673a.png\"/></div><div class=\"_2ZdXDB\"><div class=\"_3xFhiH\"><div class=\"_2Tpdn3 _18hQoS\" style=\"color:#000000;font-size:14px;font-style:normal;font-weight:400\">Upto </div><div class=\"_2Tpdn3 _18hQoS\" style=\"color:#000000;font-size:14px;font-style:normal;font-weight:700\">₹7,450</div><div class=\"_2Tpdn3 _18hQoS\" style=\"color:#000000;font-size:14px;font-style:normal;font-weight:400\"> Off on Exchange</div></div></div></div></div></a></div></div></div></div><div class=\"_1AtVbE col-12-12\"><div class=\"_13oc-S\"><div data-id=\"MOBFZX3HUEEMQUPZ\" style=\"width:100%\"><div class=\"_2kHMtA\"><a class=\"_1fQZEK\" href=\"/infinix-smart-5-aegean-blue-32-gb/p/itm8d968c7fe7d88?pid=MOBFZX3HUEEMQUPZ&amp;lid=LSTMOBFZX3HUEEMQUPZT01YKM&amp;marketplace=FLIPKART&amp;q=smart+phones&amp;store=tyy%2F4io&amp;srno=s_1_4&amp;otracker=search&amp;fm=organic&amp;iid=6da0fea3-9ba2-4282-b413-53bba747be99.MOBFZX3HUEEMQUPZ.SEARCH&amp;ppt=None&amp;ppn=None&amp;ssid=1eru8fsdmo0000001623816938871&amp;qH=a5594894156db043\" rel=\"noopener noreferrer\" target=\"_blank\"><div class=\"MIXNux\"><div class=\"_2QcLo-\"><div><div class=\"CXW8mj\" style=\"height:200px;width:200px\"><img alt=\"Infinix Smart 5 (Aegean Blue, 32 GB)\" class=\"_396cs4 _3exPp9\" src=\"https://rukminim1.flixcart.com/image/312/312/kkyc9zk0/mobile/9/9/b/smart-5-x688c-infinix-original-imagy6wkafwrgj9z.jpeg?q=70\"/></div></div></div><div class=\"_3wLduG\"><div class=\"_3PzNI-\"><span class=\"f3A4_V\"><label class=\"_2iDkf8\"><input class=\"_30VH1S\" readonly=\"\" type=\"checkbox\"/><div class=\"_24_Dny\"></div></label></span><label class=\"_6Up2sF\"><span>Add to Compare</span></label></div></div><div class=\"_2hVSre _3nq8ih\"><div class=\"_36FSn5\"><svg class=\"_1l0elc\" height=\"16\" viewbox=\"0 0 20 16\" width=\"16\" xmlns=\"http://www.w3.org/2000/svg\"><path class=\"eX72wL\" d=\"M8.695 16.682C4.06 12.382 1 9.536 1 6.065 1 3.219 3.178 1 5.95 1c1.566 0 3.069.746 4.05 1.915C10.981 1.745 12.484 1 14.05 1 16.822 1 19 3.22 19 6.065c0 3.471-3.06 6.316-7.695 10.617L10 17.897l-1.305-1.215z\" fill=\"#2874F0\" fill-rule=\"evenodd\" opacity=\".9\" stroke=\"#FFF\"></path></svg></div></div></div><div class=\"_3pLy-c row\"><div class=\"col col-7-12\"><div class=\"_4rR01T\">Infinix Smart 5 (Aegean Blue, 32 GB)</div><div class=\"gUuXy-\"><span class=\"_1lRcqv\" id=\"productRating_LSTMOBFZX3HUEEMQUPZT01YKM_MOBFZX3HUEEMQUPZ_\"><div class=\"_3LWZlK\">4.4<img class=\"_1wB99o\" src=\"data:image/svg+xml;base64,PHN2ZyB4bWxucz0iaHR0cDovL3d3dy53My5vcmcvMjAwMC9zdmciIHdpZHRoPSIxMyIgaGVpZ2h0PSIxMiI+PHBhdGggZmlsbD0iI0ZGRiIgZD0iTTYuNSA5LjQzOWwtMy42NzQgMi4yMy45NC00LjI2LTMuMjEtMi44ODMgNC4yNTQtLjQwNEw2LjUuMTEybDEuNjkgNC4wMSA0LjI1NC40MDQtMy4yMSAyLjg4Mi45NCA0LjI2eiIvPjwvc3ZnPg==\"/></div></span><span class=\"_2_R_DZ\"><span><span>22,393 Ratings </span><span class=\"_13vcmD\">&amp;</span><span> 1,726 Reviews</span></span></span></div><div class=\"fMghEO\"><ul class=\"_1xgFaf\"><li class=\"rgWa7D\">2 GB RAM | 32 GB ROM | Expandable Upto 256 GB</li><li class=\"rgWa7D\">17.32 cm (6.82 inch) HD+ Display</li><li class=\"rgWa7D\">13MP + Low Light Sensor | 8MP Front Camera</li><li class=\"rgWa7D\">6000 mAh Li-ion Polymer Battery</li><li class=\"rgWa7D\">MediaTek Helio G25 Processor</li><li class=\"rgWa7D\">1 Year on Handset and 6 Months on Accessories</li></ul></div></div><div class=\"col col-5-12 nlI3QM\"><div class=\"_3tbKJL\"><div class=\"_25b18c\"><div class=\"_30jeq3 _1_WHN1\">₹6,799</div><div class=\"_3I9_wc _27UcVY\">₹<!-- -->8,999</div><div class=\"_3Ay6Sb\"><span>24% off</span></div></div></div><div class=\"_13J9qT\"><img height=\"21\" src=\"//static-assets-web.flixcart.com/www/linchpin/fk-cp-zion/img/fa_62673a.png\"/></div><div class=\"_2ZdXDB\"><div class=\"_3xFhiH\"><div class=\"_2Tpdn3 _18hQoS\" style=\"color:#000000;font-size:14px;font-style:normal;font-weight:400\">Upto </div><div class=\"_2Tpdn3 _18hQoS\" style=\"color:#000000;font-size:14px;font-style:normal;font-weight:700\">₹6,250</div><div class=\"_2Tpdn3 _18hQoS\" style=\"color:#000000;font-size:14px;font-style:normal;font-weight:400\"> Off on Exchange</div></div></div></div></div></a></div></div></div></div><div class=\"_1AtVbE col-12-12\"><div class=\"_13oc-S\"><div data-id=\"MOBFZX3H2ARU2GHY\" style=\"width:100%\"><div class=\"_2kHMtA\"><a class=\"_1fQZEK\" href=\"/infinix-smart-5-morandi-green-32-gb/p/itm8d968c7fe7d88?pid=MOBFZX3H2ARU2GHY&amp;lid=LSTMOBFZX3H2ARU2GHY5J5UTT&amp;marketplace=FLIPKART&amp;q=smart+phones&amp;store=tyy%2F4io&amp;srno=s_1_5&amp;otracker=search&amp;fm=organic&amp;iid=6da0fea3-9ba2-4282-b413-53bba747be99.MOBFZX3H2ARU2GHY.SEARCH&amp;ppt=None&amp;ppn=None&amp;ssid=1eru8fsdmo0000001623816938871&amp;qH=a5594894156db043\" rel=\"noopener noreferrer\" target=\"_blank\"><div class=\"MIXNux\"><div class=\"_2QcLo-\"><div><div class=\"CXW8mj\" style=\"height:200px;width:200px\"><img alt=\"Infinix Smart 5 (Morandi Green, 32 GB)\" class=\"_396cs4 _3exPp9\" src=\"https://rukminim1.flixcart.com/image/312/312/kkyc9zk0/mobile/a/z/x/smart-5-x688c-infinix-original-imagy6wkzsgghduf.jpeg?q=70\"/></div></div></div><div class=\"_3wLduG\"><div class=\"_3PzNI-\"><span class=\"f3A4_V\"><label class=\"_2iDkf8\"><input class=\"_30VH1S\" readonly=\"\" type=\"checkbox\"/><div class=\"_24_Dny\"></div></label></span><label class=\"_6Up2sF\"><span>Add to Compare</span></label></div></div><div class=\"_2hVSre _3nq8ih\"><div class=\"_36FSn5\"><svg class=\"_1l0elc\" height=\"16\" viewbox=\"0 0 20 16\" width=\"16\" xmlns=\"http://www.w3.org/2000/svg\"><path class=\"eX72wL\" d=\"M8.695 16.682C4.06 12.382 1 9.536 1 6.065 1 3.219 3.178 1 5.95 1c1.566 0 3.069.746 4.05 1.915C10.981 1.745 12.484 1 14.05 1 16.822 1 19 3.22 19 6.065c0 3.471-3.06 6.316-7.695 10.617L10 17.897l-1.305-1.215z\" fill=\"#2874F0\" fill-rule=\"evenodd\" opacity=\".9\" stroke=\"#FFF\"></path></svg></div></div></div><div class=\"_3pLy-c row\"><div class=\"col col-7-12\"><div class=\"_4rR01T\">Infinix Smart 5 (Morandi Green, 32 GB)</div><div class=\"gUuXy-\"><span class=\"_1lRcqv\" id=\"productRating_LSTMOBFZX3H2ARU2GHY5J5UTT_MOBFZX3H2ARU2GHY_\"><div class=\"_3LWZlK\">4.4<img class=\"_1wB99o\" src=\"data:image/svg+xml;base64,PHN2ZyB4bWxucz0iaHR0cDovL3d3dy53My5vcmcvMjAwMC9zdmciIHdpZHRoPSIxMyIgaGVpZ2h0PSIxMiI+PHBhdGggZmlsbD0iI0ZGRiIgZD0iTTYuNSA5LjQzOWwtMy42NzQgMi4yMy45NC00LjI2LTMuMjEtMi44ODMgNC4yNTQtLjQwNEw2LjUuMTEybDEuNjkgNC4wMSA0LjI1NC40MDQtMy4yMSAyLjg4Mi45NCA0LjI2eiIvPjwvc3ZnPg==\"/></div></span><span class=\"_2_R_DZ\"><span><span>22,393 Ratings </span><span class=\"_13vcmD\">&amp;</span><span> 1,726 Reviews</span></span></span></div><div class=\"fMghEO\"><ul class=\"_1xgFaf\"><li class=\"rgWa7D\">2 GB RAM | 32 GB ROM | Expandable Upto 256 GB</li><li class=\"rgWa7D\">17.32 cm (6.82 inch) HD+ Display</li><li class=\"rgWa7D\">13MP + Low Light Sensor | 8MP Front Camera</li><li class=\"rgWa7D\">6000 mAh Li-ion Polymer Battery</li><li class=\"rgWa7D\">MediaTek Helio G25 Processor</li><li class=\"rgWa7D\">1 Year on Handset and 6 Months on Accessories</li></ul></div></div><div class=\"col col-5-12 nlI3QM\"><div class=\"_3tbKJL\"><div class=\"_25b18c\"><div class=\"_30jeq3 _1_WHN1\">₹6,799</div><div class=\"_3I9_wc _27UcVY\">₹<!-- -->8,999</div><div class=\"_3Ay6Sb\"><span>24% off</span></div></div></div><div class=\"_13J9qT\"><img height=\"21\" src=\"//static-assets-web.flixcart.com/www/linchpin/fk-cp-zion/img/fa_62673a.png\"/></div><div class=\"_2ZdXDB\"><div class=\"_3xFhiH\"><div class=\"_2Tpdn3 _18hQoS\" style=\"color:#000000;font-size:14px;font-style:normal;font-weight:400\">Upto </div><div class=\"_2Tpdn3 _18hQoS\" style=\"color:#000000;font-size:14px;font-style:normal;font-weight:700\">₹6,250</div><div class=\"_2Tpdn3 _18hQoS\" style=\"color:#000000;font-size:14px;font-style:normal;font-weight:400\"> Off on Exchange</div></div></div></div></div></a></div></div></div></div><div class=\"_1AtVbE col-12-12\"><div class=\"_13oc-S\"><div data-id=\"MOBFZX3HAVZ3KQFW\" style=\"width:100%\"><div class=\"_2kHMtA\"><a class=\"_1fQZEK\" href=\"/infinix-smart-5-7-purple-32-gb/p/itm8d968c7fe7d88?pid=MOBFZX3HAVZ3KQFW&amp;lid=LSTMOBFZX3HAVZ3KQFWG0XKOM&amp;marketplace=FLIPKART&amp;q=smart+phones&amp;store=tyy%2F4io&amp;srno=s_1_6&amp;otracker=search&amp;fm=organic&amp;iid=6da0fea3-9ba2-4282-b413-53bba747be99.MOBFZX3HAVZ3KQFW.SEARCH&amp;ppt=None&amp;ppn=None&amp;ssid=1eru8fsdmo0000001623816938871&amp;qH=a5594894156db043\" rel=\"noopener noreferrer\" target=\"_blank\"><div class=\"MIXNux\"><div class=\"_2QcLo-\"><div><div class=\"CXW8mj\" style=\"height:200px;width:200px\"><img alt=\"Infinix Smart 5 (7° Purple, 32 GB)\" class=\"_396cs4 _3exPp9\" src=\"https://rukminim1.flixcart.com/image/312/312/kkyc9zk0/mobile/b/f/h/smart-5-x688c-infinix-original-imagy6wk8amhrdrg.jpeg?q=70\"/></div></div></div><div class=\"_3wLduG\"><div class=\"_3PzNI-\"><span class=\"f3A4_V\"><label class=\"_2iDkf8\"><input class=\"_30VH1S\" readonly=\"\" type=\"checkbox\"/><div class=\"_24_Dny\"></div></label></span><label class=\"_6Up2sF\"><span>Add to Compare</span></label></div></div><div class=\"_2hVSre _3nq8ih\"><div class=\"_36FSn5\"><svg class=\"_1l0elc\" height=\"16\" viewbox=\"0 0 20 16\" width=\"16\" xmlns=\"http://www.w3.org/2000/svg\"><path class=\"eX72wL\" d=\"M8.695 16.682C4.06 12.382 1 9.536 1 6.065 1 3.219 3.178 1 5.95 1c1.566 0 3.069.746 4.05 1.915C10.981 1.745 12.484 1 14.05 1 16.822 1 19 3.22 19 6.065c0 3.471-3.06 6.316-7.695 10.617L10 17.897l-1.305-1.215z\" fill=\"#2874F0\" fill-rule=\"evenodd\" opacity=\".9\" stroke=\"#FFF\"></path></svg></div></div></div><div class=\"_3pLy-c row\"><div class=\"col col-7-12\"><div class=\"_4rR01T\">Infinix Smart 5 (7° Purple, 32 GB)</div><div class=\"gUuXy-\"><span class=\"_1lRcqv\" id=\"productRating_LSTMOBFZX3HAVZ3KQFWG0XKOM_MOBFZX3HAVZ3KQFW_\"><div class=\"_3LWZlK\">4.4<img class=\"_1wB99o\" src=\"data:image/svg+xml;base64,PHN2ZyB4bWxucz0iaHR0cDovL3d3dy53My5vcmcvMjAwMC9zdmciIHdpZHRoPSIxMyIgaGVpZ2h0PSIxMiI+PHBhdGggZmlsbD0iI0ZGRiIgZD0iTTYuNSA5LjQzOWwtMy42NzQgMi4yMy45NC00LjI2LTMuMjEtMi44ODMgNC4yNTQtLjQwNEw2LjUuMTEybDEuNjkgNC4wMSA0LjI1NC40MDQtMy4yMSAyLjg4Mi45NCA0LjI2eiIvPjwvc3ZnPg==\"/></div></span><span class=\"_2_R_DZ\"><span><span>22,393 Ratings </span><span class=\"_13vcmD\">&amp;</span><span> 1,726 Reviews</span></span></span></div><div class=\"fMghEO\"><ul class=\"_1xgFaf\"><li class=\"rgWa7D\">2 GB RAM | 32 GB ROM | Expandable Upto 256 GB</li><li class=\"rgWa7D\">17.32 cm (6.82 inch) HD+ Display</li><li class=\"rgWa7D\">13MP + Low Light Sensor | 8MP Front Camera</li><li class=\"rgWa7D\">6000 mAh Li-ion Polymer Battery</li><li class=\"rgWa7D\">MediaTek Helio G25 Processor</li><li class=\"rgWa7D\">1 Year on Handset and 6 Months on Accessories</li></ul></div></div><div class=\"col col-5-12 nlI3QM\"><div class=\"_3tbKJL\"><div class=\"_25b18c\"><div class=\"_30jeq3 _1_WHN1\">₹6,799</div><div class=\"_3I9_wc _27UcVY\">₹<!-- -->8,999</div><div class=\"_3Ay6Sb\"><span>24% off</span></div></div></div><div class=\"_13J9qT\"><img height=\"21\" src=\"//static-assets-web.flixcart.com/www/linchpin/fk-cp-zion/img/fa_62673a.png\"/></div><div class=\"_2ZdXDB\"><div class=\"_3xFhiH\"><div class=\"_2Tpdn3 _18hQoS\" style=\"color:#000000;font-size:14px;font-style:normal;font-weight:400\">Upto </div><div class=\"_2Tpdn3 _18hQoS\" style=\"color:#000000;font-size:14px;font-style:normal;font-weight:700\">₹6,250</div><div class=\"_2Tpdn3 _18hQoS\" style=\"color:#000000;font-size:14px;font-style:normal;font-weight:400\"> Off on Exchange</div></div></div></div></div></a></div></div></div></div><div class=\"_1AtVbE col-12-12\"><div class=\"_13oc-S\"><div data-id=\"MOBGF489G9HRWFZ9\" style=\"width:100%\"><div class=\"_2kHMtA\"><a class=\"_1fQZEK\" href=\"/realme-c21-cross-black-64-gb/p/itmf4062d3f37c1a?pid=MOBGF489G9HRWFZ9&amp;lid=LSTMOBGF489G9HRWFZ9BYFZCR&amp;marketplace=FLIPKART&amp;q=smart+phones&amp;store=tyy%2F4io&amp;srno=s_1_7&amp;otracker=search&amp;fm=organic&amp;iid=6da0fea3-9ba2-4282-b413-53bba747be99.MOBGF489G9HRWFZ9.SEARCH&amp;ppt=None&amp;ppn=None&amp;ssid=1eru8fsdmo0000001623816938871&amp;qH=a5594894156db043\" rel=\"noopener noreferrer\" target=\"_blank\"><div class=\"MIXNux\"><div class=\"_2QcLo-\"><div><div class=\"CXW8mj\" style=\"height:200px;width:200px\"><img alt=\"realme C21 (Cross Black, 64 GB)\" class=\"_396cs4 _3exPp9\" src=\"https://rukminim1.flixcart.com/image/312/312/kn7sdjk0/mobile/q/j/x/c21-rmx3201-realme-original-imagfxfwbszrxkvu.jpeg?q=70\"/></div></div></div><div class=\"_3wLduG\"><div class=\"_3PzNI-\"><span class=\"f3A4_V\"><label class=\"_2iDkf8\"><input class=\"_30VH1S\" readonly=\"\" type=\"checkbox\"/><div class=\"_24_Dny\"></div></label></span><label class=\"_6Up2sF\"><span>Add to Compare</span></label></div></div><div class=\"_2hVSre _3nq8ih\"><div class=\"_36FSn5\"><svg class=\"_1l0elc\" height=\"16\" viewbox=\"0 0 20 16\" width=\"16\" xmlns=\"http://www.w3.org/2000/svg\"><path class=\"eX72wL\" d=\"M8.695 16.682C4.06 12.382 1 9.536 1 6.065 1 3.219 3.178 1 5.95 1c1.566 0 3.069.746 4.05 1.915C10.981 1.745 12.484 1 14.05 1 16.822 1 19 3.22 19 6.065c0 3.471-3.06 6.316-7.695 10.617L10 17.897l-1.305-1.215z\" fill=\"#2874F0\" fill-rule=\"evenodd\" opacity=\".9\" stroke=\"#FFF\"></path></svg></div></div></div><div class=\"_3pLy-c row\"><div class=\"col col-7-12\"><div class=\"_4rR01T\">realme C21 (Cross Black, 64 GB)</div><div class=\"gUuXy-\"><span class=\"_1lRcqv\" id=\"productRating_LSTMOBGF489G9HRWFZ9BYFZCR_MOBGF489G9HRWFZ9_\"><div class=\"_3LWZlK\">4.4<img class=\"_1wB99o\" src=\"data:image/svg+xml;base64,PHN2ZyB4bWxucz0iaHR0cDovL3d3dy53My5vcmcvMjAwMC9zdmciIHdpZHRoPSIxMyIgaGVpZ2h0PSIxMiI+PHBhdGggZmlsbD0iI0ZGRiIgZD0iTTYuNSA5LjQzOWwtMy42NzQgMi4yMy45NC00LjI2LTMuMjEtMi44ODMgNC4yNTQtLjQwNEw2LjUuMTEybDEuNjkgNC4wMSA0LjI1NC40MDQtMy4yMSAyLjg4Mi45NCA0LjI2eiIvPjwvc3ZnPg==\"/></div></span><span class=\"_2_R_DZ\"><span><span>19,819 Ratings </span><span class=\"_13vcmD\">&amp;</span><span> 826 Reviews</span></span></span></div><div class=\"fMghEO\"><ul class=\"_1xgFaf\"><li class=\"rgWa7D\">4 GB RAM | 64 GB ROM | Expandable Upto 256 GB</li><li class=\"rgWa7D\">16.51 cm (6.5 inch) HD+ Display</li><li class=\"rgWa7D\">13MP + 2MP + 2MP | 5MP Front Camera</li><li class=\"rgWa7D\">5000 mAh Battery</li><li class=\"rgWa7D\">MediaTek Helio G35 Processor</li><li class=\"rgWa7D\">1 Year Warranty for Mobile and 6 Months for Accessories</li></ul></div></div><div class=\"col col-5-12 nlI3QM\"><div class=\"_3tbKJL\"><div class=\"_25b18c\"><div class=\"_30jeq3 _1_WHN1\">₹8,999</div><div class=\"_3I9_wc _27UcVY\">₹<!-- -->10,999</div><div class=\"_3Ay6Sb\"><span>18% off</span></div></div></div><div class=\"_13J9qT\"><img height=\"21\" src=\"//static-assets-web.flixcart.com/www/linchpin/fk-cp-zion/img/fa_62673a.png\"/></div></div></div></a></div></div></div></div><div class=\"_1AtVbE col-12-12\"><div class=\"_13oc-S\"><div data-id=\"MOBGF489EUA5PEBK\" style=\"width:100%\"><div class=\"_2kHMtA\"><a class=\"_1fQZEK\" href=\"/realme-c21-cross-black-32-gb/p/itmf4062d3f37c1a?pid=MOBGF489EUA5PEBK&amp;lid=LSTMOBGF489EUA5PEBKOSO80O&amp;marketplace=FLIPKART&amp;q=smart+phones&amp;store=tyy%2F4io&amp;srno=s_1_8&amp;otracker=search&amp;fm=organic&amp;iid=6da0fea3-9ba2-4282-b413-53bba747be99.MOBGF489EUA5PEBK.SEARCH&amp;ppt=None&amp;ppn=None&amp;ssid=1eru8fsdmo0000001623816938871&amp;qH=a5594894156db043\" rel=\"noopener noreferrer\" target=\"_blank\"><div class=\"MIXNux\"><div class=\"_2QcLo-\"><div><div class=\"CXW8mj\" style=\"height:200px;width:200px\"><img alt=\"realme C21 (Cross Black, 32 GB)\" class=\"_396cs4 _3exPp9\" src=\"https://rukminim1.flixcart.com/image/312/312/kn7sdjk0/mobile/q/j/x/c21-rmx3201-realme-original-imagfxfwbszrxkvu.jpeg?q=70\"/></div></div></div><div class=\"_3wLduG\"><div class=\"_3PzNI-\"><span class=\"f3A4_V\"><label class=\"_2iDkf8\"><input class=\"_30VH1S\" readonly=\"\" type=\"checkbox\"/><div class=\"_24_Dny\"></div></label></span><label class=\"_6Up2sF\"><span>Add to Compare</span></label></div></div><div class=\"_2hVSre _3nq8ih\"><div class=\"_36FSn5\"><svg class=\"_1l0elc\" height=\"16\" viewbox=\"0 0 20 16\" width=\"16\" xmlns=\"http://www.w3.org/2000/svg\"><path class=\"eX72wL\" d=\"M8.695 16.682C4.06 12.382 1 9.536 1 6.065 1 3.219 3.178 1 5.95 1c1.566 0 3.069.746 4.05 1.915C10.981 1.745 12.484 1 14.05 1 16.822 1 19 3.22 19 6.065c0 3.471-3.06 6.316-7.695 10.617L10 17.897l-1.305-1.215z\" fill=\"#2874F0\" fill-rule=\"evenodd\" opacity=\".9\" stroke=\"#FFF\"></path></svg></div></div></div><div class=\"_3pLy-c row\"><div class=\"col col-7-12\"><div class=\"_4rR01T\">realme C21 (Cross Black, 32 GB)</div><div class=\"gUuXy-\"><span class=\"_1lRcqv\" id=\"productRating_LSTMOBGF489EUA5PEBKOSO80O_MOBGF489EUA5PEBK_\"><div class=\"_3LWZlK\">4.5<img class=\"_1wB99o\" src=\"data:image/svg+xml;base64,PHN2ZyB4bWxucz0iaHR0cDovL3d3dy53My5vcmcvMjAwMC9zdmciIHdpZHRoPSIxMyIgaGVpZ2h0PSIxMiI+PHBhdGggZmlsbD0iI0ZGRiIgZD0iTTYuNSA5LjQzOWwtMy42NzQgMi4yMy45NC00LjI2LTMuMjEtMi44ODMgNC4yNTQtLjQwNEw2LjUuMTEybDEuNjkgNC4wMSA0LjI1NC40MDQtMy4yMSAyLjg4Mi45NCA0LjI2eiIvPjwvc3ZnPg==\"/></div></span><span class=\"_2_R_DZ\"><span><span>21,344 Ratings </span><span class=\"_13vcmD\">&amp;</span><span> 954 Reviews</span></span></span></div><div class=\"fMghEO\"><ul class=\"_1xgFaf\"><li class=\"rgWa7D\">3 GB RAM | 32 GB ROM | Expandable Upto 256 GB</li><li class=\"rgWa7D\">16.51 cm (6.5 inch) HD+ Display</li><li class=\"rgWa7D\">13MP + 2MP + 2MP | 5MP Front Camera</li><li class=\"rgWa7D\">5000 mAh Battery</li><li class=\"rgWa7D\">MediaTek Helio G35 Processor</li><li class=\"rgWa7D\">1 Year Warranty for Mobile and 6 Months for Accessories</li></ul></div></div><div class=\"col col-5-12 nlI3QM\"><div class=\"_3tbKJL\"><div class=\"_25b18c\"><div class=\"_30jeq3 _1_WHN1\">₹7,999</div><div class=\"_3I9_wc _27UcVY\">₹<!-- -->9,999</div><div class=\"_3Ay6Sb\"><span>20% off</span></div></div></div><div class=\"_13J9qT\"><img height=\"21\" src=\"//static-assets-web.flixcart.com/www/linchpin/fk-cp-zion/img/fa_62673a.png\"/></div><div class=\"_2ZdXDB\"><div class=\"_3xFhiH\"><div class=\"_2Tpdn3 _18hQoS\" style=\"color:#000000;font-size:14px;font-style:normal;font-weight:400\">Upto </div><div class=\"_2Tpdn3 _18hQoS\" style=\"color:#000000;font-size:14px;font-style:normal;font-weight:700\">₹7,450</div><div class=\"_2Tpdn3 _18hQoS\" style=\"color:#000000;font-size:14px;font-style:normal;font-weight:400\"> Off on Exchange</div></div></div></div></div></a></div></div></div></div><div class=\"_1AtVbE col-12-12\"><div class=\"_13oc-S\"><div data-id=\"MOBGF4895YRNAHFZ\" style=\"width:100%\"><div class=\"_2kHMtA\"><a class=\"_1fQZEK\" href=\"/realme-c21-cross-blue-64-gb/p/itmf4062d3f37c1a?pid=MOBGF4895YRNAHFZ&amp;lid=LSTMOBGF4895YRNAHFZ3XABXU&amp;marketplace=FLIPKART&amp;q=smart+phones&amp;store=tyy%2F4io&amp;srno=s_1_9&amp;otracker=search&amp;fm=organic&amp;iid=6da0fea3-9ba2-4282-b413-53bba747be99.MOBGF4895YRNAHFZ.SEARCH&amp;ppt=None&amp;ppn=None&amp;ssid=1eru8fsdmo0000001623816938871&amp;qH=a5594894156db043\" rel=\"noopener noreferrer\" target=\"_blank\"><div class=\"MIXNux\"><div class=\"_2QcLo-\"><div><div class=\"CXW8mj\" style=\"height:200px;width:200px\"><img alt=\"realme C21 (Cross Blue, 64 GB)\" class=\"_396cs4 _3exPp9\" src=\"https://rukminim1.flixcart.com/image/312/312/kn7sdjk0/mobile/g/r/g/c21-rmx3201-realme-original-imagfxfwn9aryyda.jpeg?q=70\"/></div></div></div><div class=\"_3wLduG\"><div class=\"_3PzNI-\"><span class=\"f3A4_V\"><label class=\"_2iDkf8\"><input class=\"_30VH1S\" readonly=\"\" type=\"checkbox\"/><div class=\"_24_Dny\"></div></label></span><label class=\"_6Up2sF\"><span>Add to Compare</span></label></div></div><div class=\"_2hVSre _3nq8ih\"><div class=\"_36FSn5\"><svg class=\"_1l0elc\" height=\"16\" viewbox=\"0 0 20 16\" width=\"16\" xmlns=\"http://www.w3.org/2000/svg\"><path class=\"eX72wL\" d=\"M8.695 16.682C4.06 12.382 1 9.536 1 6.065 1 3.219 3.178 1 5.95 1c1.566 0 3.069.746 4.05 1.915C10.981 1.745 12.484 1 14.05 1 16.822 1 19 3.22 19 6.065c0 3.471-3.06 6.316-7.695 10.617L10 17.897l-1.305-1.215z\" fill=\"#2874F0\" fill-rule=\"evenodd\" opacity=\".9\" stroke=\"#FFF\"></path></svg></div></div></div><div class=\"_3pLy-c row\"><div class=\"col col-7-12\"><div class=\"_4rR01T\">realme C21 (Cross Blue, 64 GB)</div><div class=\"gUuXy-\"><span class=\"_1lRcqv\" id=\"productRating_LSTMOBGF4895YRNAHFZ3XABXU_MOBGF4895YRNAHFZ_\"><div class=\"_3LWZlK\">4.4<img class=\"_1wB99o\" src=\"data:image/svg+xml;base64,PHN2ZyB4bWxucz0iaHR0cDovL3d3dy53My5vcmcvMjAwMC9zdmciIHdpZHRoPSIxMyIgaGVpZ2h0PSIxMiI+PHBhdGggZmlsbD0iI0ZGRiIgZD0iTTYuNSA5LjQzOWwtMy42NzQgMi4yMy45NC00LjI2LTMuMjEtMi44ODMgNC4yNTQtLjQwNEw2LjUuMTEybDEuNjkgNC4wMSA0LjI1NC40MDQtMy4yMSAyLjg4Mi45NCA0LjI2eiIvPjwvc3ZnPg==\"/></div></span><span class=\"_2_R_DZ\"><span><span>19,819 Ratings </span><span class=\"_13vcmD\">&amp;</span><span> 826 Reviews</span></span></span></div><div class=\"fMghEO\"><ul class=\"_1xgFaf\"><li class=\"rgWa7D\">4 GB RAM | 64 GB ROM | Expandable Upto 256 GB</li><li class=\"rgWa7D\">16.51 cm (6.5 inch) HD+ Display</li><li class=\"rgWa7D\">13MP + 2MP + 2MP | 5MP Front Camera</li><li class=\"rgWa7D\">5000 mAh Battery</li><li class=\"rgWa7D\">MediaTek Helio G35 Processor</li><li class=\"rgWa7D\">1 Year Warranty for Mobile and 6 Months for Accessories</li></ul></div></div><div class=\"col col-5-12 nlI3QM\"><div class=\"_3tbKJL\"><div class=\"_25b18c\"><div class=\"_30jeq3 _1_WHN1\">₹8,999</div><div class=\"_3I9_wc _27UcVY\">₹<!-- -->10,999</div><div class=\"_3Ay6Sb\"><span>18% off</span></div></div></div><div class=\"_13J9qT\"><img height=\"21\" src=\"//static-assets-web.flixcart.com/www/linchpin/fk-cp-zion/img/fa_62673a.png\"/></div></div></div></a></div></div></div></div><div class=\"_1AtVbE col-12-12\"><div class=\"_13oc-S\"><div data-id=\"MOBFZTCUTAYPJHHR\" style=\"width:100%\"><div class=\"_2kHMtA\"><a class=\"_1fQZEK\" href=\"/poco-m3-power-black-64-gb/p/itmb49cc10841be2?pid=MOBFZTCUTAYPJHHR&amp;lid=LSTMOBFZTCUTAYPJHHR2ZVC1N&amp;marketplace=FLIPKART&amp;q=smart+phones&amp;store=tyy%2F4io&amp;srno=s_1_10&amp;otracker=search&amp;fm=organic&amp;iid=6da0fea3-9ba2-4282-b413-53bba747be99.MOBFZTCUTAYPJHHR.SEARCH&amp;ppt=None&amp;ppn=None&amp;ssid=1eru8fsdmo0000001623816938871&amp;qH=a5594894156db043\" rel=\"noopener noreferrer\" target=\"_blank\"><div class=\"MIXNux\"><div class=\"_2QcLo-\"><div><div class=\"CXW8mj\" style=\"height:200px;width:200px\"><img alt=\"POCO M3 (Power Black, 64 GB)\" class=\"_396cs4 _3exPp9\" src=\"https://rukminim1.flixcart.com/image/312/312/kklhbbk0/mobile/m/s/f/m3-mzb0879in-poco-original-imafzxf686qtxq2x.jpeg?q=70\"/></div></div></div><div class=\"_3wLduG\"><div class=\"_3PzNI-\"><span class=\"f3A4_V\"><label class=\"_2iDkf8\"><input class=\"_30VH1S\" readonly=\"\" type=\"checkbox\"/><div class=\"_24_Dny\"></div></label></span><label class=\"_6Up2sF\"><span>Add to Compare</span></label></div></div><div class=\"_2hVSre _3nq8ih\"><div class=\"_36FSn5\"><svg class=\"_1l0elc\" height=\"16\" viewbox=\"0 0 20 16\" width=\"16\" xmlns=\"http://www.w3.org/2000/svg\"><path class=\"eX72wL\" d=\"M8.695 16.682C4.06 12.382 1 9.536 1 6.065 1 3.219 3.178 1 5.95 1c1.566 0 3.069.746 4.05 1.915C10.981 1.745 12.484 1 14.05 1 16.822 1 19 3.22 19 6.065c0 3.471-3.06 6.316-7.695 10.617L10 17.897l-1.305-1.215z\" fill=\"#2874F0\" fill-rule=\"evenodd\" opacity=\".9\" stroke=\"#FFF\"></path></svg></div></div></div><div class=\"_3pLy-c row\"><div class=\"col col-7-12\"><div class=\"_4rR01T\">POCO M3 (Power Black, 64 GB)</div><div class=\"gUuXy-\"><span class=\"_1lRcqv\" id=\"productRating_LSTMOBFZTCUTAYPJHHR2ZVC1N_MOBFZTCUTAYPJHHR_\"><div class=\"_3LWZlK\">4.3<img class=\"_1wB99o\" src=\"data:image/svg+xml;base64,PHN2ZyB4bWxucz0iaHR0cDovL3d3dy53My5vcmcvMjAwMC9zdmciIHdpZHRoPSIxMyIgaGVpZ2h0PSIxMiI+PHBhdGggZmlsbD0iI0ZGRiIgZD0iTTYuNSA5LjQzOWwtMy42NzQgMi4yMy45NC00LjI2LTMuMjEtMi44ODMgNC4yNTQtLjQwNEw2LjUuMTEybDEuNjkgNC4wMSA0LjI1NC40MDQtMy4yMSAyLjg4Mi45NCA0LjI2eiIvPjwvc3ZnPg==\"/></div></span><span class=\"_2_R_DZ\"><span><span>1,72,788 Ratings </span><span class=\"_13vcmD\">&amp;</span><span> 12,796 Reviews</span></span></span></div><div class=\"fMghEO\"><ul class=\"_1xgFaf\"><li class=\"rgWa7D\">6 GB RAM | 64 GB ROM | Expandable Upto 512 GB</li><li class=\"rgWa7D\">16.59 cm (6.53 inch) Full HD+ Display</li><li class=\"rgWa7D\">48MP + 2MP + 2MP | 8MP Front Camera</li><li class=\"rgWa7D\">6000 mAh Lithium-ion Polymer Battery</li><li class=\"rgWa7D\">Qualcomm Snapdragon 662 Processor</li><li class=\"rgWa7D\">One Year Warranty for Handset, 6 Months for Accessories</li></ul></div></div><div class=\"col col-5-12 nlI3QM\"><div class=\"_3tbKJL\"><div class=\"_25b18c\"><div class=\"_30jeq3 _1_WHN1\">₹10,999</div><div class=\"_3I9_wc _27UcVY\">₹<!-- -->12,999</div><div class=\"_3Ay6Sb\"><span>15% off</span></div></div></div><div class=\"_13J9qT\"><img height=\"21\" src=\"//static-assets-web.flixcart.com/www/linchpin/fk-cp-zion/img/fa_62673a.png\"/></div><div class=\"_2ZdXDB\"><div class=\"_3xFhiH\"><div class=\"_2Tpdn3 _18hQoS\" style=\"color:#000000;font-size:14px;font-style:normal;font-weight:400\">Upto </div><div class=\"_2Tpdn3 _18hQoS\" style=\"color:#000000;font-size:14px;font-style:normal;font-weight:700\">₹10,450</div><div class=\"_2Tpdn3 _18hQoS\" style=\"color:#000000;font-size:14px;font-style:normal;font-weight:400\"> Off on Exchange</div></div></div></div></div></a></div></div></div></div><div class=\"_1AtVbE col-12-12\"><div class=\"_13oc-S\"><div data-id=\"MOBFVX6YKTBGNRH8\" style=\"width:100%\"><div class=\"_2kHMtA\"><a class=\"_1fQZEK\" href=\"/infinix-hot-10-moonlight-jade-64-gb/p/itm05a303fc89d2e?pid=MOBFVX6YKTBGNRH8&amp;lid=LSTMOBFVX6YKTBGNRH8Z92BPO&amp;marketplace=FLIPKART&amp;q=smart+phones&amp;store=tyy%2F4io&amp;srno=s_1_11&amp;otracker=search&amp;fm=organic&amp;iid=6da0fea3-9ba2-4282-b413-53bba747be99.MOBFVX6YKTBGNRH8.SEARCH&amp;ppt=None&amp;ppn=None&amp;ssid=1eru8fsdmo0000001623816938871&amp;qH=a5594894156db043\" rel=\"noopener noreferrer\" target=\"_blank\"><div class=\"MIXNux\"><div class=\"_2QcLo-\"><div><div class=\"CXW8mj\" style=\"height:200px;width:200px\"><img alt=\"Infinix Hot 10 (Moonlight Jade, 64 GB)\" class=\"_396cs4 _3exPp9\" src=\"https://rukminim1.flixcart.com/image/312/312/kfpq5jk0/mobile/w/9/j/infinix-hot-10-x682c-original-imafw44bkmf2hhp3.jpeg?q=70\"/></div></div></div><div class=\"_3wLduG\"><div class=\"_3PzNI-\"><span class=\"f3A4_V\"><label class=\"_2iDkf8\"><input class=\"_30VH1S\" readonly=\"\" type=\"checkbox\"/><div class=\"_24_Dny\"></div></label></span><label class=\"_6Up2sF\"><span>Add to Compare</span></label></div></div><div class=\"_2hVSre _3nq8ih\"><div class=\"_36FSn5\"><svg class=\"_1l0elc\" height=\"16\" viewbox=\"0 0 20 16\" width=\"16\" xmlns=\"http://www.w3.org/2000/svg\"><path class=\"eX72wL\" d=\"M8.695 16.682C4.06 12.382 1 9.536 1 6.065 1 3.219 3.178 1 5.95 1c1.566 0 3.069.746 4.05 1.915C10.981 1.745 12.484 1 14.05 1 16.822 1 19 3.22 19 6.065c0 3.471-3.06 6.316-7.695 10.617L10 17.897l-1.305-1.215z\" fill=\"#2874F0\" fill-rule=\"evenodd\" opacity=\".9\" stroke=\"#FFF\"></path></svg></div></div></div><div class=\"_3pLy-c row\"><div class=\"col col-7-12\"><div class=\"_4rR01T\">Infinix Hot 10 (Moonlight Jade, 64 GB)</div><div class=\"gUuXy-\"><span class=\"_1lRcqv\" id=\"productRating_LSTMOBFVX6YKTBGNRH8Z92BPO_MOBFVX6YKTBGNRH8_\"><div class=\"_3LWZlK\">4.4<img class=\"_1wB99o\" src=\"data:image/svg+xml;base64,PHN2ZyB4bWxucz0iaHR0cDovL3d3dy53My5vcmcvMjAwMC9zdmciIHdpZHRoPSIxMyIgaGVpZ2h0PSIxMiI+PHBhdGggZmlsbD0iI0ZGRiIgZD0iTTYuNSA5LjQzOWwtMy42NzQgMi4yMy45NC00LjI2LTMuMjEtMi44ODMgNC4yNTQtLjQwNEw2LjUuMTEybDEuNjkgNC4wMSA0LjI1NC40MDQtMy4yMSAyLjg4Mi45NCA0LjI2eiIvPjwvc3ZnPg==\"/></div></span><span class=\"_2_R_DZ\"><span><span>64,084 Ratings </span><span class=\"_13vcmD\">&amp;</span><span> 5,136 Reviews</span></span></span></div><div class=\"fMghEO\"><ul class=\"_1xgFaf\"><li class=\"rgWa7D\">4 GB RAM | 64 GB ROM | Expandable Upto 256 GB</li><li class=\"rgWa7D\">17.22 cm (6.78 inch) HD+ Display</li><li class=\"rgWa7D\">16MP + 2MP + 2MP + Low Light Sensor | 8MP Front Camera</li><li class=\"rgWa7D\">5200 mAh Li-ion Polymer Battery</li><li class=\"rgWa7D\">MediaTek Helio G70 Processor</li><li class=\"rgWa7D\">1 Year on Handset and 6 Months on Accessories</li></ul></div></div><div class=\"col col-5-12 nlI3QM\"><div class=\"_3tbKJL\"><div class=\"_25b18c\"><div class=\"_30jeq3 _1_WHN1\">₹8,999</div><div class=\"_3I9_wc _27UcVY\">₹<!-- -->11,999</div><div class=\"_3Ay6Sb\"><span>25% off</span></div></div></div><div class=\"_13J9qT\"><img height=\"21\" src=\"//static-assets-web.flixcart.com/www/linchpin/fk-cp-zion/img/fa_62673a.png\"/></div><div class=\"_2ZdXDB\"><div class=\"_3xFhiH\"><div class=\"_2Tpdn3 _18hQoS\" style=\"color:#000000;font-size:14px;font-style:normal;font-weight:400\">Upto </div><div class=\"_2Tpdn3 _18hQoS\" style=\"color:#000000;font-size:14px;font-style:normal;font-weight:700\">₹8,350</div><div class=\"_2Tpdn3 _18hQoS\" style=\"color:#000000;font-size:14px;font-style:normal;font-weight:400\"> Off on Exchange</div></div></div></div></div></a></div></div></div></div><div class=\"_1AtVbE col-12-12\"><div class=\"_13oc-S\"><div data-id=\"MOBGYFAXFQYTPYEF\" style=\"width:100%\"><div class=\"_2kHMtA\"><a class=\"_1fQZEK\" href=\"/realme-narzo-30a-laser-blue-32-gb/p/itma78aeb1d764b5?pid=MOBGYFAXFQYTPYEF&amp;lid=LSTMOBGYFAXFQYTPYEFHEOYGJ&amp;marketplace=FLIPKART&amp;q=smart+phones&amp;store=tyy%2F4io&amp;srno=s_1_12&amp;otracker=search&amp;fm=organic&amp;iid=6da0fea3-9ba2-4282-b413-53bba747be99.MOBGYFAXFQYTPYEF.SEARCH&amp;ppt=None&amp;ppn=None&amp;ssid=1eru8fsdmo0000001623816938871&amp;qH=a5594894156db043\" rel=\"noopener noreferrer\" target=\"_blank\"><div class=\"MIXNux\"><div class=\"_2QcLo-\"><div><div class=\"CXW8mj\" style=\"height:200px;width:200px\"><img alt=\"realme Narzo 30A (Laser Blue, 32 GB)\" class=\"_396cs4 _3exPp9\" src=\"https://rukminim1.flixcart.com/image/312/312/klgx0280/mobile/h/q/e/narzo-30a-rmx3171-realme-original-imagyhbgh8qfambf.jpeg?q=70\"/></div></div></div><div class=\"_3wLduG\"><div class=\"_3PzNI-\"><span class=\"f3A4_V\"><label class=\"_2iDkf8\"><input class=\"_30VH1S\" readonly=\"\" type=\"checkbox\"/><div class=\"_24_Dny\"></div></label></span><label class=\"_6Up2sF\"><span>Add to Compare</span></label></div></div><div class=\"_2hVSre _3nq8ih\"><div class=\"_36FSn5\"><svg class=\"_1l0elc\" height=\"16\" viewbox=\"0 0 20 16\" width=\"16\" xmlns=\"http://www.w3.org/2000/svg\"><path class=\"eX72wL\" d=\"M8.695 16.682C4.06 12.382 1 9.536 1 6.065 1 3.219 3.178 1 5.95 1c1.566 0 3.069.746 4.05 1.915C10.981 1.745 12.484 1 14.05 1 16.822 1 19 3.22 19 6.065c0 3.471-3.06 6.316-7.695 10.617L10 17.897l-1.305-1.215z\" fill=\"#2874F0\" fill-rule=\"evenodd\" opacity=\".9\" stroke=\"#FFF\"></path></svg></div></div></div><div class=\"_3pLy-c row\"><div class=\"col col-7-12\"><div class=\"_4rR01T\">realme Narzo 30A (Laser Blue, 32 GB)</div><div class=\"gUuXy-\"><span class=\"_1lRcqv\" id=\"productRating_LSTMOBGYFAXFQYTPYEFHEOYGJ_MOBGYFAXFQYTPYEF_\"><div class=\"_3LWZlK\">4.4<img class=\"_1wB99o\" src=\"data:image/svg+xml;base64,PHN2ZyB4bWxucz0iaHR0cDovL3d3dy53My5vcmcvMjAwMC9zdmciIHdpZHRoPSIxMyIgaGVpZ2h0PSIxMiI+PHBhdGggZmlsbD0iI0ZGRiIgZD0iTTYuNSA5LjQzOWwtMy42NzQgMi4yMy45NC00LjI2LTMuMjEtMi44ODMgNC4yNTQtLjQwNEw2LjUuMTEybDEuNjkgNC4wMSA0LjI1NC40MDQtMy4yMSAyLjg4Mi45NCA0LjI2eiIvPjwvc3ZnPg==\"/></div></span><span class=\"_2_R_DZ\"><span><span>48,495 Ratings </span><span class=\"_13vcmD\">&amp;</span><span> 3,410 Reviews</span></span></span></div><div class=\"fMghEO\"><ul class=\"_1xgFaf\"><li class=\"rgWa7D\">3 GB RAM | 32 GB ROM | Expandable Upto 256 GB</li><li class=\"rgWa7D\">16.54 cm (6.51 inch) HD+ Display</li><li class=\"rgWa7D\">13MP + 2MP | 8MP Front Camera</li><li class=\"rgWa7D\">6000 mAh Battery</li><li class=\"rgWa7D\">MediaTek Helio G85 Processor</li><li class=\"rgWa7D\">1 Year Warranty for Mobile and 6 Months for Accessories</li></ul></div></div><div class=\"col col-5-12 nlI3QM\"><div class=\"_3tbKJL\"><div class=\"_25b18c\"><div class=\"_30jeq3 _1_WHN1\">₹7,999</div><div class=\"_3I9_wc _27UcVY\">₹<!-- -->9,999</div><div class=\"_3Ay6Sb\"><span>20% off</span></div></div></div><div class=\"_13J9qT\"><img height=\"21\" src=\"//static-assets-web.flixcart.com/www/linchpin/fk-cp-zion/img/fa_62673a.png\"/></div><div class=\"_2ZdXDB\"><div class=\"_3xFhiH\"><div class=\"_2Tpdn3 _18hQoS\" style=\"color:#000000;font-size:14px;font-style:normal;font-weight:400\">Upto </div><div class=\"_2Tpdn3 _18hQoS\" style=\"color:#000000;font-size:14px;font-style:normal;font-weight:700\">₹7,450</div><div class=\"_2Tpdn3 _18hQoS\" style=\"color:#000000;font-size:14px;font-style:normal;font-weight:400\"> Off on Exchange</div></div></div></div></div></a></div></div></div></div><div class=\"_1AtVbE col-12-12\"><div class=\"_13oc-S\"><div data-id=\"MOBGYFAXVHTZUGW6\" style=\"width:100%\"><div class=\"_2kHMtA\"><a class=\"_1fQZEK\" href=\"/realme-narzo-30a-laser-black-64-gb/p/itma78aeb1d764b5?pid=MOBGYFAXVHTZUGW6&amp;lid=LSTMOBGYFAXVHTZUGW67OZ3AA&amp;marketplace=FLIPKART&amp;q=smart+phones&amp;store=tyy%2F4io&amp;srno=s_1_13&amp;otracker=search&amp;fm=organic&amp;iid=6da0fea3-9ba2-4282-b413-53bba747be99.MOBGYFAXVHTZUGW6.SEARCH&amp;ppt=None&amp;ppn=None&amp;ssid=1eru8fsdmo0000001623816938871&amp;qH=a5594894156db043\" rel=\"noopener noreferrer\" target=\"_blank\"><div class=\"MIXNux\"><div class=\"_2QcLo-\"><div><div class=\"CXW8mj\" style=\"height:200px;width:200px\"><img alt=\"realme Narzo 30A (Laser Black, 64 GB)\" class=\"_396cs4 _3exPp9\" src=\"https://rukminim1.flixcart.com/image/312/312/klgx0280/mobile/g/r/o/narzo-30a-rmx3171-realme-original-imagyhbgwxdztd4u.jpeg?q=70\"/></div></div></div><div class=\"_3wLduG\"><div class=\"_3PzNI-\"><span class=\"f3A4_V\"><label class=\"_2iDkf8\"><input class=\"_30VH1S\" readonly=\"\" type=\"checkbox\"/><div class=\"_24_Dny\"></div></label></span><label class=\"_6Up2sF\"><span>Add to Compare</span></label></div></div><div class=\"_2hVSre _3nq8ih\"><div class=\"_36FSn5\"><svg class=\"_1l0elc\" height=\"16\" viewbox=\"0 0 20 16\" width=\"16\" xmlns=\"http://www.w3.org/2000/svg\"><path class=\"eX72wL\" d=\"M8.695 16.682C4.06 12.382 1 9.536 1 6.065 1 3.219 3.178 1 5.95 1c1.566 0 3.069.746 4.05 1.915C10.981 1.745 12.484 1 14.05 1 16.822 1 19 3.22 19 6.065c0 3.471-3.06 6.316-7.695 10.617L10 17.897l-1.305-1.215z\" fill=\"#2874F0\" fill-rule=\"evenodd\" opacity=\".9\" stroke=\"#FFF\"></path></svg></div></div></div><div class=\"_3pLy-c row\"><div class=\"col col-7-12\"><div class=\"_4rR01T\">realme Narzo 30A (Laser Black, 64 GB)</div><div class=\"gUuXy-\"><span class=\"_1lRcqv\" id=\"productRating_LSTMOBGYFAXVHTZUGW67OZ3AA_MOBGYFAXVHTZUGW6_\"><div class=\"_3LWZlK\">4.4<img class=\"_1wB99o\" src=\"data:image/svg+xml;base64,PHN2ZyB4bWxucz0iaHR0cDovL3d3dy53My5vcmcvMjAwMC9zdmciIHdpZHRoPSIxMyIgaGVpZ2h0PSIxMiI+PHBhdGggZmlsbD0iI0ZGRiIgZD0iTTYuNSA5LjQzOWwtMy42NzQgMi4yMy45NC00LjI2LTMuMjEtMi44ODMgNC4yNTQtLjQwNEw2LjUuMTEybDEuNjkgNC4wMSA0LjI1NC40MDQtMy4yMSAyLjg4Mi45NCA0LjI2eiIvPjwvc3ZnPg==\"/></div></span><span class=\"_2_R_DZ\"><span><span>74,951 Ratings </span><span class=\"_13vcmD\">&amp;</span><span> 4,744 Reviews</span></span></span></div><div class=\"fMghEO\"><ul class=\"_1xgFaf\"><li class=\"rgWa7D\">4 GB RAM | 64 GB ROM | Expandable Upto 256 GB</li><li class=\"rgWa7D\">16.54 cm (6.51 inch) HD+ Display</li><li class=\"rgWa7D\">13MP + 2MP | 8MP Front Camera</li><li class=\"rgWa7D\">6000 mAh Battery</li><li class=\"rgWa7D\">MediaTek Helio G85 Processor</li><li class=\"rgWa7D\">1 Year Warranty for Mobile and 6 Months for Accessories</li></ul></div></div><div class=\"col col-5-12 nlI3QM\"><div class=\"_3tbKJL\"><div class=\"_25b18c\"><div class=\"_30jeq3 _1_WHN1\">₹8,999</div><div class=\"_3I9_wc _27UcVY\">₹<!-- -->10,999</div><div class=\"_3Ay6Sb\"><span>18% off</span></div></div></div><div class=\"_13J9qT\"><img height=\"21\" src=\"//static-assets-web.flixcart.com/www/linchpin/fk-cp-zion/img/fa_62673a.png\"/></div><div class=\"_2ZdXDB\"><div class=\"_3xFhiH\"><div class=\"_2Tpdn3 _18hQoS\" style=\"color:#000000;font-size:14px;font-style:normal;font-weight:400\">Upto </div><div class=\"_2Tpdn3 _18hQoS\" style=\"color:#000000;font-size:14px;font-style:normal;font-weight:700\">₹8,350</div><div class=\"_2Tpdn3 _18hQoS\" style=\"color:#000000;font-size:14px;font-style:normal;font-weight:400\"> Off on Exchange</div></div></div></div></div></a></div></div></div></div><div class=\"_1AtVbE col-12-12\"><div class=\"_13oc-S\"><div data-id=\"MOBGYFAXAUENZFU3\" style=\"width:100%\"><div class=\"_2kHMtA\"><a class=\"_1fQZEK\" href=\"/realme-narzo-30a-laser-black-32-gb/p/itma78aeb1d764b5?pid=MOBGYFAXAUENZFU3&amp;lid=LSTMOBGYFAXAUENZFU3JULWX9&amp;marketplace=FLIPKART&amp;q=smart+phones&amp;store=tyy%2F4io&amp;srno=s_1_14&amp;otracker=search&amp;fm=organic&amp;iid=6da0fea3-9ba2-4282-b413-53bba747be99.MOBGYFAXAUENZFU3.SEARCH&amp;ppt=None&amp;ppn=None&amp;ssid=1eru8fsdmo0000001623816938871&amp;qH=a5594894156db043\" rel=\"noopener noreferrer\" target=\"_blank\"><div class=\"MIXNux\"><div class=\"_2QcLo-\"><div><div class=\"CXW8mj\" style=\"height:200px;width:200px\"><img alt=\"realme Narzo 30A (Laser Black, 32 GB)\" class=\"_396cs4 _3exPp9\" src=\"https://rukminim1.flixcart.com/image/312/312/klgx0280/mobile/z/b/z/narzo-30a-rmx3171-realme-original-imagyhbgzcyfwzfz.jpeg?q=70\"/></div></div></div><div class=\"_3wLduG\"><div class=\"_3PzNI-\"><span class=\"f3A4_V\"><label class=\"_2iDkf8\"><input class=\"_30VH1S\" readonly=\"\" type=\"checkbox\"/><div class=\"_24_Dny\"></div></label></span><label class=\"_6Up2sF\"><span>Add to Compare</span></label></div></div><div class=\"_2hVSre _3nq8ih\"><div class=\"_36FSn5\"><svg class=\"_1l0elc\" height=\"16\" viewbox=\"0 0 20 16\" width=\"16\" xmlns=\"http://www.w3.org/2000/svg\"><path class=\"eX72wL\" d=\"M8.695 16.682C4.06 12.382 1 9.536 1 6.065 1 3.219 3.178 1 5.95 1c1.566 0 3.069.746 4.05 1.915C10.981 1.745 12.484 1 14.05 1 16.822 1 19 3.22 19 6.065c0 3.471-3.06 6.316-7.695 10.617L10 17.897l-1.305-1.215z\" fill=\"#2874F0\" fill-rule=\"evenodd\" opacity=\".9\" stroke=\"#FFF\"></path></svg></div></div></div><div class=\"_3pLy-c row\"><div class=\"col col-7-12\"><div class=\"_4rR01T\">realme Narzo 30A (Laser Black, 32 GB)</div><div class=\"gUuXy-\"><span class=\"_1lRcqv\" id=\"productRating_LSTMOBGYFAXAUENZFU3JULWX9_MOBGYFAXAUENZFU3_\"><div class=\"_3LWZlK\">4.4<img class=\"_1wB99o\" src=\"data:image/svg+xml;base64,PHN2ZyB4bWxucz0iaHR0cDovL3d3dy53My5vcmcvMjAwMC9zdmciIHdpZHRoPSIxMyIgaGVpZ2h0PSIxMiI+PHBhdGggZmlsbD0iI0ZGRiIgZD0iTTYuNSA5LjQzOWwtMy42NzQgMi4yMy45NC00LjI2LTMuMjEtMi44ODMgNC4yNTQtLjQwNEw2LjUuMTEybDEuNjkgNC4wMSA0LjI1NC40MDQtMy4yMSAyLjg4Mi45NCA0LjI2eiIvPjwvc3ZnPg==\"/></div></span><span class=\"_2_R_DZ\"><span><span>48,495 Ratings </span><span class=\"_13vcmD\">&amp;</span><span> 3,410 Reviews</span></span></span></div><div class=\"fMghEO\"><ul class=\"_1xgFaf\"><li class=\"rgWa7D\">3 GB RAM | 32 GB ROM | Expandable Upto 256 GB</li><li class=\"rgWa7D\">16.54 cm (6.51 inch) HD+ Display</li><li class=\"rgWa7D\">13MP + 2MP | 8MP Front Camera</li><li class=\"rgWa7D\">6000 mAh Battery</li><li class=\"rgWa7D\">MediaTek Helio G85 Processor</li><li class=\"rgWa7D\">1 Year Warranty for Mobile and 6 Months for Accessories</li></ul></div></div><div class=\"col col-5-12 nlI3QM\"><div class=\"_3tbKJL\"><div class=\"_25b18c\"><div class=\"_30jeq3 _1_WHN1\">₹7,999</div><div class=\"_3I9_wc _27UcVY\">₹<!-- -->9,999</div><div class=\"_3Ay6Sb\"><span>20% off</span></div></div></div><div class=\"_13J9qT\"><img height=\"21\" src=\"//static-assets-web.flixcart.com/www/linchpin/fk-cp-zion/img/fa_62673a.png\"/></div><div class=\"_2ZdXDB\"><div class=\"_3xFhiH\"><div class=\"_2Tpdn3 _18hQoS\" style=\"color:#000000;font-size:14px;font-style:normal;font-weight:400\">Upto </div><div class=\"_2Tpdn3 _18hQoS\" style=\"color:#000000;font-size:14px;font-style:normal;font-weight:700\">₹7,450</div><div class=\"_2Tpdn3 _18hQoS\" style=\"color:#000000;font-size:14px;font-style:normal;font-weight:400\"> Off on Exchange</div></div></div></div></div></a></div></div></div></div><div class=\"_1AtVbE col-12-12\"><div class=\"_13oc-S\"><div data-id=\"MOBFZTCUDDCTDN3G\" style=\"width:100%\"><div class=\"_2kHMtA\"><a class=\"_1fQZEK\" href=\"/poco-m3-cool-blue-64-gb/p/itmc8ec867cb0472?pid=MOBFZTCUDDCTDN3G&amp;lid=LSTMOBFZTCUDDCTDN3GJBLKQ8&amp;marketplace=FLIPKART&amp;q=smart+phones&amp;store=tyy%2F4io&amp;srno=s_1_15&amp;otracker=search&amp;fm=organic&amp;iid=6da0fea3-9ba2-4282-b413-53bba747be99.MOBFZTCUDDCTDN3G.SEARCH&amp;ppt=None&amp;ppn=None&amp;ssid=1eru8fsdmo0000001623816938871&amp;qH=a5594894156db043\" rel=\"noopener noreferrer\" target=\"_blank\"><div class=\"MIXNux\"><div class=\"_2QcLo-\"><div><div class=\"CXW8mj\" style=\"height:200px;width:200px\"><img alt=\"POCO M3 (Cool Blue, 64 GB)\" class=\"_396cs4 _3exPp9\" src=\"https://rukminim1.flixcart.com/image/312/312/kklhbbk0/mobile/h/i/q/m3-mzb087ain-poco-original-imafzxf8zqkcgwfv.jpeg?q=70\"/></div></div></div><div class=\"_3wLduG\"><div class=\"_3PzNI-\"><span class=\"f3A4_V\"><label class=\"_2iDkf8\"><input class=\"_30VH1S\" readonly=\"\" type=\"checkbox\"/><div class=\"_24_Dny\"></div></label></span><label class=\"_6Up2sF\"><span>Add to Compare</span></label></div></div><div class=\"_2hVSre _3nq8ih\"><div class=\"_36FSn5\"><svg class=\"_1l0elc\" height=\"16\" viewbox=\"0 0 20 16\" width=\"16\" xmlns=\"http://www.w3.org/2000/svg\"><path class=\"eX72wL\" d=\"M8.695 16.682C4.06 12.382 1 9.536 1 6.065 1 3.219 3.178 1 5.95 1c1.566 0 3.069.746 4.05 1.915C10.981 1.745 12.484 1 14.05 1 16.822 1 19 3.22 19 6.065c0 3.471-3.06 6.316-7.695 10.617L10 17.897l-1.305-1.215z\" fill=\"#2874F0\" fill-rule=\"evenodd\" opacity=\".9\" stroke=\"#FFF\"></path></svg></div></div></div><div class=\"_3pLy-c row\"><div class=\"col col-7-12\"><div class=\"_4rR01T\">POCO M3 (Cool Blue, 64 GB)</div><div class=\"gUuXy-\"><span class=\"_1lRcqv\" id=\"productRating_LSTMOBFZTCUDDCTDN3GJBLKQ8_MOBFZTCUDDCTDN3G_\"><div class=\"_3LWZlK\">4.3<img class=\"_1wB99o\" src=\"data:image/svg+xml;base64,PHN2ZyB4bWxucz0iaHR0cDovL3d3dy53My5vcmcvMjAwMC9zdmciIHdpZHRoPSIxMyIgaGVpZ2h0PSIxMiI+PHBhdGggZmlsbD0iI0ZGRiIgZD0iTTYuNSA5LjQzOWwtMy42NzQgMi4yMy45NC00LjI2LTMuMjEtMi44ODMgNC4yNTQtLjQwNEw2LjUuMTEybDEuNjkgNC4wMSA0LjI1NC40MDQtMy4yMSAyLjg4Mi45NCA0LjI2eiIvPjwvc3ZnPg==\"/></div></span><span class=\"_2_R_DZ\"><span><span>1,72,788 Ratings </span><span class=\"_13vcmD\">&amp;</span><span> 12,796 Reviews</span></span></span></div><div class=\"fMghEO\"><ul class=\"_1xgFaf\"><li class=\"rgWa7D\">6 GB RAM | 64 GB ROM | Expandable Upto 512 GB</li><li class=\"rgWa7D\">16.59 cm (6.53 inch) Full HD+ Display</li><li class=\"rgWa7D\">48MP + 2MP + 2MP | 8MP Front Camera</li><li class=\"rgWa7D\">6000 mAh Lithium-ion Polymer Battery</li><li class=\"rgWa7D\">Qualcomm Snapdragon 662 Processor</li><li class=\"rgWa7D\">One Year Warranty for Handset, 6 Months for Accessories</li></ul></div></div><div class=\"col col-5-12 nlI3QM\"><div class=\"_3tbKJL\"><div class=\"_25b18c\"><div class=\"_30jeq3 _1_WHN1\">₹10,999</div><div class=\"_3I9_wc _27UcVY\">₹<!-- -->12,999</div><div class=\"_3Ay6Sb\"><span>15% off</span></div></div></div><div class=\"_13J9qT\"><img height=\"21\" src=\"//static-assets-web.flixcart.com/www/linchpin/fk-cp-zion/img/fa_62673a.png\"/></div><div class=\"_2ZdXDB\"><div class=\"_3xFhiH\"><div class=\"_2Tpdn3 _18hQoS\" style=\"color:#000000;font-size:14px;font-style:normal;font-weight:400\">Upto </div><div class=\"_2Tpdn3 _18hQoS\" style=\"color:#000000;font-size:14px;font-style:normal;font-weight:700\">₹10,450</div><div class=\"_2Tpdn3 _18hQoS\" style=\"color:#000000;font-size:14px;font-style:normal;font-weight:400\"> Off on Exchange</div></div></div></div></div></a></div></div></div></div><div class=\"_1AtVbE col-12-12\"><div class=\"_13oc-S\"><div data-id=\"MOBFVX6YBEHWPYZD\" style=\"width:100%\"><div class=\"_2kHMtA\"><a class=\"_1fQZEK\" href=\"/infinix-hot-10-ocean-wave-64-gb/p/itm05a303fc89d2e?pid=MOBFVX6YBEHWPYZD&amp;lid=LSTMOBFVX6YBEHWPYZDKO5EKC&amp;marketplace=FLIPKART&amp;q=smart+phones&amp;store=tyy%2F4io&amp;srno=s_1_16&amp;otracker=search&amp;fm=organic&amp;iid=6da0fea3-9ba2-4282-b413-53bba747be99.MOBFVX6YBEHWPYZD.SEARCH&amp;ppt=None&amp;ppn=None&amp;ssid=1eru8fsdmo0000001623816938871&amp;qH=a5594894156db043\" rel=\"noopener noreferrer\" target=\"_blank\"><div class=\"MIXNux\"><div class=\"_2QcLo-\"><div><div class=\"CXW8mj\" style=\"height:200px;width:200px\"><img alt=\"Infinix Hot 10 (Ocean Wave, 64 GB)\" class=\"_396cs4 _3exPp9\" src=\"https://rukminim1.flixcart.com/image/312/312/kfpq5jk0/mobile/r/h/8/infinix-hot-10-x682b-original-imafw4fuatjhdw7q.jpeg?q=70\"/></div></div></div><div class=\"_3wLduG\"><div class=\"_3PzNI-\"><span class=\"f3A4_V\"><label class=\"_2iDkf8\"><input class=\"_30VH1S\" readonly=\"\" type=\"checkbox\"/><div class=\"_24_Dny\"></div></label></span><label class=\"_6Up2sF\"><span>Add to Compare</span></label></div></div><div class=\"_2hVSre _3nq8ih\"><div class=\"_36FSn5\"><svg class=\"_1l0elc\" height=\"16\" viewbox=\"0 0 20 16\" width=\"16\" xmlns=\"http://www.w3.org/2000/svg\"><path class=\"eX72wL\" d=\"M8.695 16.682C4.06 12.382 1 9.536 1 6.065 1 3.219 3.178 1 5.95 1c1.566 0 3.069.746 4.05 1.915C10.981 1.745 12.484 1 14.05 1 16.822 1 19 3.22 19 6.065c0 3.471-3.06 6.316-7.695 10.617L10 17.897l-1.305-1.215z\" fill=\"#2874F0\" fill-rule=\"evenodd\" opacity=\".9\" stroke=\"#FFF\"></path></svg></div></div></div><div class=\"_3pLy-c row\"><div class=\"col col-7-12\"><div class=\"_4rR01T\">Infinix Hot 10 (Ocean Wave, 64 GB)</div><div class=\"gUuXy-\"><span class=\"_1lRcqv\" id=\"productRating_LSTMOBFVX6YBEHWPYZDKO5EKC_MOBFVX6YBEHWPYZD_\"><div class=\"_3LWZlK\">4.4<img class=\"_1wB99o\" src=\"data:image/svg+xml;base64,PHN2ZyB4bWxucz0iaHR0cDovL3d3dy53My5vcmcvMjAwMC9zdmciIHdpZHRoPSIxMyIgaGVpZ2h0PSIxMiI+PHBhdGggZmlsbD0iI0ZGRiIgZD0iTTYuNSA5LjQzOWwtMy42NzQgMi4yMy45NC00LjI2LTMuMjEtMi44ODMgNC4yNTQtLjQwNEw2LjUuMTEybDEuNjkgNC4wMSA0LjI1NC40MDQtMy4yMSAyLjg4Mi45NCA0LjI2eiIvPjwvc3ZnPg==\"/></div></span><span class=\"_2_R_DZ\"><span><span>64,084 Ratings </span><span class=\"_13vcmD\">&amp;</span><span> 5,136 Reviews</span></span></span></div><div class=\"fMghEO\"><ul class=\"_1xgFaf\"><li class=\"rgWa7D\">4 GB RAM | 64 GB ROM | Expandable Upto 256 GB</li><li class=\"rgWa7D\">17.22 cm (6.78 inch) HD+ Display</li><li class=\"rgWa7D\">16MP + 2MP + 2MP + Low Light Sensor | 8MP Front Camera</li><li class=\"rgWa7D\">5200 mAh Li-ion Polymer Battery</li><li class=\"rgWa7D\">MediaTek Helio G70 Processor</li><li class=\"rgWa7D\">1 Year on Handset and 6 Months on Accessories</li></ul></div></div><div class=\"col col-5-12 nlI3QM\"><div class=\"_3tbKJL\"><div class=\"_25b18c\"><div class=\"_30jeq3 _1_WHN1\">₹8,999</div><div class=\"_3I9_wc _27UcVY\">₹<!-- -->11,999</div><div class=\"_3Ay6Sb\"><span>25% off</span></div></div></div><div class=\"_13J9qT\"><img height=\"21\" src=\"//static-assets-web.flixcart.com/www/linchpin/fk-cp-zion/img/fa_62673a.png\"/></div><div class=\"_2ZdXDB\"><div class=\"_3xFhiH\"><div class=\"_2Tpdn3 _18hQoS\" style=\"color:#000000;font-size:14px;font-style:normal;font-weight:400\">Upto </div><div class=\"_2Tpdn3 _18hQoS\" style=\"color:#000000;font-size:14px;font-style:normal;font-weight:700\">₹8,350</div><div class=\"_2Tpdn3 _18hQoS\" style=\"color:#000000;font-size:14px;font-style:normal;font-weight:400\"> Off on Exchange</div></div></div></div></div></a></div></div></div></div><div class=\"_1AtVbE col-12-12\"><div class=\"_13oc-S\"><div data-id=\"MOBFVX6Y7DPSHEKZ\" style=\"width:100%\"><div class=\"_2kHMtA\"><a class=\"_1fQZEK\" href=\"/infinix-hot-10-obsidian-black-64-gb/p/itm05a303fc89d2e?pid=MOBFVX6Y7DPSHEKZ&amp;lid=LSTMOBFVX6Y7DPSHEKZE7FXEC&amp;marketplace=FLIPKART&amp;q=smart+phones&amp;store=tyy%2F4io&amp;srno=s_1_17&amp;otracker=search&amp;fm=organic&amp;iid=6da0fea3-9ba2-4282-b413-53bba747be99.MOBFVX6Y7DPSHEKZ.SEARCH&amp;ppt=None&amp;ppn=None&amp;ssid=1eru8fsdmo0000001623816938871&amp;qH=a5594894156db043\" rel=\"noopener noreferrer\" target=\"_blank\"><div class=\"MIXNux\"><div class=\"_2QcLo-\"><div><div class=\"CXW8mj\" style=\"height:200px;width:200px\"><img alt=\"Infinix Hot 10 (Obsidian Black, 64 GB)\" class=\"_396cs4 _3exPp9\" src=\"https://rukminim1.flixcart.com/image/312/312/kfpq5jk0/mobile/e/k/z/infinix-hot-10-x682b-original-imafw43dphkyztfk.jpeg?q=70\"/></div></div></div><div class=\"_3wLduG\"><div class=\"_3PzNI-\"><span class=\"f3A4_V\"><label class=\"_2iDkf8\"><input class=\"_30VH1S\" readonly=\"\" type=\"checkbox\"/><div class=\"_24_Dny\"></div></label></span><label class=\"_6Up2sF\"><span>Add to Compare</span></label></div></div><div class=\"_2hVSre _3nq8ih\"><div class=\"_36FSn5\"><svg class=\"_1l0elc\" height=\"16\" viewbox=\"0 0 20 16\" width=\"16\" xmlns=\"http://www.w3.org/2000/svg\"><path class=\"eX72wL\" d=\"M8.695 16.682C4.06 12.382 1 9.536 1 6.065 1 3.219 3.178 1 5.95 1c1.566 0 3.069.746 4.05 1.915C10.981 1.745 12.484 1 14.05 1 16.822 1 19 3.22 19 6.065c0 3.471-3.06 6.316-7.695 10.617L10 17.897l-1.305-1.215z\" fill=\"#2874F0\" fill-rule=\"evenodd\" opacity=\".9\" stroke=\"#FFF\"></path></svg></div></div></div><div class=\"_3pLy-c row\"><div class=\"col col-7-12\"><div class=\"_4rR01T\">Infinix Hot 10 (Obsidian Black, 64 GB)</div><div class=\"gUuXy-\"><span class=\"_1lRcqv\" id=\"productRating_LSTMOBFVX6Y7DPSHEKZE7FXEC_MOBFVX6Y7DPSHEKZ_\"><div class=\"_3LWZlK\">4.4<img class=\"_1wB99o\" src=\"data:image/svg+xml;base64,PHN2ZyB4bWxucz0iaHR0cDovL3d3dy53My5vcmcvMjAwMC9zdmciIHdpZHRoPSIxMyIgaGVpZ2h0PSIxMiI+PHBhdGggZmlsbD0iI0ZGRiIgZD0iTTYuNSA5LjQzOWwtMy42NzQgMi4yMy45NC00LjI2LTMuMjEtMi44ODMgNC4yNTQtLjQwNEw2LjUuMTEybDEuNjkgNC4wMSA0LjI1NC40MDQtMy4yMSAyLjg4Mi45NCA0LjI2eiIvPjwvc3ZnPg==\"/></div></span><span class=\"_2_R_DZ\"><span><span>64,084 Ratings </span><span class=\"_13vcmD\">&amp;</span><span> 5,136 Reviews</span></span></span></div><div class=\"fMghEO\"><ul class=\"_1xgFaf\"><li class=\"rgWa7D\">4 GB RAM | 64 GB ROM | Expandable Upto 256 GB</li><li class=\"rgWa7D\">17.22 cm (6.78 inch) HD+ Display</li><li class=\"rgWa7D\">16MP + 2MP + 2MP + Low Light Sensor | 8MP Front Camera</li><li class=\"rgWa7D\">5200 mAh Li-ion Polymer Battery</li><li class=\"rgWa7D\">MediaTek Helio G70 Processor</li><li class=\"rgWa7D\">1 Year on Handset and 6 Months on Accessories</li></ul></div></div><div class=\"col col-5-12 nlI3QM\"><div class=\"_3tbKJL\"><div class=\"_25b18c\"><div class=\"_30jeq3 _1_WHN1\">₹8,999</div><div class=\"_3I9_wc _27UcVY\">₹<!-- -->11,999</div><div class=\"_3Ay6Sb\"><span>25% off</span></div></div></div><div class=\"_13J9qT\"><img height=\"21\" src=\"//static-assets-web.flixcart.com/www/linchpin/fk-cp-zion/img/fa_62673a.png\"/></div><div class=\"_2ZdXDB\"><div class=\"_3xFhiH\"><div class=\"_2Tpdn3 _18hQoS\" style=\"color:#000000;font-size:14px;font-style:normal;font-weight:400\">Upto </div><div class=\"_2Tpdn3 _18hQoS\" style=\"color:#000000;font-size:14px;font-style:normal;font-weight:700\">₹8,350</div><div class=\"_2Tpdn3 _18hQoS\" style=\"color:#000000;font-size:14px;font-style:normal;font-weight:400\"> Off on Exchange</div></div></div></div></div></a></div></div></div></div><div class=\"_1AtVbE col-12-12\"><div class=\"_13oc-S\"><div data-id=\"MOBFVX6YHMSDNJZH\" style=\"width:100%\"><div class=\"_2kHMtA\"><a class=\"_1fQZEK\" href=\"/infinix-hot-10-amber-red-64-gb/p/itm05a303fc89d2e?pid=MOBFVX6YHMSDNJZH&amp;lid=LSTMOBFVX6YHMSDNJZHACZZRN&amp;marketplace=FLIPKART&amp;q=smart+phones&amp;store=tyy%2F4io&amp;srno=s_1_18&amp;otracker=search&amp;fm=organic&amp;iid=6da0fea3-9ba2-4282-b413-53bba747be99.MOBFVX6YHMSDNJZH.SEARCH&amp;ppt=None&amp;ppn=None&amp;ssid=1eru8fsdmo0000001623816938871&amp;qH=a5594894156db043\" rel=\"noopener noreferrer\" target=\"_blank\"><div class=\"MIXNux\"><div class=\"_2QcLo-\"><div><div class=\"CXW8mj\" style=\"height:200px;width:200px\"><img alt=\"Infinix Hot 10 (Amber Red, 64 GB)\" class=\"_396cs4 _3exPp9\" src=\"https://rukminim1.flixcart.com/image/312/312/kfpq5jk0/mobile/j/z/h/infinix-hot-10-x682b-original-imafw4fcymcw4qv3.jpeg?q=70\"/></div></div></div><div class=\"_3wLduG\"><div class=\"_3PzNI-\"><span class=\"f3A4_V\"><label class=\"_2iDkf8\"><input class=\"_30VH1S\" readonly=\"\" type=\"checkbox\"/><div class=\"_24_Dny\"></div></label></span><label class=\"_6Up2sF\"><span>Add to Compare</span></label></div></div><div class=\"_2hVSre _3nq8ih\"><div class=\"_36FSn5\"><svg class=\"_1l0elc\" height=\"16\" viewbox=\"0 0 20 16\" width=\"16\" xmlns=\"http://www.w3.org/2000/svg\"><path class=\"eX72wL\" d=\"M8.695 16.682C4.06 12.382 1 9.536 1 6.065 1 3.219 3.178 1 5.95 1c1.566 0 3.069.746 4.05 1.915C10.981 1.745 12.484 1 14.05 1 16.822 1 19 3.22 19 6.065c0 3.471-3.06 6.316-7.695 10.617L10 17.897l-1.305-1.215z\" fill=\"#2874F0\" fill-rule=\"evenodd\" opacity=\".9\" stroke=\"#FFF\"></path></svg></div></div></div><div class=\"_3pLy-c row\"><div class=\"col col-7-12\"><div class=\"_4rR01T\">Infinix Hot 10 (Amber Red, 64 GB)</div><div class=\"gUuXy-\"><span class=\"_1lRcqv\" id=\"productRating_LSTMOBFVX6YHMSDNJZHACZZRN_MOBFVX6YHMSDNJZH_\"><div class=\"_3LWZlK\">4.4<img class=\"_1wB99o\" src=\"data:image/svg+xml;base64,PHN2ZyB4bWxucz0iaHR0cDovL3d3dy53My5vcmcvMjAwMC9zdmciIHdpZHRoPSIxMyIgaGVpZ2h0PSIxMiI+PHBhdGggZmlsbD0iI0ZGRiIgZD0iTTYuNSA5LjQzOWwtMy42NzQgMi4yMy45NC00LjI2LTMuMjEtMi44ODMgNC4yNTQtLjQwNEw2LjUuMTEybDEuNjkgNC4wMSA0LjI1NC40MDQtMy4yMSAyLjg4Mi45NCA0LjI2eiIvPjwvc3ZnPg==\"/></div></span><span class=\"_2_R_DZ\"><span><span>64,084 Ratings </span><span class=\"_13vcmD\">&amp;</span><span> 5,136 Reviews</span></span></span></div><div class=\"fMghEO\"><ul class=\"_1xgFaf\"><li class=\"rgWa7D\">4 GB RAM | 64 GB ROM | Expandable Upto 256 GB</li><li class=\"rgWa7D\">17.22 cm (6.78 inch) HD+ Display</li><li class=\"rgWa7D\">16MP + 2MP + 2MP + Low Light Sensor | 8MP Front Camera</li><li class=\"rgWa7D\">5200 mAh Li-ion Polymer Battery</li><li class=\"rgWa7D\">MediaTek Helio G70 Processor</li><li class=\"rgWa7D\">1 Year on Handset and 6 Months on Accessories</li></ul></div></div><div class=\"col col-5-12 nlI3QM\"><div class=\"_3tbKJL\"><div class=\"_25b18c\"><div class=\"_30jeq3 _1_WHN1\">₹8,999</div><div class=\"_3I9_wc _27UcVY\">₹<!-- -->11,999</div><div class=\"_3Ay6Sb\"><span>25% off</span></div></div></div><div class=\"_13J9qT\"><img height=\"21\" src=\"//static-assets-web.flixcart.com/www/linchpin/fk-cp-zion/img/fa_62673a.png\"/></div><div class=\"_2ZdXDB\"><div class=\"_3xFhiH\"><div class=\"_2Tpdn3 _18hQoS\" style=\"color:#000000;font-size:14px;font-style:normal;font-weight:400\">Upto </div><div class=\"_2Tpdn3 _18hQoS\" style=\"color:#000000;font-size:14px;font-style:normal;font-weight:700\">₹8,350</div><div class=\"_2Tpdn3 _18hQoS\" style=\"color:#000000;font-size:14px;font-style:normal;font-weight:400\"> Off on Exchange</div></div></div></div></div></a></div></div></div></div><div class=\"_1AtVbE col-12-12\"><div class=\"_13oc-S\"><div data-id=\"MOBGFG7UWVKZUXS2\" style=\"width:100%\"><div class=\"_2kHMtA\"><a class=\"_1fQZEK\" href=\"/infinix-hot-10-play-7-purple-64-gb/p/itm1f660c8716944?pid=MOBGFG7UWVKZUXS2&amp;lid=LSTMOBGFG7UWVKZUXS24SUVN7&amp;marketplace=FLIPKART&amp;q=smart+phones&amp;store=tyy%2F4io&amp;srno=s_1_19&amp;otracker=search&amp;fm=organic&amp;iid=6da0fea3-9ba2-4282-b413-53bba747be99.MOBGFG7UWVKZUXS2.SEARCH&amp;ppt=None&amp;ppn=None&amp;ssid=1eru8fsdmo0000001623816938871&amp;qH=a5594894156db043\" rel=\"noopener noreferrer\" target=\"_blank\"><div class=\"MIXNux\"><div class=\"_2QcLo-\"><div><div class=\"CXW8mj\" style=\"height:200px;width:200px\"><img alt=\"Infinix Hot 10 Play (7° Purple, 64 GB)\" class=\"_396cs4 _3exPp9\" src=\"https://rukminim1.flixcart.com/image/312/312/knm2s280/mobile/c/n/a/hot-10-play-x688b-infinix-original-imag29hfg6vspbuz.jpeg?q=70\"/></div></div></div><div class=\"_3wLduG\"><div class=\"_3PzNI-\"><span class=\"f3A4_V\"><label class=\"_2iDkf8\"><input class=\"_30VH1S\" readonly=\"\" type=\"checkbox\"/><div class=\"_24_Dny\"></div></label></span><label class=\"_6Up2sF\"><span>Add to Compare</span></label></div></div><div class=\"_2hVSre _3nq8ih\"><div class=\"_36FSn5\"><svg class=\"_1l0elc\" height=\"16\" viewbox=\"0 0 20 16\" width=\"16\" xmlns=\"http://www.w3.org/2000/svg\"><path class=\"eX72wL\" d=\"M8.695 16.682C4.06 12.382 1 9.536 1 6.065 1 3.219 3.178 1 5.95 1c1.566 0 3.069.746 4.05 1.915C10.981 1.745 12.484 1 14.05 1 16.822 1 19 3.22 19 6.065c0 3.471-3.06 6.316-7.695 10.617L10 17.897l-1.305-1.215z\" fill=\"#2874F0\" fill-rule=\"evenodd\" opacity=\".9\" stroke=\"#FFF\"></path></svg></div></div></div><div class=\"_3pLy-c row\"><div class=\"col col-7-12\"><div class=\"_4rR01T\">Infinix Hot 10 Play (7° Purple, 64 GB)</div><div class=\"gUuXy-\"><span class=\"_1lRcqv\" id=\"productRating_LSTMOBGFG7UWVKZUXS24SUVN7_MOBGFG7UWVKZUXS2_\"><div class=\"_3LWZlK\">4.3<img class=\"_1wB99o\" src=\"data:image/svg+xml;base64,PHN2ZyB4bWxucz0iaHR0cDovL3d3dy53My5vcmcvMjAwMC9zdmciIHdpZHRoPSIxMyIgaGVpZ2h0PSIxMiI+PHBhdGggZmlsbD0iI0ZGRiIgZD0iTTYuNSA5LjQzOWwtMy42NzQgMi4yMy45NC00LjI2LTMuMjEtMi44ODMgNC4yNTQtLjQwNEw2LjUuMTEybDEuNjkgNC4wMSA0LjI1NC40MDQtMy4yMSAyLjg4Mi45NCA0LjI2eiIvPjwvc3ZnPg==\"/></div></span><span class=\"_2_R_DZ\"><span><span>22,718 Ratings </span><span class=\"_13vcmD\">&amp;</span><span> 1,705 Reviews</span></span></span></div><div class=\"fMghEO\"><ul class=\"_1xgFaf\"><li class=\"rgWa7D\">4 GB RAM | 64 GB ROM | Expandable Upto 256 GB</li><li class=\"rgWa7D\">17.32 cm (6.82 inch) HD+ Display</li><li class=\"rgWa7D\">13MP + Depth Sensor | 8MP Front Camera</li><li class=\"rgWa7D\">6000 mAh Li-ion Polymer Battery</li><li class=\"rgWa7D\">MediaTek Helio G35 Processor</li><li class=\"rgWa7D\">1 Year on Handset and 6 Months on Accessories</li></ul></div></div><div class=\"col col-5-12 nlI3QM\"><div class=\"_3tbKJL\"><div class=\"_25b18c\"><div class=\"_30jeq3 _1_WHN1\">₹8,499</div><div class=\"_3I9_wc _27UcVY\">₹<!-- -->10,999</div><div class=\"_3Ay6Sb\"><span>22% off</span></div></div></div><div class=\"_13J9qT\"><img height=\"21\" src=\"//static-assets-web.flixcart.com/www/linchpin/fk-cp-zion/img/fa_62673a.png\"/></div><div class=\"_2ZdXDB\"><div class=\"_3xFhiH\"><div class=\"_2Tpdn3 _18hQoS\" style=\"color:#000000;font-size:14px;font-style:normal;font-weight:400\">Upto </div><div class=\"_2Tpdn3 _18hQoS\" style=\"color:#000000;font-size:14px;font-style:normal;font-weight:700\">₹7,950</div><div class=\"_2Tpdn3 _18hQoS\" style=\"color:#000000;font-size:14px;font-style:normal;font-weight:400\"> Off on Exchange</div></div></div></div></div></a></div></div></div></div><div class=\"_1AtVbE col-12-12\"><div class=\"_13oc-S\"><div data-id=\"MOBFYZ7AVAXXB2TH\" style=\"width:100%\"><div class=\"_2kHMtA\"><a class=\"_1fQZEK\" href=\"/redmi-9-power-electric-green-64-gb/p/itmca7d78e222ed7?pid=MOBFYZ7AVAXXB2TH&amp;lid=LSTMOBFYZ7AVAXXB2THVSNL0U&amp;marketplace=FLIPKART&amp;q=smart+phones&amp;store=tyy%2F4io&amp;srno=s_1_20&amp;otracker=search&amp;fm=organic&amp;iid=6da0fea3-9ba2-4282-b413-53bba747be99.MOBFYZ7AVAXXB2TH.SEARCH&amp;ppt=None&amp;ppn=None&amp;ssid=1eru8fsdmo0000001623816938871&amp;qH=a5594894156db043\" rel=\"noopener noreferrer\" target=\"_blank\"><div class=\"MIXNux\"><div class=\"_2QcLo-\"><div><div class=\"CXW8mj\" style=\"height:200px;width:200px\"><img alt=\"REDMI 9 Power (Electric Green, 64 GB)\" class=\"_396cs4 _3exPp9\" src=\"https://rukminim1.flixcart.com/image/312/312/kj0bp8w0-0/mobile/p/n/c/9-power-mobhqab5-redmi-original-imafyz7aqsrggzgh.jpeg?q=70\"/></div></div></div><div class=\"_3wLduG\"><div class=\"_3PzNI-\"><span class=\"f3A4_V\"><label class=\"_2iDkf8\"><input class=\"_30VH1S\" readonly=\"\" type=\"checkbox\"/><div class=\"_24_Dny\"></div></label></span><label class=\"_6Up2sF\"><span>Add to Compare</span></label></div></div><div class=\"_2hVSre _3nq8ih\"><div class=\"_36FSn5\"><svg class=\"_1l0elc\" height=\"16\" viewbox=\"0 0 20 16\" width=\"16\" xmlns=\"http://www.w3.org/2000/svg\"><path class=\"eX72wL\" d=\"M8.695 16.682C4.06 12.382 1 9.536 1 6.065 1 3.219 3.178 1 5.95 1c1.566 0 3.069.746 4.05 1.915C10.981 1.745 12.484 1 14.05 1 16.822 1 19 3.22 19 6.065c0 3.471-3.06 6.316-7.695 10.617L10 17.897l-1.305-1.215z\" fill=\"#2874F0\" fill-rule=\"evenodd\" opacity=\".9\" stroke=\"#FFF\"></path></svg></div></div></div><div class=\"_3pLy-c row\"><div class=\"col col-7-12\"><div class=\"_4rR01T\">REDMI 9 Power (Electric Green, 64 GB)</div><div class=\"gUuXy-\"><span class=\"_1lRcqv\" id=\"productRating_LSTMOBFYZ7AVAXXB2THVSNL0U_MOBFYZ7AVAXXB2TH_\"><div class=\"_3LWZlK\">4.3<img class=\"_1wB99o\" src=\"data:image/svg+xml;base64,PHN2ZyB4bWxucz0iaHR0cDovL3d3dy53My5vcmcvMjAwMC9zdmciIHdpZHRoPSIxMyIgaGVpZ2h0PSIxMiI+PHBhdGggZmlsbD0iI0ZGRiIgZD0iTTYuNSA5LjQzOWwtMy42NzQgMi4yMy45NC00LjI2LTMuMjEtMi44ODMgNC4yNTQtLjQwNEw2LjUuMTEybDEuNjkgNC4wMSA0LjI1NC40MDQtMy4yMSAyLjg4Mi45NCA0LjI2eiIvPjwvc3ZnPg==\"/></div></span><span class=\"_2_R_DZ\"><span><span>64,621 Ratings </span><span class=\"_13vcmD\">&amp;</span><span> 4,567 Reviews</span></span></span></div><div class=\"fMghEO\"><ul class=\"_1xgFaf\"><li class=\"rgWa7D\">4 GB RAM | 64 GB ROM</li><li class=\"rgWa7D\">16.59 cm (6.53 inch) Full HD+ Display</li><li class=\"rgWa7D\">48MP Rear Camera | 8MP Front Camera</li><li class=\"rgWa7D\">6000 mAh Battery</li><li class=\"rgWa7D\">Qualcomm Snapdragon 662 Processor</li><li class=\"rgWa7D\">1 year manufacturer warranty for device and 6 months manufacturer warranty for in-box accessories including batteries from the date of purchase</li></ul></div></div><div class=\"col col-5-12 nlI3QM\"><div class=\"_3tbKJL\"><div class=\"_25b18c\"><div class=\"_30jeq3 _1_WHN1\">₹10,499</div><div class=\"_3I9_wc _27UcVY\">₹<!-- -->13,999</div><div class=\"_3Ay6Sb\"><span>25% off</span></div></div></div><div class=\"_13J9qT\"><img height=\"21\" src=\"//static-assets-web.flixcart.com/www/linchpin/fk-cp-zion/img/fa_62673a.png\"/></div><div class=\"_2ZdXDB\"><div class=\"_3xFhiH\"><div class=\"_2Tpdn3 _18hQoS\" style=\"color:#000000;font-size:14px;font-style:normal;font-weight:400\">Upto </div><div class=\"_2Tpdn3 _18hQoS\" style=\"color:#000000;font-size:14px;font-style:normal;font-weight:700\">₹9,900</div><div class=\"_2Tpdn3 _18hQoS\" style=\"color:#000000;font-size:14px;font-style:normal;font-weight:400\"> Off on Exchange</div></div></div></div></div></a></div></div></div></div><div class=\"_1AtVbE col-12-12\"><div class=\"_13oc-S\"><div data-id=\"MOBFV8RYNA4FVEH7\" style=\"width:100%\"><div class=\"_2kHMtA\"><a class=\"_1fQZEK\" href=\"/redmi-9i-nature-green-64-gb/p/itm2e2fcd7b3eb7b?pid=MOBFV8RYNA4FVEH7&amp;lid=LSTMOBFV8RYNA4FVEH7GEI6Y9&amp;marketplace=FLIPKART&amp;q=smart+phones&amp;store=tyy%2F4io&amp;srno=s_1_21&amp;otracker=search&amp;fm=organic&amp;iid=6da0fea3-9ba2-4282-b413-53bba747be99.MOBFV8RYNA4FVEH7.SEARCH&amp;ppt=None&amp;ppn=None&amp;ssid=1eru8fsdmo0000001623816938871&amp;qH=a5594894156db043\" rel=\"noopener noreferrer\" target=\"_blank\"><div class=\"MIXNux\"><div class=\"_2QcLo-\"><div><div class=\"CXW8mj\" style=\"height:200px;width:200px\"><img alt=\"REDMI 9i (Nature Green, 64 GB)\" class=\"_396cs4 _3exPp9\" src=\"https://rukminim1.flixcart.com/image/312/312/kesv0y80/mobile/u/h/m/redmi-9i-mzb0818in-original-imafveh4xva2fes2.jpeg?q=70\"/></div></div></div><div class=\"_3wLduG\"><div class=\"_3PzNI-\"><span class=\"f3A4_V\"><label class=\"_2iDkf8\"><input class=\"_30VH1S\" readonly=\"\" type=\"checkbox\"/><div class=\"_24_Dny\"></div></label></span><label class=\"_6Up2sF\"><span>Add to Compare</span></label></div></div><div class=\"_2hVSre _3nq8ih\"><div class=\"_36FSn5\"><svg class=\"_1l0elc\" height=\"16\" viewbox=\"0 0 20 16\" width=\"16\" xmlns=\"http://www.w3.org/2000/svg\"><path class=\"eX72wL\" d=\"M8.695 16.682C4.06 12.382 1 9.536 1 6.065 1 3.219 3.178 1 5.95 1c1.566 0 3.069.746 4.05 1.915C10.981 1.745 12.484 1 14.05 1 16.822 1 19 3.22 19 6.065c0 3.471-3.06 6.316-7.695 10.617L10 17.897l-1.305-1.215z\" fill=\"#2874F0\" fill-rule=\"evenodd\" opacity=\".9\" stroke=\"#FFF\"></path></svg></div></div></div><div class=\"_3pLy-c row\"><div class=\"col col-7-12\"><div class=\"_4rR01T\">REDMI 9i (Nature Green, 64 GB)</div><div class=\"gUuXy-\"><span class=\"_1lRcqv\" id=\"productRating_LSTMOBFV8RYNA4FVEH7GEI6Y9_MOBFV8RYNA4FVEH7_\"><div class=\"_3LWZlK\">4.3<img class=\"_1wB99o\" src=\"data:image/svg+xml;base64,PHN2ZyB4bWxucz0iaHR0cDovL3d3dy53My5vcmcvMjAwMC9zdmciIHdpZHRoPSIxMyIgaGVpZ2h0PSIxMiI+PHBhdGggZmlsbD0iI0ZGRiIgZD0iTTYuNSA5LjQzOWwtMy42NzQgMi4yMy45NC00LjI2LTMuMjEtMi44ODMgNC4yNTQtLjQwNEw2LjUuMTEybDEuNjkgNC4wMSA0LjI1NC40MDQtMy4yMSAyLjg4Mi45NCA0LjI2eiIvPjwvc3ZnPg==\"/></div></span><span class=\"_2_R_DZ\"><span><span>3,15,436 Ratings </span><span class=\"_13vcmD\">&amp;</span><span> 17,910 Reviews</span></span></span></div><div class=\"fMghEO\"><ul class=\"_1xgFaf\"><li class=\"rgWa7D\">4 GB RAM | 64 GB ROM | Expandable Upto 512 GB</li><li class=\"rgWa7D\">16.59 cm (6.53 inch) HD+ Display</li><li class=\"rgWa7D\">13MP Rear Camera | 5MP Front Camera</li><li class=\"rgWa7D\">5000 mAh Lithium Polymer Battery</li><li class=\"rgWa7D\">MediaTek Helio G25 Processor</li><li class=\"rgWa7D\">Brand Warranty of 1 Year Available for Mobile and 6 Months for Accessories</li></ul></div></div><div class=\"col col-5-12 nlI3QM\"><div class=\"_3tbKJL\"><div class=\"_25b18c\"><div class=\"_30jeq3 _1_WHN1\">₹7,999</div><div class=\"_3I9_wc _27UcVY\">₹<!-- -->9,999</div><div class=\"_3Ay6Sb\"><span>20% off</span></div></div></div><div class=\"_13J9qT\"><img height=\"21\" src=\"//static-assets-web.flixcart.com/www/linchpin/fk-cp-zion/img/fa_62673a.png\"/></div><div class=\"_2ZdXDB\"><div class=\"_3xFhiH\"><div class=\"_2Tpdn3 _18hQoS\" style=\"color:#000000;font-size:14px;font-style:normal;font-weight:400\">Upto </div><div class=\"_2Tpdn3 _18hQoS\" style=\"color:#000000;font-size:14px;font-style:normal;font-weight:700\">₹7,450</div><div class=\"_2Tpdn3 _18hQoS\" style=\"color:#000000;font-size:14px;font-style:normal;font-weight:400\"> Off on Exchange</div></div></div></div></div></a></div></div></div></div><div class=\"_1AtVbE col-12-12\"><div class=\"_13oc-S\"><div data-id=\"MOBFUPX9KHUXY9HZ\" style=\"width:100%\"><div class=\"_2kHMtA\"><a class=\"_1fQZEK\" href=\"/gionee-max-red-32-gb/p/itm9c57c2a56c825?pid=MOBFUPX9KHUXY9HZ&amp;lid=LSTMOBFUPX9KHUXY9HZD02LUV&amp;marketplace=FLIPKART&amp;q=smart+phones&amp;store=tyy%2F4io&amp;srno=s_1_22&amp;otracker=search&amp;fm=organic&amp;iid=6da0fea3-9ba2-4282-b413-53bba747be99.MOBFUPX9KHUXY9HZ.SEARCH&amp;ppt=None&amp;ppn=None&amp;ssid=1eru8fsdmo0000001623816938871&amp;qH=a5594894156db043\" rel=\"noopener noreferrer\" target=\"_blank\"><div class=\"MIXNux\"><div class=\"_2QcLo-\"><div><div class=\"CXW8mj\" style=\"height:200px;width:200px\"><img alt=\"GIONEE Max (Red, 32 GB)\" class=\"_396cs4 _3exPp9\" src=\"https://rukminim1.flixcart.com/image/312/312/ke1pnrk0/mobile/9/h/z/gionee-max-gionee-max-original-imafutmryqkxehzn.jpeg?q=70\"/></div></div></div><div class=\"_3wLduG\"><div class=\"_3PzNI-\"><span class=\"f3A4_V\"><label class=\"_2iDkf8\"><input class=\"_30VH1S\" readonly=\"\" type=\"checkbox\"/><div class=\"_24_Dny\"></div></label></span><label class=\"_6Up2sF\"><span>Add to Compare</span></label></div></div><div class=\"_2hVSre _3nq8ih\"><div class=\"_36FSn5\"><svg class=\"_1l0elc\" height=\"16\" viewbox=\"0 0 20 16\" width=\"16\" xmlns=\"http://www.w3.org/2000/svg\"><path class=\"eX72wL\" d=\"M8.695 16.682C4.06 12.382 1 9.536 1 6.065 1 3.219 3.178 1 5.95 1c1.566 0 3.069.746 4.05 1.915C10.981 1.745 12.484 1 14.05 1 16.822 1 19 3.22 19 6.065c0 3.471-3.06 6.316-7.695 10.617L10 17.897l-1.305-1.215z\" fill=\"#2874F0\" fill-rule=\"evenodd\" opacity=\".9\" stroke=\"#FFF\"></path></svg></div></div></div><div class=\"_3pLy-c row\"><div class=\"col col-7-12\"><div class=\"_4rR01T\">GIONEE Max (Red, 32 GB)</div><div class=\"gUuXy-\"><span class=\"_1lRcqv\" id=\"productRating_LSTMOBFUPX9KHUXY9HZD02LUV_MOBFUPX9KHUXY9HZ_\"><div class=\"_3LWZlK\">4.1<img class=\"_1wB99o\" src=\"data:image/svg+xml;base64,PHN2ZyB4bWxucz0iaHR0cDovL3d3dy53My5vcmcvMjAwMC9zdmciIHdpZHRoPSIxMyIgaGVpZ2h0PSIxMiI+PHBhdGggZmlsbD0iI0ZGRiIgZD0iTTYuNSA5LjQzOWwtMy42NzQgMi4yMy45NC00LjI2LTMuMjEtMi44ODMgNC4yNTQtLjQwNEw2LjUuMTEybDEuNjkgNC4wMSA0LjI1NC40MDQtMy4yMSAyLjg4Mi45NCA0LjI2eiIvPjwvc3ZnPg==\"/></div></span><span class=\"_2_R_DZ\"><span><span>77,806 Ratings </span><span class=\"_13vcmD\">&amp;</span><span> 7,485 Reviews</span></span></span></div><div class=\"fMghEO\"><ul class=\"_1xgFaf\"><li class=\"rgWa7D\">2 GB RAM | 32 GB ROM | Expandable Upto 256 GB</li><li class=\"rgWa7D\">15.49 cm (6.1 inch) HD+ Display</li><li class=\"rgWa7D\">13MP + Digital Camera | 5MP Front Camera</li><li class=\"rgWa7D\">5000 mAh Lithium-ion Polymer Battery</li><li class=\"rgWa7D\">Octa Core Processor</li><li class=\"rgWa7D\">One Year for Handset, 6 Months for Accessories</li></ul></div></div><div class=\"col col-5-12 nlI3QM\"><div class=\"_3tbKJL\"><div class=\"_25b18c\"><div class=\"_30jeq3 _1_WHN1\">₹5,499</div><div class=\"_3I9_wc _27UcVY\">₹<!-- -->7,990</div><div class=\"_3Ay6Sb\"><span>31% off</span></div></div></div><div class=\"_13J9qT\"><img height=\"21\" src=\"//static-assets-web.flixcart.com/www/linchpin/fk-cp-zion/img/fa_62673a.png\"/></div><div class=\"_2ZdXDB\"><div class=\"_3xFhiH\"><div class=\"_2Tpdn3 _18hQoS\" style=\"color:#000000;font-size:14px;font-style:normal;font-weight:400\">Upto </div><div class=\"_2Tpdn3 _18hQoS\" style=\"color:#000000;font-size:14px;font-style:normal;font-weight:700\">₹4,950</div><div class=\"_2Tpdn3 _18hQoS\" style=\"color:#000000;font-size:14px;font-style:normal;font-weight:400\"> Off on Exchange</div></div></div></div></div></a></div></div></div></div><div class=\"_1AtVbE col-12-12\"><div class=\"_13oc-S\"><div data-id=\"MOBGFG7U8PDJFFTJ\" style=\"width:100%\"><div class=\"_2kHMtA\"><a class=\"_1fQZEK\" href=\"/infinix-hot-10-play-morandi-green-64-gb/p/itm1f660c8716944?pid=MOBGFG7U8PDJFFTJ&amp;lid=LSTMOBGFG7U8PDJFFTJDLSYLK&amp;marketplace=FLIPKART&amp;q=smart+phones&amp;store=tyy%2F4io&amp;srno=s_1_23&amp;otracker=search&amp;fm=organic&amp;iid=6da0fea3-9ba2-4282-b413-53bba747be99.MOBGFG7U8PDJFFTJ.SEARCH&amp;ppt=None&amp;ppn=None&amp;ssid=1eru8fsdmo0000001623816938871&amp;qH=a5594894156db043\" rel=\"noopener noreferrer\" target=\"_blank\"><div class=\"MIXNux\"><div class=\"_2QcLo-\"><div><div class=\"CXW8mj\" style=\"height:200px;width:200px\"><img alt=\"Infinix Hot 10 Play (Morandi Green, 64 GB)\" class=\"_396cs4 _3exPp9\" src=\"https://rukminim1.flixcart.com/image/312/312/knm2s280/mobile/v/l/u/hot-10-play-x688b-infinix-original-imag29hfaedkgdfe.jpeg?q=70\"/></div></div></div><div class=\"_3wLduG\"><div class=\"_3PzNI-\"><span class=\"f3A4_V\"><label class=\"_2iDkf8\"><input class=\"_30VH1S\" readonly=\"\" type=\"checkbox\"/><div class=\"_24_Dny\"></div></label></span><label class=\"_6Up2sF\"><span>Add to Compare</span></label></div></div><div class=\"_2hVSre _3nq8ih\"><div class=\"_36FSn5\"><svg class=\"_1l0elc\" height=\"16\" viewbox=\"0 0 20 16\" width=\"16\" xmlns=\"http://www.w3.org/2000/svg\"><path class=\"eX72wL\" d=\"M8.695 16.682C4.06 12.382 1 9.536 1 6.065 1 3.219 3.178 1 5.95 1c1.566 0 3.069.746 4.05 1.915C10.981 1.745 12.484 1 14.05 1 16.822 1 19 3.22 19 6.065c0 3.471-3.06 6.316-7.695 10.617L10 17.897l-1.305-1.215z\" fill=\"#2874F0\" fill-rule=\"evenodd\" opacity=\".9\" stroke=\"#FFF\"></path></svg></div></div></div><div class=\"_3pLy-c row\"><div class=\"col col-7-12\"><div class=\"_4rR01T\">Infinix Hot 10 Play (Morandi Green, 64 GB)</div><div class=\"gUuXy-\"><span class=\"_1lRcqv\" id=\"productRating_LSTMOBGFG7U8PDJFFTJDLSYLK_MOBGFG7U8PDJFFTJ_\"><div class=\"_3LWZlK\">4.3<img class=\"_1wB99o\" src=\"data:image/svg+xml;base64,PHN2ZyB4bWxucz0iaHR0cDovL3d3dy53My5vcmcvMjAwMC9zdmciIHdpZHRoPSIxMyIgaGVpZ2h0PSIxMiI+PHBhdGggZmlsbD0iI0ZGRiIgZD0iTTYuNSA5LjQzOWwtMy42NzQgMi4yMy45NC00LjI2LTMuMjEtMi44ODMgNC4yNTQtLjQwNEw2LjUuMTEybDEuNjkgNC4wMSA0LjI1NC40MDQtMy4yMSAyLjg4Mi45NCA0LjI2eiIvPjwvc3ZnPg==\"/></div></span><span class=\"_2_R_DZ\"><span><span>22,718 Ratings </span><span class=\"_13vcmD\">&amp;</span><span> 1,705 Reviews</span></span></span></div><div class=\"fMghEO\"><ul class=\"_1xgFaf\"><li class=\"rgWa7D\">4 GB RAM | 64 GB ROM | Expandable Upto 256 GB</li><li class=\"rgWa7D\">17.32 cm (6.82 inch) HD+ Display</li><li class=\"rgWa7D\">13MP + Depth Sensor | 8MP Front Camera</li><li class=\"rgWa7D\">6000 mAh Li-ion Polymer Battery</li><li class=\"rgWa7D\">MediaTek Helio G35 Processor</li><li class=\"rgWa7D\">1 Year on Handset and 6 Months on Accessories</li></ul></div></div><div class=\"col col-5-12 nlI3QM\"><div class=\"_3tbKJL\"><div class=\"_25b18c\"><div class=\"_30jeq3 _1_WHN1\">₹8,499</div><div class=\"_3I9_wc _27UcVY\">₹<!-- -->10,999</div><div class=\"_3Ay6Sb\"><span>22% off</span></div></div></div><div class=\"_13J9qT\"><img height=\"21\" src=\"//static-assets-web.flixcart.com/www/linchpin/fk-cp-zion/img/fa_62673a.png\"/></div><div class=\"_2ZdXDB\"><div class=\"_3xFhiH\"><div class=\"_2Tpdn3 _18hQoS\" style=\"color:#000000;font-size:14px;font-style:normal;font-weight:400\">Upto </div><div class=\"_2Tpdn3 _18hQoS\" style=\"color:#000000;font-size:14px;font-style:normal;font-weight:700\">₹7,950</div><div class=\"_2Tpdn3 _18hQoS\" style=\"color:#000000;font-size:14px;font-style:normal;font-weight:400\"> Off on Exchange</div></div></div></div></div></a></div></div></div></div><div class=\"_1AtVbE col-12-12\"><div class=\"_13oc-S\"><div data-id=\"MOBGFG7URKYYCXUS\" style=\"width:100%\"><div class=\"_2kHMtA\"><a class=\"_1fQZEK\" href=\"/infinix-hot-10-play-aegean-blue-64-gb/p/itm1f660c8716944?pid=MOBGFG7URKYYCXUS&amp;lid=LSTMOBGFG7URKYYCXUSZ1U485&amp;marketplace=FLIPKART&amp;q=smart+phones&amp;store=tyy%2F4io&amp;srno=s_1_24&amp;otracker=search&amp;fm=organic&amp;iid=6da0fea3-9ba2-4282-b413-53bba747be99.MOBGFG7URKYYCXUS.SEARCH&amp;ppt=None&amp;ppn=None&amp;ssid=1eru8fsdmo0000001623816938871&amp;qH=a5594894156db043\" rel=\"noopener noreferrer\" target=\"_blank\"><div class=\"MIXNux\"><div class=\"_2QcLo-\"><div><div class=\"CXW8mj\" style=\"height:200px;width:200px\"><img alt=\"Infinix Hot 10 Play (Aegean Blue, 64 GB)\" class=\"_396cs4 _3exPp9\" src=\"https://rukminim1.flixcart.com/image/312/312/knm2s280/mobile/8/r/c/hot-10-play-x688b-infinix-original-imag29hftfmjywkv.jpeg?q=70\"/></div></div></div><div class=\"_3wLduG\"><div class=\"_3PzNI-\"><span class=\"f3A4_V\"><label class=\"_2iDkf8\"><input class=\"_30VH1S\" readonly=\"\" type=\"checkbox\"/><div class=\"_24_Dny\"></div></label></span><label class=\"_6Up2sF\"><span>Add to Compare</span></label></div></div><div class=\"_2hVSre _3nq8ih\"><div class=\"_36FSn5\"><svg class=\"_1l0elc\" height=\"16\" viewbox=\"0 0 20 16\" width=\"16\" xmlns=\"http://www.w3.org/2000/svg\"><path class=\"eX72wL\" d=\"M8.695 16.682C4.06 12.382 1 9.536 1 6.065 1 3.219 3.178 1 5.95 1c1.566 0 3.069.746 4.05 1.915C10.981 1.745 12.484 1 14.05 1 16.822 1 19 3.22 19 6.065c0 3.471-3.06 6.316-7.695 10.617L10 17.897l-1.305-1.215z\" fill=\"#2874F0\" fill-rule=\"evenodd\" opacity=\".9\" stroke=\"#FFF\"></path></svg></div></div></div><div class=\"_3pLy-c row\"><div class=\"col col-7-12\"><div class=\"_4rR01T\">Infinix Hot 10 Play (Aegean Blue, 64 GB)</div><div class=\"gUuXy-\"><span class=\"_1lRcqv\" id=\"productRating_LSTMOBGFG7URKYYCXUSZ1U485_MOBGFG7URKYYCXUS_\"><div class=\"_3LWZlK\">4.3<img class=\"_1wB99o\" src=\"data:image/svg+xml;base64,PHN2ZyB4bWxucz0iaHR0cDovL3d3dy53My5vcmcvMjAwMC9zdmciIHdpZHRoPSIxMyIgaGVpZ2h0PSIxMiI+PHBhdGggZmlsbD0iI0ZGRiIgZD0iTTYuNSA5LjQzOWwtMy42NzQgMi4yMy45NC00LjI2LTMuMjEtMi44ODMgNC4yNTQtLjQwNEw2LjUuMTEybDEuNjkgNC4wMSA0LjI1NC40MDQtMy4yMSAyLjg4Mi45NCA0LjI2eiIvPjwvc3ZnPg==\"/></div></span><span class=\"_2_R_DZ\"><span><span>22,718 Ratings </span><span class=\"_13vcmD\">&amp;</span><span> 1,705 Reviews</span></span></span></div><div class=\"fMghEO\"><ul class=\"_1xgFaf\"><li class=\"rgWa7D\">4 GB RAM | 64 GB ROM | Expandable Upto 256 GB</li><li class=\"rgWa7D\">17.32 cm (6.82 inch) HD+ Display</li><li class=\"rgWa7D\">13MP + Depth Sensor | 8MP Front Camera</li><li class=\"rgWa7D\">6000 mAh Li-ion Polymer Battery</li><li class=\"rgWa7D\">MediaTek Helio G35 Processor</li><li class=\"rgWa7D\">1 Year on Handset and 6 Months on Accessories</li></ul></div></div><div class=\"col col-5-12 nlI3QM\"><div class=\"_3tbKJL\"><div class=\"_25b18c\"><div class=\"_30jeq3 _1_WHN1\">₹8,499</div><div class=\"_3I9_wc _27UcVY\">₹<!-- -->10,999</div><div class=\"_3Ay6Sb\"><span>22% off</span></div></div></div><div class=\"_13J9qT\"><img height=\"21\" src=\"//static-assets-web.flixcart.com/www/linchpin/fk-cp-zion/img/fa_62673a.png\"/></div><div class=\"_2ZdXDB\"><div class=\"_3xFhiH\"><div class=\"_2Tpdn3 _18hQoS\" style=\"color:#000000;font-size:14px;font-style:normal;font-weight:400\">Upto </div><div class=\"_2Tpdn3 _18hQoS\" style=\"color:#000000;font-size:14px;font-style:normal;font-weight:700\">₹7,950</div><div class=\"_2Tpdn3 _18hQoS\" style=\"color:#000000;font-size:14px;font-style:normal;font-weight:400\"> Off on Exchange</div></div></div></div></div></a></div></div></div></div><div class=\"_1AtVbE col-12-12\"><div><div class=\"_2MImiq\"><span>Page 1 of 244</span><nav class=\"yFHi8N\"><a class=\"ge-49M _2Kfbh8\" href=\"/search?q=smart+phones&amp;page=1\">1</a><a class=\"ge-49M\" href=\"/search?q=smart+phones&amp;page=2\">2</a><a class=\"ge-49M\" href=\"/search?q=smart+phones&amp;page=3\">3</a><a class=\"ge-49M\" href=\"/search?q=smart+phones&amp;page=4\">4</a><a class=\"ge-49M\" href=\"/search?q=smart+phones&amp;page=5\">5</a><a class=\"ge-49M\" href=\"/search?q=smart+phones&amp;page=6\">6</a><a class=\"ge-49M\" href=\"/search?q=smart+phones&amp;page=7\">7</a><a class=\"ge-49M\" href=\"/search?q=smart+phones&amp;page=8\">8</a><a class=\"ge-49M\" href=\"/search?q=smart+phones&amp;page=9\">9</a><a class=\"ge-49M\" href=\"/search?q=smart+phones&amp;page=10\">10</a><a class=\"_1LKTO3\" href=\"/search?q=smart+phones&amp;page=2\"><span>Next</span></a></nav><span class=\"_22Tduf\"></span></div></div></div></div>"
      ]
     },
     "execution_count": 11,
     "metadata": {},
     "output_type": "execute_result"
    }
   ],
   "source": [
    "results_page = soup.find_all('div',{'class':'_1YokD2 _3Mn1Gg'})[1]\n",
    "results_page\n"
   ]
  },
  {
   "cell_type": "code",
   "execution_count": 12,
   "id": "afc7807d-0584-44e8-9363-2858215e7909",
   "metadata": {},
   "outputs": [],
   "source": [
    "titles = [i.text for i in results_page.find_all('div',{'class':'_4rR01T'})]"
   ]
  },
  {
   "cell_type": "code",
   "execution_count": 13,
   "id": "69933f1e-9a36-4e59-91c7-26a0c4cbe4ee",
   "metadata": {},
   "outputs": [
    {
     "data": {
      "text/plain": [
       "24"
      ]
     },
     "execution_count": 13,
     "metadata": {},
     "output_type": "execute_result"
    }
   ],
   "source": [
    "len(titles)"
   ]
  },
  {
   "cell_type": "code",
   "execution_count": 14,
   "id": "5314c60e-f552-4c52-8af1-8f9a06217b5f",
   "metadata": {},
   "outputs": [],
   "source": [
    "avg_rating = [i.text  for i in results_page.find_all('div',{'class':'_3LWZlK'})]\n",
    "# <div class=\"_3LWZlK\">4.4<img src=\"data:image/svg+xml;base64,PHN2ZyB4bWxucz0iaHR0cDovL3d3dy53My5vcmcvMjAwMC9zdmciIHdpZHRoPSIxMyIgaGVpZ2h0PSIxMiI+PHBhdGggZmlsbD0iI0ZGRiIgZD0iTTYuNSA5LjQzOWwtMy42NzQgMi4yMy45NC00LjI2LTMuMjEtMi44ODMgNC4yNTQtLjQwNEw2LjUuMTEybDEuNjkgNC4wMSA0LjI1NC40MDQtMy4yMSAyLjg4Mi45NCA0LjI2eiIvPjwvc3ZnPg==\" class=\"_1wB99o\"></div>\n"
   ]
  },
  {
   "cell_type": "code",
   "execution_count": 15,
   "id": "9f3a0d18-9593-4704-b7cd-d50a864070a4",
   "metadata": {},
   "outputs": [
    {
     "data": {
      "text/plain": [
       "24"
      ]
     },
     "execution_count": 15,
     "metadata": {},
     "output_type": "execute_result"
    }
   ],
   "source": [
    "len(avg_rating)"
   ]
  },
  {
   "cell_type": "code",
   "execution_count": 91,
   "id": "d4ff1818-ba19-4bab-9b96-59b7f1fb64df",
   "metadata": {},
   "outputs": [],
   "source": [
    "disc_price = [int(''.join((i.text[1:]).split(',')))  for i in results_page.find_all('div',{'class':'_30jeq3 _1_WHN1'})]\n"
   ]
  },
  {
   "cell_type": "code",
   "execution_count": 92,
   "id": "2401f039-f5c9-4db2-a93e-bde4a8a418e5",
   "metadata": {},
   "outputs": [
    {
     "data": {
      "text/plain": [
       "24"
      ]
     },
     "execution_count": 92,
     "metadata": {},
     "output_type": "execute_result"
    }
   ],
   "source": [
    "len(disc_price)"
   ]
  },
  {
   "cell_type": "code",
   "execution_count": 65,
   "id": "7798be53-7c5e-4af7-8709-39fc18d9e999",
   "metadata": {},
   "outputs": [
    {
     "data": {
      "text/plain": [
       "[40003,\n",
       " 40003,\n",
       " 315436,\n",
       " 22393,\n",
       " 22393,\n",
       " 22393,\n",
       " 19819,\n",
       " 21344,\n",
       " 19819,\n",
       " 172788,\n",
       " 64084,\n",
       " 48495,\n",
       " 74951,\n",
       " 48495,\n",
       " 172788,\n",
       " 64084,\n",
       " 64084,\n",
       " 64084,\n",
       " 22718,\n",
       " 64621,\n",
       " 315436,\n",
       " 77806,\n",
       " 22718,\n",
       " 22718]"
      ]
     },
     "execution_count": 65,
     "metadata": {},
     "output_type": "execute_result"
    }
   ],
   "source": [
    "total_ratings = [int(''.join(i.text.split('\\xa0&\\xa0')[0].split(\" \")[0].split(','))) for i in results_page.find_all('span',{'class':'_2_R_DZ'})]\n",
    "\n",
    "# total_ratings = [int(''.join(i.text.split('\\xa0&\\xa0')[0].split(' ')[0].split(','))) for i in result_page.find_all('span',{'class':'_2_R_DZ'})]\n",
    "total_ratings"
   ]
  },
  {
   "cell_type": "code",
   "execution_count": 19,
   "id": "23f2f896-28e3-4a3a-8180-663d87f34d8e",
   "metadata": {},
   "outputs": [],
   "source": [
    "# total_ratings = [i[0].split(\" \") for i in totals]\n",
    "\n",
    "# len(total_ratings)"
   ]
  },
  {
   "cell_type": "code",
   "execution_count": 66,
   "id": "7fe2aec0-7f8a-42eb-983b-c37db4ccbae9",
   "metadata": {},
   "outputs": [
    {
     "data": {
      "text/plain": [
       "[1860,\n",
       " 1860,\n",
       " 17910,\n",
       " 1726,\n",
       " 1726,\n",
       " 1726,\n",
       " 826,\n",
       " 954,\n",
       " 826,\n",
       " 12796,\n",
       " 5136,\n",
       " 3410,\n",
       " 4744,\n",
       " 3410,\n",
       " 12796,\n",
       " 5136,\n",
       " 5136,\n",
       " 5136,\n",
       " 1705,\n",
       " 4567,\n",
       " 17910,\n",
       " 7485,\n",
       " 1705,\n",
       " 1705]"
      ]
     },
     "execution_count": 66,
     "metadata": {},
     "output_type": "execute_result"
    }
   ],
   "source": [
    "total_reviews = [int(''.join(i.text.split('\\xa0&\\xa0')[1].split(\" \")[0].split(','))) for i in results_page.find_all('span',{'class':'_2_R_DZ'})]\n",
    "total_reviews"
   ]
  },
  {
   "cell_type": "code",
   "execution_count": 24,
   "id": "2ebf2976-5b3e-4d16-969a-a8123ddd5cb5",
   "metadata": {},
   "outputs": [
    {
     "data": {
      "text/plain": [
       "24"
      ]
     },
     "execution_count": 24,
     "metadata": {},
     "output_type": "execute_result"
    }
   ],
   "source": [
    "len(total_reviews)"
   ]
  },
  {
   "cell_type": "code",
   "execution_count": 58,
   "id": "b823d9af-6a95-4b01-8d2e-42e9b7c28380",
   "metadata": {},
   "outputs": [],
   "source": [
    "# features = [i  for i in results_page.find_all('ul',{'class':'_1xgFaf'})]\n",
    "# features\n",
    "# len(features)\n",
    "# for i in results_page.find_all('ul',{'class':'_1xgFaf'})\n",
    "# for i in features:\n",
    "#     print(i)\n",
    "#     feature1 = [i for i in results_page.find_all('li',{'class':'rgWa7D'})]\n",
    "    \n",
    "\n",
    "# features = results_page.find_all('ul',{'class':'_1xgFaf'})\n",
    "# features\n",
    "# <ul class=\"_1xgFaf\"><li class=\"rgWa7D\">2 GB RAM | 32 GB ROM | Expandable Upto 256 GB</li><li class=\"rgWa7D\">16.51 cm (6.5 inch) HD+ Display</li><li class=\"rgWa7D\">8MP Rear Camera | 5MP Front Camera</li><li class=\"rgWa7D\">5000 mAh Battery</li><li class=\"rgWa7D\">MediaTek Helio G35 Processor</li><li class=\"rgWa7D\">1 Year Warranty for Mobile and 6 Months for Accessories</li></ul>"
   ]
  },
  {
   "cell_type": "code",
   "execution_count": 59,
   "id": "17df0d2b-c955-4af6-9149-d61a5a1020ce",
   "metadata": {},
   "outputs": [],
   "source": [
    "# feature1"
   ]
  },
  {
   "cell_type": "code",
   "execution_count": 72,
   "id": "b1680d94-e7c3-45e6-b40c-1676e7a89e70",
   "metadata": {},
   "outputs": [
    {
     "data": {
      "text/plain": [
       "['2 GB RAM | 32 GB ROM | Expandable Upto 256 GB16.51 cm (6.5 inch) HD+ Display8MP Rear Camera | 5MP Front Camera5000 mAh BatteryMediaTek Helio G35 Processor1 Year Warranty for Mobile and 6 Months for Accessories',\n",
       " '2 GB RAM | 32 GB ROM | Expandable Upto 256 GB16.51 cm (6.5 inch) HD+ Display8MP Rear Camera | 5MP Front Camera5000 mAh BatteryMediaTek Helio G35 Processor1 Year Warranty for Mobile and 6 Months for Accessories',\n",
       " '4 GB RAM | 64 GB ROM | Expandable Upto 512 GB16.59 cm (6.53 inch) HD+ Display13MP Rear Camera | 5MP Front Camera5000 mAh Lithium Polymer BatteryMediaTek Helio G25 ProcessorBrand Warranty of 1 Year Available for Mobile and 6 Months for Accessories',\n",
       " '2 GB RAM | 32 GB ROM | Expandable Upto 256 GB17.32 cm (6.82 inch) HD+ Display13MP + Low Light Sensor | 8MP Front Camera6000 mAh Li-ion Polymer BatteryMediaTek Helio G25 Processor1 Year on Handset and 6 Months on Accessories',\n",
       " '2 GB RAM | 32 GB ROM | Expandable Upto 256 GB17.32 cm (6.82 inch) HD+ Display13MP + Low Light Sensor | 8MP Front Camera6000 mAh Li-ion Polymer BatteryMediaTek Helio G25 Processor1 Year on Handset and 6 Months on Accessories',\n",
       " '2 GB RAM | 32 GB ROM | Expandable Upto 256 GB17.32 cm (6.82 inch) HD+ Display13MP + Low Light Sensor | 8MP Front Camera6000 mAh Li-ion Polymer BatteryMediaTek Helio G25 Processor1 Year on Handset and 6 Months on Accessories',\n",
       " '4 GB RAM | 64 GB ROM | Expandable Upto 256 GB16.51 cm (6.5 inch) HD+ Display13MP + 2MP + 2MP | 5MP Front Camera5000 mAh BatteryMediaTek Helio G35 Processor1 Year Warranty for Mobile and 6 Months for Accessories',\n",
       " '3 GB RAM | 32 GB ROM | Expandable Upto 256 GB16.51 cm (6.5 inch) HD+ Display13MP + 2MP + 2MP | 5MP Front Camera5000 mAh BatteryMediaTek Helio G35 Processor1 Year Warranty for Mobile and 6 Months for Accessories',\n",
       " '4 GB RAM | 64 GB ROM | Expandable Upto 256 GB16.51 cm (6.5 inch) HD+ Display13MP + 2MP + 2MP | 5MP Front Camera5000 mAh BatteryMediaTek Helio G35 Processor1 Year Warranty for Mobile and 6 Months for Accessories',\n",
       " '6 GB RAM | 64 GB ROM | Expandable Upto 512 GB16.59 cm (6.53 inch) Full HD+ Display48MP + 2MP + 2MP | 8MP Front Camera6000 mAh Lithium-ion Polymer BatteryQualcomm Snapdragon 662 ProcessorOne Year Warranty for Handset, 6 Months for Accessories',\n",
       " '4 GB RAM | 64 GB ROM | Expandable Upto 256 GB17.22 cm (6.78 inch) HD+ Display16MP + 2MP + 2MP + Low Light Sensor | 8MP Front Camera5200 mAh Li-ion Polymer BatteryMediaTek Helio G70 Processor1 Year on Handset and 6 Months on Accessories',\n",
       " '3 GB RAM | 32 GB ROM | Expandable Upto 256 GB16.54 cm (6.51 inch) HD+ Display13MP + 2MP | 8MP Front Camera6000 mAh BatteryMediaTek Helio G85 Processor1 Year Warranty for Mobile and 6 Months for Accessories',\n",
       " '4 GB RAM | 64 GB ROM | Expandable Upto 256 GB16.54 cm (6.51 inch) HD+ Display13MP + 2MP | 8MP Front Camera6000 mAh BatteryMediaTek Helio G85 Processor1 Year Warranty for Mobile and 6 Months for Accessories',\n",
       " '3 GB RAM | 32 GB ROM | Expandable Upto 256 GB16.54 cm (6.51 inch) HD+ Display13MP + 2MP | 8MP Front Camera6000 mAh BatteryMediaTek Helio G85 Processor1 Year Warranty for Mobile and 6 Months for Accessories',\n",
       " '6 GB RAM | 64 GB ROM | Expandable Upto 512 GB16.59 cm (6.53 inch) Full HD+ Display48MP + 2MP + 2MP | 8MP Front Camera6000 mAh Lithium-ion Polymer BatteryQualcomm Snapdragon 662 ProcessorOne Year Warranty for Handset, 6 Months for Accessories',\n",
       " '4 GB RAM | 64 GB ROM | Expandable Upto 256 GB17.22 cm (6.78 inch) HD+ Display16MP + 2MP + 2MP + Low Light Sensor | 8MP Front Camera5200 mAh Li-ion Polymer BatteryMediaTek Helio G70 Processor1 Year on Handset and 6 Months on Accessories',\n",
       " '4 GB RAM | 64 GB ROM | Expandable Upto 256 GB17.22 cm (6.78 inch) HD+ Display16MP + 2MP + 2MP + Low Light Sensor | 8MP Front Camera5200 mAh Li-ion Polymer BatteryMediaTek Helio G70 Processor1 Year on Handset and 6 Months on Accessories',\n",
       " '4 GB RAM | 64 GB ROM | Expandable Upto 256 GB17.22 cm (6.78 inch) HD+ Display16MP + 2MP + 2MP + Low Light Sensor | 8MP Front Camera5200 mAh Li-ion Polymer BatteryMediaTek Helio G70 Processor1 Year on Handset and 6 Months on Accessories',\n",
       " '4 GB RAM | 64 GB ROM | Expandable Upto 256 GB17.32 cm (6.82 inch) HD+ Display13MP + Depth Sensor | 8MP Front Camera6000 mAh Li-ion Polymer BatteryMediaTek Helio G35 Processor1 Year on Handset and 6 Months on Accessories',\n",
       " '4 GB RAM | 64 GB ROM16.59 cm (6.53 inch) Full HD+ Display48MP Rear Camera | 8MP Front Camera6000 mAh BatteryQualcomm Snapdragon 662 Processor1 year manufacturer warranty for device and 6 months manufacturer warranty for in-box accessories including batteries from the date of purchase',\n",
       " '4 GB RAM | 64 GB ROM | Expandable Upto 512 GB16.59 cm (6.53 inch) HD+ Display13MP Rear Camera | 5MP Front Camera5000 mAh Lithium Polymer BatteryMediaTek Helio G25 ProcessorBrand Warranty of 1 Year Available for Mobile and 6 Months for Accessories',\n",
       " '2 GB RAM | 32 GB ROM | Expandable Upto 256 GB15.49 cm (6.1 inch) HD+ Display13MP + Digital Camera | 5MP Front Camera5000 mAh Lithium-ion Polymer BatteryOcta Core ProcessorOne Year for Handset, 6 Months for Accessories',\n",
       " '4 GB RAM | 64 GB ROM | Expandable Upto 256 GB17.32 cm (6.82 inch) HD+ Display13MP + Depth Sensor | 8MP Front Camera6000 mAh Li-ion Polymer BatteryMediaTek Helio G35 Processor1 Year on Handset and 6 Months on Accessories',\n",
       " '4 GB RAM | 64 GB ROM | Expandable Upto 256 GB17.32 cm (6.82 inch) HD+ Display13MP + Depth Sensor | 8MP Front Camera6000 mAh Li-ion Polymer BatteryMediaTek Helio G35 Processor1 Year on Handset and 6 Months on Accessories']"
      ]
     },
     "execution_count": 72,
     "metadata": {},
     "output_type": "execute_result"
    }
   ],
   "source": [
    "features = [i.text  for i in results_page.find_all('ul',{'class':'_1xgFaf'})]\n",
    "# features = results_page.find_all('ul',{'class':'_1xgFaf'})\n",
    "# feature_1 = [i.split('|')[0].split(' ')[0] for i in features]\n",
    "features\n",
    "# # feature_1\n",
    "# RAM_Size = [i.text.split('|')[0][0:-4] for i in result_page.find_all('div',{'class':'fMghEO'})]\n",
    "\n",
    "# feature_1 = [ i.text for i in features.find_all('li',{'class':'rgWa7D'}) ]\n",
    "# feature_1\n",
    "# # li class=\"rgWa7D\""
   ]
  },
  {
   "cell_type": "code",
   "execution_count": 81,
   "id": "010cf885-e9f4-4803-8f93-dd5eeee5c353",
   "metadata": {},
   "outputs": [
    {
     "data": {
      "text/plain": [
       "24"
      ]
     },
     "execution_count": 81,
     "metadata": {},
     "output_type": "execute_result"
    }
   ],
   "source": [
    "RAM = [int(i.split('|')[0].split(' ')[0]) for i in features]\n",
    "len(RAM)"
   ]
  },
  {
   "cell_type": "code",
   "execution_count": 80,
   "id": "43259ed1-2cda-4314-8c89-40b30a94dd92",
   "metadata": {},
   "outputs": [
    {
     "data": {
      "text/plain": [
       "[32,\n",
       " 32,\n",
       " 64,\n",
       " 32,\n",
       " 32,\n",
       " 32,\n",
       " 64,\n",
       " 32,\n",
       " 64,\n",
       " 64,\n",
       " 64,\n",
       " 32,\n",
       " 64,\n",
       " 32,\n",
       " 64,\n",
       " 64,\n",
       " 64,\n",
       " 64,\n",
       " 64,\n",
       " 64,\n",
       " 64,\n",
       " 32,\n",
       " 64,\n",
       " 64]"
      ]
     },
     "execution_count": 80,
     "metadata": {},
     "output_type": "execute_result"
    }
   ],
   "source": [
    "ROM = [int(i.split('|')[1].split(' ')[1]) for i in features]\n",
    "ROM"
   ]
  },
  {
   "cell_type": "code",
   "execution_count": 88,
   "id": "8a66cba1-bb65-41ef-92d4-ef8a50d77c5b",
   "metadata": {},
   "outputs": [
    {
     "data": {
      "text/plain": [
       "24"
      ]
     },
     "execution_count": 88,
     "metadata": {},
     "output_type": "execute_result"
    }
   ],
   "source": [
    "org_price = [int(''.join((i.text[1:]).split(',')))  for i in results_page.find_all('div',{'class':'_3I9_wc _27UcVY'})]\n",
    "len(org_price)\n",
    "# <div class=\"_3I9_wc _27UcVY\">₹7,999</div>\n",
    "# <div class=\"_3I9_wc _27UcVY\">₹7,999</div>"
   ]
  },
  {
   "cell_type": "code",
   "execution_count": 89,
   "id": "1d599289-9ef1-40ef-afc9-6c0881625018",
   "metadata": {},
   "outputs": [
    {
     "data": {
      "text/plain": [
       "[7999,\n",
       " 7999,\n",
       " 9999,\n",
       " 8999,\n",
       " 8999,\n",
       " 8999,\n",
       " 10999,\n",
       " 9999,\n",
       " 10999,\n",
       " 12999,\n",
       " 11999,\n",
       " 9999,\n",
       " 10999,\n",
       " 9999,\n",
       " 12999,\n",
       " 11999,\n",
       " 11999,\n",
       " 11999,\n",
       " 10999,\n",
       " 13999,\n",
       " 9999,\n",
       " 7990,\n",
       " 10999,\n",
       " 10999]"
      ]
     },
     "execution_count": 89,
     "metadata": {},
     "output_type": "execute_result"
    }
   ],
   "source": [
    "org_price"
   ]
  },
  {
   "cell_type": "code",
   "execution_count": 93,
   "id": "5360b955-52e4-4df6-9951-979d09fecc72",
   "metadata": {},
   "outputs": [
    {
     "data": {
      "text/plain": [
       "[6799,\n",
       " 6799,\n",
       " 7999,\n",
       " 6799,\n",
       " 6799,\n",
       " 6799,\n",
       " 8999,\n",
       " 7999,\n",
       " 8999,\n",
       " 10999,\n",
       " 8999,\n",
       " 7999,\n",
       " 8999,\n",
       " 7999,\n",
       " 10999,\n",
       " 8999,\n",
       " 8999,\n",
       " 8999,\n",
       " 8499,\n",
       " 10499,\n",
       " 7999,\n",
       " 5499,\n",
       " 8499,\n",
       " 8499]"
      ]
     },
     "execution_count": 93,
     "metadata": {},
     "output_type": "execute_result"
    }
   ],
   "source": [
    "disc_price"
   ]
  },
  {
   "cell_type": "code",
   "execution_count": 98,
   "id": "7461988f-d9bb-4ee7-9862-23fe2e9daa44",
   "metadata": {},
   "outputs": [
    {
     "data": {
      "text/plain": [
       "['15%',\n",
       " '15%',\n",
       " '20%',\n",
       " '24%',\n",
       " '24%',\n",
       " '24%',\n",
       " '18%',\n",
       " '20%',\n",
       " '18%',\n",
       " '15%',\n",
       " '25%',\n",
       " '20%',\n",
       " '18%',\n",
       " '20%',\n",
       " '15%',\n",
       " '25%',\n",
       " '25%',\n",
       " '25%',\n",
       " '22%',\n",
       " '25%',\n",
       " '20%',\n",
       " '31%',\n",
       " '22%',\n",
       " '22%']"
      ]
     },
     "execution_count": 98,
     "metadata": {},
     "output_type": "execute_result"
    }
   ],
   "source": [
    "offer = [(i.text).split(' ')[0] for i in results_page.find_all('div',{'class':'_3Ay6Sb'})]\n",
    "# <div class=\"_3Ay6Sb\"><span>22% off</span></div>\n",
    "offer\n",
    "# <div class=\"_25b18c\"><div class=\"_30jeq3 _1_WHN1\">₹8,499</div><div class=\"_3I9_wc _27UcVY\">₹10,999</div><div class=\"_3Ay6Sb\"><span>22% off</span></div></div>"
   ]
  },
  {
   "cell_type": "code",
   "execution_count": 99,
   "id": "8a77f7ba-2d7c-454e-9e4d-d2022d97ccb0",
   "metadata": {},
   "outputs": [
    {
     "data": {
      "text/plain": [
       "24"
      ]
     },
     "execution_count": 99,
     "metadata": {},
     "output_type": "execute_result"
    }
   ],
   "source": [
    "len(offer)"
   ]
  },
  {
   "cell_type": "code",
   "execution_count": 102,
   "id": "7898a9e8-6655-478e-a214-b878cbb22d1b",
   "metadata": {},
   "outputs": [],
   "source": [
    "import pandas as pd"
   ]
  },
  {
   "cell_type": "code",
   "execution_count": 103,
   "id": "1ccf0892-a39f-4176-8e5d-5d94976accd8",
   "metadata": {},
   "outputs": [],
   "source": [
    "df = pd.DataFrame({'title':titles, 'Disc Price':disc_price,'Org Price':org_price, 'Avg rating':avg_rating, 'Total rating':total_ratings, 'Total reviews':total_reviews,'RAM(GB)':RAM,'ROM(GB)':ROM ,'Offer':offer})"
   ]
  },
  {
   "cell_type": "code",
   "execution_count": 104,
   "id": "9746a3f3-3c48-457c-a5e2-b4c4667855b5",
   "metadata": {},
   "outputs": [
    {
     "data": {
      "text/html": [
       "<div>\n",
       "<style scoped>\n",
       "    .dataframe tbody tr th:only-of-type {\n",
       "        vertical-align: middle;\n",
       "    }\n",
       "\n",
       "    .dataframe tbody tr th {\n",
       "        vertical-align: top;\n",
       "    }\n",
       "\n",
       "    .dataframe thead th {\n",
       "        text-align: right;\n",
       "    }\n",
       "</style>\n",
       "<table border=\"1\" class=\"dataframe\">\n",
       "  <thead>\n",
       "    <tr style=\"text-align: right;\">\n",
       "      <th></th>\n",
       "      <th>title</th>\n",
       "      <th>Disc Price</th>\n",
       "      <th>Org Price</th>\n",
       "      <th>Avg rating</th>\n",
       "      <th>Total rating</th>\n",
       "      <th>Total reviews</th>\n",
       "      <th>RAM(GB)</th>\n",
       "      <th>ROM(GB)</th>\n",
       "      <th>Offer</th>\n",
       "    </tr>\n",
       "  </thead>\n",
       "  <tbody>\n",
       "    <tr>\n",
       "      <th>0</th>\n",
       "      <td>realme C20 (Cool Grey, 32 GB)</td>\n",
       "      <td>6799</td>\n",
       "      <td>7999</td>\n",
       "      <td>4.3</td>\n",
       "      <td>40003</td>\n",
       "      <td>1860</td>\n",
       "      <td>2</td>\n",
       "      <td>32</td>\n",
       "      <td>15%</td>\n",
       "    </tr>\n",
       "    <tr>\n",
       "      <th>1</th>\n",
       "      <td>realme C20 (Cool Blue, 32 GB)</td>\n",
       "      <td>6799</td>\n",
       "      <td>7999</td>\n",
       "      <td>4.3</td>\n",
       "      <td>40003</td>\n",
       "      <td>1860</td>\n",
       "      <td>2</td>\n",
       "      <td>32</td>\n",
       "      <td>15%</td>\n",
       "    </tr>\n",
       "    <tr>\n",
       "      <th>2</th>\n",
       "      <td>REDMI 9i (Midnight Black, 64 GB)</td>\n",
       "      <td>7999</td>\n",
       "      <td>9999</td>\n",
       "      <td>4.3</td>\n",
       "      <td>315436</td>\n",
       "      <td>17910</td>\n",
       "      <td>4</td>\n",
       "      <td>64</td>\n",
       "      <td>20%</td>\n",
       "    </tr>\n",
       "    <tr>\n",
       "      <th>3</th>\n",
       "      <td>Infinix Smart 5 (Aegean Blue, 32 GB)</td>\n",
       "      <td>6799</td>\n",
       "      <td>8999</td>\n",
       "      <td>4.4</td>\n",
       "      <td>22393</td>\n",
       "      <td>1726</td>\n",
       "      <td>2</td>\n",
       "      <td>32</td>\n",
       "      <td>24%</td>\n",
       "    </tr>\n",
       "    <tr>\n",
       "      <th>4</th>\n",
       "      <td>Infinix Smart 5 (Morandi Green, 32 GB)</td>\n",
       "      <td>6799</td>\n",
       "      <td>8999</td>\n",
       "      <td>4.4</td>\n",
       "      <td>22393</td>\n",
       "      <td>1726</td>\n",
       "      <td>2</td>\n",
       "      <td>32</td>\n",
       "      <td>24%</td>\n",
       "    </tr>\n",
       "  </tbody>\n",
       "</table>\n",
       "</div>"
      ],
      "text/plain": [
       "                                    title  Disc Price  Org Price Avg rating  \\\n",
       "0           realme C20 (Cool Grey, 32 GB)        6799       7999        4.3   \n",
       "1           realme C20 (Cool Blue, 32 GB)        6799       7999        4.3   \n",
       "2        REDMI 9i (Midnight Black, 64 GB)        7999       9999        4.3   \n",
       "3    Infinix Smart 5 (Aegean Blue, 32 GB)        6799       8999        4.4   \n",
       "4  Infinix Smart 5 (Morandi Green, 32 GB)        6799       8999        4.4   \n",
       "\n",
       "   Total rating  Total reviews  RAM(GB)  ROM(GB) Offer  \n",
       "0         40003           1860        2       32   15%  \n",
       "1         40003           1860        2       32   15%  \n",
       "2        315436          17910        4       64   20%  \n",
       "3         22393           1726        2       32   24%  \n",
       "4         22393           1726        2       32   24%  "
      ]
     },
     "execution_count": 104,
     "metadata": {},
     "output_type": "execute_result"
    }
   ],
   "source": [
    "df.head()"
   ]
  }
 ],
 "metadata": {
  "kernelspec": {
   "display_name": "Python 3",
   "language": "python",
   "name": "python3"
  },
  "language_info": {
   "codemirror_mode": {
    "name": "ipython",
    "version": 3
   },
   "file_extension": ".py",
   "mimetype": "text/x-python",
   "name": "python",
   "nbconvert_exporter": "python",
   "pygments_lexer": "ipython3",
   "version": "3.8.8"
  }
 },
 "nbformat": 4,
 "nbformat_minor": 5
}
