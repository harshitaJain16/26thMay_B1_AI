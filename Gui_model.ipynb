{
 "cells": [
  {
   "cell_type": "code",
   "execution_count": 1,
   "id": "b3838212-f164-4161-b4cd-4f5255ee377f",
   "metadata": {},
   "outputs": [],
   "source": [
    "import tkinter as tk\n",
    "import pandas as pd\n",
    "import warnings\n",
    "warnings.filterwarnings('ignore') "
   ]
  },
  {
   "cell_type": "code",
   "execution_count": 2,
   "id": "1730d744-a114-4c07-a9df-51abcf64f481",
   "metadata": {},
   "outputs": [],
   "source": [
    "model = pd.read_pickle('Campus_recruit_hiring')"
   ]
  },
  {
   "cell_type": "code",
   "execution_count": 26,
   "id": "20a14bde-a590-44e5-bd5f-21579b912e51",
   "metadata": {},
   "outputs": [],
   "source": [
    "app=tk.Tk()\n",
    "app.config(bg='#ECECEC')\n",
    "app.geometry('479x440')\n",
    "app.title(\"Tcampus_recruitment_system\")\n",
    "\n",
    "\n",
    "\n",
    "\n",
    "\n",
    "tk.Label(app,width=25,text=\"Campus Recruitment System\",fg=\"black\",bg=\"#0078D7\",font='Helvetica 15 bold',relief=\"groove\").place(x=90,y=0)\n",
    "\n",
    "\n",
    "tk.Label(app,width=20,text=\"SSC Percentage : \",bg=\"#0078D7\",fg=\"black\",font=\"bold\",relief=\"groove\").place(x=30,y=120)\n",
    "tk.Label(app,width=20,text=\"HSC Percentage : \",bg=\"#0078D7\",fg=\"black\",font=\"bold\",relief=\"groove\").place(x=30,y=160)\n",
    "tk.Label(app,width=20,text=\"Degree Percentage : \",bg=\"#0078D7\",fg=\"black\",font=\"bold\",relief=\"groove\").place(x=30,y=200)\n",
    "tk.Label(app,width=20,text=\"MBA Percentage : \",bg=\"#0078D7\",fg=\"black\",font=\"bold\",relief=\"groove\").place(x=30,y=240)\n",
    "tk.Label(app,width=10,text=\"Status :\",fg=\"black\",bg=\"#0078D7\",font=(\"Helvetica\", 15,\"bold\"),relief=\"groove\").place(x=60,y=350)\n",
    "\n",
    "\n",
    "ssc_per=tk.Variable(app)\n",
    "hsc_per=tk.Variable(app)\n",
    "degree_per=tk.Variable(app)\n",
    "mba_per=tk.Variable(app)\n",
    "\n",
    "\n",
    "tk.Entry(app,width=25,textvariable=ssc_per,bg='#ffffff',relief=\"groove\").place(x=250,y=120)\n",
    "tk.Entry(app,width=25,textvariable=hsc_per,bg='#ffffff',relief=\"groove\").place(x=250,y=160)\n",
    "tk.Entry(app,width=25,textvariable=degree_per,bg='#ffffff',relief=\"groove\").place(x=250,y=200)\n",
    "tk.Entry(app,width=25,textvariable=mba_per,bg='#ffffff',relief=\"groove\").place(x=250,y=240)\n",
    "\n",
    "predict_var = tk.Variable(app)\n",
    "tk.Label(app,textvariable=predict_var,fg=\"black\",bg=\"#ECECEC\",font=(\"Helvetica\", 15,\"bold\")).place(x=230,y=350)\n",
    "\n",
    "\n",
    "def predict():\n",
    "    query = pd.DataFrame({'ssc_p':[ssc_per.get()],'hsc_p':[hsc_per.get()],'degree_p':[degree_per.get()],'mba_p': [mba_per.get()]})\n",
    "    if(model.predict(query)[0] == 1):\n",
    "        predict_var.set(\"You're are Placed\")\n",
    "    else:\n",
    "        predict_var.set(\"You're not Placed\")\n",
    "    ssc_per.set(' ')\n",
    "    hsc_per.set(' ')\n",
    "    degree_per.set(' ')\n",
    "    mba_per.set(' ')\n",
    "\n",
    "\n",
    "tk.Button(app,text=\"Predict\",fg=\"black\",bg=\"#0078D7\",font='arial 15 underline',relief=\"groove\",command=predict).place(x=200,y=300)    \n",
    "\n",
    "app.mainloop()\n"
   ]
  },
  {
   "cell_type": "code",
   "execution_count": null,
   "id": "58841f17-5822-41c8-8af8-1f05257349fd",
   "metadata": {},
   "outputs": [],
   "source": []
  }
 ],
 "metadata": {
  "kernelspec": {
   "display_name": "Python 3",
   "language": "python",
   "name": "python3"
  },
  "language_info": {
   "codemirror_mode": {
    "name": "ipython",
    "version": 3
   },
   "file_extension": ".py",
   "mimetype": "text/x-python",
   "name": "python",
   "nbconvert_exporter": "python",
   "pygments_lexer": "ipython3",
   "version": "3.8.8"
  }
 },
 "nbformat": 4,
 "nbformat_minor": 5
}
