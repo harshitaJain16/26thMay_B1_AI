{
 "cells": [
  {
   "cell_type": "code",
   "execution_count": 1,
   "id": "53b34393-7189-4a32-a9f6-1340ba5adf69",
   "metadata": {},
   "outputs": [],
   "source": [
    "import requests\n",
    "from bs4 import BeautifulSoup\n",
    "import pandas as pd\n",
    "import warnings"
   ]
  },
  {
   "cell_type": "code",
   "execution_count": 5,
   "id": "55a79ef2-61c9-48f8-90b1-ea4d4b4078f6",
   "metadata": {},
   "outputs": [],
   "source": [
    "df= pd.DataFrame()\n",
    "for j in range(1,11):\n",
    "    curr_page = j\n",
    "    product = 'smart phones'\n",
    "    url = 'https://www.flipkart.com/search?q='\n",
    "    header = {\n",
    "              \"User-Agent\": 'Mozilla/5.0 (Windows NT 10.0; Win64; x64) AppleWebKit/537.36 (KHTML, like Gecko) Chrome/91.0.4472.77 Safari/537.36',\n",
    "               \"Accept\": 'text/html,application/xhtml+xml,application/xml;q=0.9,image/avif,image/webp,image/apng,*/*;q=0.8,application/signed-exchange;v=b3;q=0.9',\n",
    "              }\n",
    "    query_url =url + '+'.join(product.split()) + '&page={}'.format(curr_page)\n",
    "    r = requests.get(query_url, headers = header)\n",
    "    text = r.text\n",
    "    soup = BeautifulSoup(text, 'html.parser')\n",
    "    results_page = soup.find_all('div',{'class':'_1YokD2 _3Mn1Gg'})[1]\n",
    "    titles = [i.text for i in results_page.find_all('div',{'class':'_4rR01T'})]\n",
    "    avg_rating = [i.text  for i in results_page.find_all('div',{'class':'_3LWZlK'})]\n",
    "    disc_price = [int(''.join((i.text[1:]).split(',')))  for i in results_page.find_all('div',{'class':'_30jeq3 _1_WHN1'})]\n",
    "    total_ratings = [int(''.join(i.text.split('\\xa0&\\xa0')[0].split(\" \")[0].split(','))) for i in results_page.find_all('span',{'class':'_2_R_DZ'})]\n",
    "    total_reviews = [int(''.join(i.text.split('\\xa0&\\xa0')[1].split(\" \")[0].split(','))) for i in results_page.find_all('span',{'class':'_2_R_DZ'})]\n",
    "    features = [i.text  for i in results_page.find_all('ul',{'class':'_1xgFaf'})]\n",
    "    RAM = [i.text.split('|')[0][0:-4] for i in results_page.find_all('div',{'class':'fMghEO'})]\n",
    "    ROM = [i.text.split('|')[1][0:-4] for i in results_page.find_all('div',{'class':'fMghEO'})]\n",
    "    \n",
    "    #org_price = [int(''.join((i.text[1:]).split(',')))  for i in results_page.find_all('div',{'class':'_3I9_wc _27UcVY'})]\n",
    "    #offer = [(i.text).split(' ')[0] for i in results_page.find_all('div',{'class':'_3Ay6Sb'})]\n",
    "    df =pd.concat([df,pd.DataFrame({'title':titles, 'Disc Price':disc_price, 'Avg rating':avg_rating, 'Total rating':total_ratings,'Total reviews':total_reviews,'RAM(GB)':RAM,'ROM(GB)':ROM })])\n",
    "    df.index = [i for i in range(0,len(df))]\n",
    "\n",
    "    \n"
   ]
  },
  {
   "cell_type": "code",
   "execution_count": 6,
   "id": "d9f04d05-f865-49bf-b298-105ddea05d77",
   "metadata": {},
   "outputs": [
    {
     "data": {
      "text/html": [
       "<div>\n",
       "<style scoped>\n",
       "    .dataframe tbody tr th:only-of-type {\n",
       "        vertical-align: middle;\n",
       "    }\n",
       "\n",
       "    .dataframe tbody tr th {\n",
       "        vertical-align: top;\n",
       "    }\n",
       "\n",
       "    .dataframe thead th {\n",
       "        text-align: right;\n",
       "    }\n",
       "</style>\n",
       "<table border=\"1\" class=\"dataframe\">\n",
       "  <thead>\n",
       "    <tr style=\"text-align: right;\">\n",
       "      <th></th>\n",
       "      <th>title</th>\n",
       "      <th>Disc Price</th>\n",
       "      <th>Avg rating</th>\n",
       "      <th>Total rating</th>\n",
       "      <th>Total reviews</th>\n",
       "      <th>RAM(GB)</th>\n",
       "      <th>ROM(GB)</th>\n",
       "    </tr>\n",
       "  </thead>\n",
       "  <tbody>\n",
       "    <tr>\n",
       "      <th>235</th>\n",
       "      <td>REDMI 9i (Midnight Black, 128 GB)</td>\n",
       "      <td>9299</td>\n",
       "      <td>4.3</td>\n",
       "      <td>317243</td>\n",
       "      <td>17994</td>\n",
       "      <td>4 GB</td>\n",
       "      <td>128 GB</td>\n",
       "    </tr>\n",
       "    <tr>\n",
       "      <th>236</th>\n",
       "      <td>GIONEE F11 (Blue, 32 GB)</td>\n",
       "      <td>6490</td>\n",
       "      <td>3.9</td>\n",
       "      <td>125</td>\n",
       "      <td>7</td>\n",
       "      <td>3 GB</td>\n",
       "      <td>32 GB</td>\n",
       "    </tr>\n",
       "    <tr>\n",
       "      <th>237</th>\n",
       "      <td>GIONEE F8 Neo (Red, 32 GB)</td>\n",
       "      <td>5499</td>\n",
       "      <td>3.9</td>\n",
       "      <td>1179</td>\n",
       "      <td>76</td>\n",
       "      <td>2 GB</td>\n",
       "      <td>32 GB</td>\n",
       "    </tr>\n",
       "    <tr>\n",
       "      <th>238</th>\n",
       "      <td>Infinix Hot 10 (Amber Red, 128 GB)</td>\n",
       "      <td>10999</td>\n",
       "      <td>4.3</td>\n",
       "      <td>80519</td>\n",
       "      <td>7590</td>\n",
       "      <td>6 GB</td>\n",
       "      <td>128 GB</td>\n",
       "    </tr>\n",
       "    <tr>\n",
       "      <th>239</th>\n",
       "      <td>Infinix Note 10 (95° Black, 64 GB)</td>\n",
       "      <td>10999</td>\n",
       "      <td>4.4</td>\n",
       "      <td>905</td>\n",
       "      <td>82</td>\n",
       "      <td>4 GB</td>\n",
       "      <td>64 GB</td>\n",
       "    </tr>\n",
       "  </tbody>\n",
       "</table>\n",
       "</div>"
      ],
      "text/plain": [
       "                                  title  Disc Price Avg rating  Total rating  \\\n",
       "235   REDMI 9i (Midnight Black, 128 GB)        9299        4.3        317243   \n",
       "236            GIONEE F11 (Blue, 32 GB)        6490        3.9           125   \n",
       "237          GIONEE F8 Neo (Red, 32 GB)        5499        3.9          1179   \n",
       "238  Infinix Hot 10 (Amber Red, 128 GB)       10999        4.3         80519   \n",
       "239  Infinix Note 10 (95° Black, 64 GB)       10999        4.4           905   \n",
       "\n",
       "     Total reviews RAM(GB)   ROM(GB)  \n",
       "235          17994   4 GB    128 GB   \n",
       "236              7   3 GB     32 GB   \n",
       "237             76   2 GB     32 GB   \n",
       "238           7590   6 GB    128 GB   \n",
       "239             82   4 GB     64 GB   "
      ]
     },
     "execution_count": 6,
     "metadata": {},
     "output_type": "execute_result"
    }
   ],
   "source": [
    "df.tail()"
   ]
  },
  {
   "cell_type": "code",
   "execution_count": 8,
   "id": "72cf45eb-c19e-4f68-b576-f9247c295618",
   "metadata": {},
   "outputs": [
    {
     "name": "stdout",
     "output_type": "stream",
     "text": [
      "<class 'pandas.core.frame.DataFrame'>\n",
      "Int64Index: 240 entries, 0 to 239\n",
      "Data columns (total 7 columns):\n",
      " #   Column         Non-Null Count  Dtype \n",
      "---  ------         --------------  ----- \n",
      " 0   title          240 non-null    object\n",
      " 1   Disc Price     240 non-null    int64 \n",
      " 2   Avg rating     240 non-null    object\n",
      " 3   Total rating   240 non-null    int64 \n",
      " 4   Total reviews  240 non-null    int64 \n",
      " 5   RAM(GB)        240 non-null    object\n",
      " 6   ROM(GB)        240 non-null    object\n",
      "dtypes: int64(3), object(4)\n",
      "memory usage: 15.0+ KB\n"
     ]
    }
   ],
   "source": [
    "df.info()"
   ]
  }
 ],
 "metadata": {
  "kernelspec": {
   "display_name": "Python 3",
   "language": "python",
   "name": "python3"
  },
  "language_info": {
   "codemirror_mode": {
    "name": "ipython",
    "version": 3
   },
   "file_extension": ".py",
   "mimetype": "text/x-python",
   "name": "python",
   "nbconvert_exporter": "python",
   "pygments_lexer": "ipython3",
   "version": "3.8.8"
  }
 },
 "nbformat": 4,
 "nbformat_minor": 5
}
