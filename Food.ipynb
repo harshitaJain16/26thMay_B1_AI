{
 "cells": [
  {
   "cell_type": "code",
   "execution_count": 2,
   "id": "d31ceeb8",
   "metadata": {},
   "outputs": [],
   "source": [
    "import pandas as pd\n",
    "import numpy as np"
   ]
  },
  {
   "cell_type": "markdown",
   "id": "3087ba02-51c8-4e92-94c4-801eab6798ff",
   "metadata": {},
   "source": [
    " # Food"
   ]
  },
  {
   "cell_type": "code",
   "execution_count": 26,
   "id": "aceb8aef",
   "metadata": {},
   "outputs": [],
   "source": [
    "\n",
    "col=np.arange(1,20)\n",
    "df = pd.read_csv('food_data.csv')\n",
    "df.index=col\n"
   ]
  },
  {
   "cell_type": "code",
   "execution_count": 27,
   "id": "3c4cce36",
   "metadata": {},
   "outputs": [
    {
     "data": {
      "text/html": [
       "<div>\n",
       "<style scoped>\n",
       "    .dataframe tbody tr th:only-of-type {\n",
       "        vertical-align: middle;\n",
       "    }\n",
       "\n",
       "    .dataframe tbody tr th {\n",
       "        vertical-align: top;\n",
       "    }\n",
       "\n",
       "    .dataframe thead th {\n",
       "        text-align: right;\n",
       "    }\n",
       "</style>\n",
       "<table border=\"1\" class=\"dataframe\">\n",
       "  <thead>\n",
       "    <tr style=\"text-align: right;\">\n",
       "      <th></th>\n",
       "      <th>Name</th>\n",
       "      <th>Price</th>\n",
       "      <th>Place</th>\n",
       "      <th>texture</th>\n",
       "      <th>Cuisine</th>\n",
       "      <th>Taste</th>\n",
       "    </tr>\n",
       "  </thead>\n",
       "  <tbody>\n",
       "    <tr>\n",
       "      <th>1</th>\n",
       "      <td>Pizza</td>\n",
       "      <td>180</td>\n",
       "      <td>Jaipur</td>\n",
       "      <td>cheesy</td>\n",
       "      <td>Italian</td>\n",
       "      <td>spicy</td>\n",
       "    </tr>\n",
       "    <tr>\n",
       "      <th>2</th>\n",
       "      <td>Pasta</td>\n",
       "      <td>90</td>\n",
       "      <td>Delhi</td>\n",
       "      <td>creamy</td>\n",
       "      <td>Italian</td>\n",
       "      <td>spicy</td>\n",
       "    </tr>\n",
       "    <tr>\n",
       "      <th>3</th>\n",
       "      <td>Momos</td>\n",
       "      <td>40</td>\n",
       "      <td>Delhi</td>\n",
       "      <td>soft</td>\n",
       "      <td>Nepali</td>\n",
       "      <td>spicy</td>\n",
       "    </tr>\n",
       "    <tr>\n",
       "      <th>4</th>\n",
       "      <td>sandwich</td>\n",
       "      <td>60</td>\n",
       "      <td>Jaipur</td>\n",
       "      <td>crunchy</td>\n",
       "      <td>England</td>\n",
       "      <td>spicy</td>\n",
       "    </tr>\n",
       "    <tr>\n",
       "      <th>5</th>\n",
       "      <td>Modak</td>\n",
       "      <td>80</td>\n",
       "      <td>Mumbai</td>\n",
       "      <td>soft</td>\n",
       "      <td>Maharashtrian</td>\n",
       "      <td>sweet</td>\n",
       "    </tr>\n",
       "  </tbody>\n",
       "</table>\n",
       "</div>"
      ],
      "text/plain": [
       "       Name  Price   Place  texture        Cuisine  Taste\n",
       "1     Pizza    180  Jaipur   cheesy        Italian  spicy\n",
       "2     Pasta     90   Delhi   creamy        Italian  spicy\n",
       "3     Momos     40   Delhi     soft         Nepali  spicy\n",
       "4  sandwich     60  Jaipur  crunchy        England  spicy\n",
       "5     Modak     80  Mumbai     soft  Maharashtrian  sweet"
      ]
     },
     "execution_count": 27,
     "metadata": {},
     "output_type": "execute_result"
    }
   ],
   "source": [
    "df.head()"
   ]
  },
  {
   "cell_type": "code",
   "execution_count": 48,
   "id": "3c935dc7",
   "metadata": {},
   "outputs": [
    {
     "data": {
      "text/html": [
       "<div>\n",
       "<style scoped>\n",
       "    .dataframe tbody tr th:only-of-type {\n",
       "        vertical-align: middle;\n",
       "    }\n",
       "\n",
       "    .dataframe tbody tr th {\n",
       "        vertical-align: top;\n",
       "    }\n",
       "\n",
       "    .dataframe thead th {\n",
       "        text-align: right;\n",
       "    }\n",
       "</style>\n",
       "<table border=\"1\" class=\"dataframe\">\n",
       "  <thead>\n",
       "    <tr style=\"text-align: right;\">\n",
       "      <th></th>\n",
       "      <th>Name</th>\n",
       "      <th>Price</th>\n",
       "      <th>Place</th>\n",
       "      <th>texture</th>\n",
       "      <th>Cuisine</th>\n",
       "      <th>Taste</th>\n",
       "    </tr>\n",
       "  </thead>\n",
       "  <tbody>\n",
       "    <tr>\n",
       "      <th>15</th>\n",
       "      <td>Dal Bati</td>\n",
       "      <td>250</td>\n",
       "      <td>Bikaner</td>\n",
       "      <td>soft</td>\n",
       "      <td>Rajasthani</td>\n",
       "      <td>spicy</td>\n",
       "    </tr>\n",
       "    <tr>\n",
       "      <th>16</th>\n",
       "      <td>Vada Pav</td>\n",
       "      <td>50</td>\n",
       "      <td>Mumbai</td>\n",
       "      <td>crunchy</td>\n",
       "      <td>Maharashtrian</td>\n",
       "      <td>spicy</td>\n",
       "    </tr>\n",
       "    <tr>\n",
       "      <th>17</th>\n",
       "      <td>Tortilla chips</td>\n",
       "      <td>100</td>\n",
       "      <td>Surat</td>\n",
       "      <td>crunchy</td>\n",
       "      <td>Mexican</td>\n",
       "      <td>salty</td>\n",
       "    </tr>\n",
       "    <tr>\n",
       "      <th>18</th>\n",
       "      <td>Poha</td>\n",
       "      <td>50</td>\n",
       "      <td>Indore</td>\n",
       "      <td>soft</td>\n",
       "      <td>indian</td>\n",
       "      <td>spicy</td>\n",
       "    </tr>\n",
       "    <tr>\n",
       "      <th>19</th>\n",
       "      <td>Rasgulla</td>\n",
       "      <td>250</td>\n",
       "      <td>Kolkata</td>\n",
       "      <td>soft</td>\n",
       "      <td>indian</td>\n",
       "      <td>sweet</td>\n",
       "    </tr>\n",
       "  </tbody>\n",
       "</table>\n",
       "</div>"
      ],
      "text/plain": [
       "              Name  Price    Place  texture        Cuisine  Taste\n",
       "15        Dal Bati    250  Bikaner     soft     Rajasthani  spicy\n",
       "16        Vada Pav     50   Mumbai  crunchy  Maharashtrian  spicy\n",
       "17  Tortilla chips    100    Surat  crunchy        Mexican  salty\n",
       "18            Poha     50   Indore     soft         indian  spicy\n",
       "19        Rasgulla    250  Kolkata     soft         indian  sweet"
      ]
     },
     "execution_count": 48,
     "metadata": {},
     "output_type": "execute_result"
    }
   ],
   "source": [
    "df.tail()"
   ]
  },
  {
   "cell_type": "code",
   "execution_count": 49,
   "id": "a456c458-ed0f-43cf-831e-514e7926be29",
   "metadata": {},
   "outputs": [],
   "source": [
    "#for samples"
   ]
  },
  {
   "cell_type": "code",
   "execution_count": 50,
   "id": "c8215546-486d-48fa-8533-f6d14f5f1726",
   "metadata": {},
   "outputs": [
    {
     "data": {
      "text/html": [
       "<div>\n",
       "<style scoped>\n",
       "    .dataframe tbody tr th:only-of-type {\n",
       "        vertical-align: middle;\n",
       "    }\n",
       "\n",
       "    .dataframe tbody tr th {\n",
       "        vertical-align: top;\n",
       "    }\n",
       "\n",
       "    .dataframe thead th {\n",
       "        text-align: right;\n",
       "    }\n",
       "</style>\n",
       "<table border=\"1\" class=\"dataframe\">\n",
       "  <thead>\n",
       "    <tr style=\"text-align: right;\">\n",
       "      <th></th>\n",
       "      <th>Name</th>\n",
       "      <th>Price</th>\n",
       "      <th>Place</th>\n",
       "      <th>texture</th>\n",
       "      <th>Cuisine</th>\n",
       "      <th>Taste</th>\n",
       "    </tr>\n",
       "  </thead>\n",
       "  <tbody>\n",
       "    <tr>\n",
       "      <th>12</th>\n",
       "      <td>French Fries</td>\n",
       "      <td>150</td>\n",
       "      <td>Kolkata</td>\n",
       "      <td>crunchy</td>\n",
       "      <td>Belgium</td>\n",
       "      <td>salty</td>\n",
       "    </tr>\n",
       "    <tr>\n",
       "      <th>1</th>\n",
       "      <td>Pizza</td>\n",
       "      <td>180</td>\n",
       "      <td>Jaipur</td>\n",
       "      <td>cheesy</td>\n",
       "      <td>Italian</td>\n",
       "      <td>spicy</td>\n",
       "    </tr>\n",
       "    <tr>\n",
       "      <th>2</th>\n",
       "      <td>Pasta</td>\n",
       "      <td>90</td>\n",
       "      <td>Delhi</td>\n",
       "      <td>creamy</td>\n",
       "      <td>Italian</td>\n",
       "      <td>spicy</td>\n",
       "    </tr>\n",
       "    <tr>\n",
       "      <th>18</th>\n",
       "      <td>Poha</td>\n",
       "      <td>50</td>\n",
       "      <td>Indore</td>\n",
       "      <td>soft</td>\n",
       "      <td>indian</td>\n",
       "      <td>spicy</td>\n",
       "    </tr>\n",
       "    <tr>\n",
       "      <th>17</th>\n",
       "      <td>Tortilla chips</td>\n",
       "      <td>100</td>\n",
       "      <td>Surat</td>\n",
       "      <td>crunchy</td>\n",
       "      <td>Mexican</td>\n",
       "      <td>salty</td>\n",
       "    </tr>\n",
       "  </tbody>\n",
       "</table>\n",
       "</div>"
      ],
      "text/plain": [
       "              Name  Price    Place  texture  Cuisine  Taste\n",
       "12    French Fries    150  Kolkata  crunchy  Belgium  salty\n",
       "1            Pizza    180   Jaipur   cheesy  Italian  spicy\n",
       "2            Pasta     90    Delhi   creamy  Italian  spicy\n",
       "18            Poha     50   Indore     soft   indian  spicy\n",
       "17  Tortilla chips    100    Surat  crunchy  Mexican  salty"
      ]
     },
     "execution_count": 50,
     "metadata": {},
     "output_type": "execute_result"
    }
   ],
   "source": [
    "df.sample(5)"
   ]
  },
  {
   "cell_type": "code",
   "execution_count": 52,
   "id": "e7ad33d2-cb66-4707-af71-016356c22cf5",
   "metadata": {},
   "outputs": [
    {
     "data": {
      "text/plain": [
       "Mexican          3\n",
       "Italian          2\n",
       "Gujrati          2\n",
       "indian           2\n",
       "Maharashtrian    2\n",
       "Europe           1\n",
       "Mughlai          1\n",
       "Nepali           1\n",
       "Belgium          1\n",
       "Rajasthani       1\n",
       "Chinese          1\n",
       "England          1\n",
       "Indian           1\n",
       "Name: Cuisine, dtype: int64"
      ]
     },
     "execution_count": 52,
     "metadata": {},
     "output_type": "execute_result"
    }
   ],
   "source": [
    "df[\"Cuisine\"].value_counts()"
   ]
  },
  {
   "cell_type": "code",
   "execution_count": 53,
   "id": "46d9c9e7-8223-4da8-b93d-06ec951757ee",
   "metadata": {},
   "outputs": [
    {
     "data": {
      "text/html": [
       "<div>\n",
       "<style scoped>\n",
       "    .dataframe tbody tr th:only-of-type {\n",
       "        vertical-align: middle;\n",
       "    }\n",
       "\n",
       "    .dataframe tbody tr th {\n",
       "        vertical-align: top;\n",
       "    }\n",
       "\n",
       "    .dataframe thead th {\n",
       "        text-align: right;\n",
       "    }\n",
       "</style>\n",
       "<table border=\"1\" class=\"dataframe\">\n",
       "  <thead>\n",
       "    <tr style=\"text-align: right;\">\n",
       "      <th></th>\n",
       "      <th>Price</th>\n",
       "    </tr>\n",
       "  </thead>\n",
       "  <tbody>\n",
       "    <tr>\n",
       "      <th>count</th>\n",
       "      <td>19.000000</td>\n",
       "    </tr>\n",
       "    <tr>\n",
       "      <th>mean</th>\n",
       "      <td>114.736842</td>\n",
       "    </tr>\n",
       "    <tr>\n",
       "      <th>std</th>\n",
       "      <td>68.909637</td>\n",
       "    </tr>\n",
       "    <tr>\n",
       "      <th>min</th>\n",
       "      <td>40.000000</td>\n",
       "    </tr>\n",
       "    <tr>\n",
       "      <th>25%</th>\n",
       "      <td>60.000000</td>\n",
       "    </tr>\n",
       "    <tr>\n",
       "      <th>50%</th>\n",
       "      <td>100.000000</td>\n",
       "    </tr>\n",
       "    <tr>\n",
       "      <th>75%</th>\n",
       "      <td>165.000000</td>\n",
       "    </tr>\n",
       "    <tr>\n",
       "      <th>max</th>\n",
       "      <td>250.000000</td>\n",
       "    </tr>\n",
       "  </tbody>\n",
       "</table>\n",
       "</div>"
      ],
      "text/plain": [
       "            Price\n",
       "count   19.000000\n",
       "mean   114.736842\n",
       "std     68.909637\n",
       "min     40.000000\n",
       "25%     60.000000\n",
       "50%    100.000000\n",
       "75%    165.000000\n",
       "max    250.000000"
      ]
     },
     "execution_count": 53,
     "metadata": {},
     "output_type": "execute_result"
    }
   ],
   "source": [
    "df.describe()"
   ]
  },
  {
   "cell_type": "code",
   "execution_count": 54,
   "id": "8c023cf0-4cda-4e7d-8fe6-5668ba409831",
   "metadata": {},
   "outputs": [
    {
     "name": "stdout",
     "output_type": "stream",
     "text": [
      "<class 'pandas.core.frame.DataFrame'>\n",
      "Int64Index: 19 entries, 1 to 19\n",
      "Data columns (total 6 columns):\n",
      " #   Column   Non-Null Count  Dtype \n",
      "---  ------   --------------  ----- \n",
      " 0   Name     19 non-null     object\n",
      " 1   Price    19 non-null     int64 \n",
      " 2   Place    19 non-null     object\n",
      " 3   texture  19 non-null     object\n",
      " 4   Cuisine  19 non-null     object\n",
      " 5   Taste    19 non-null     object\n",
      "dtypes: int64(1), object(5)\n",
      "memory usage: 1.0+ KB\n"
     ]
    }
   ],
   "source": [
    "df.info()"
   ]
  },
  {
   "cell_type": "code",
   "execution_count": 55,
   "id": "33384c2b-cebf-43f7-b399-cd0f61a8a54f",
   "metadata": {},
   "outputs": [],
   "source": [
    "#all values are no-empty\n"
   ]
  },
  {
   "cell_type": "code",
   "execution_count": 60,
   "id": "6d2a24e9-3cb2-4112-a9e3-97ca1c7fed01",
   "metadata": {},
   "outputs": [
    {
     "data": {
      "text/plain": [
       "(19, 6)"
      ]
     },
     "execution_count": 60,
     "metadata": {},
     "output_type": "execute_result"
    }
   ],
   "source": [
    "df.shape"
   ]
  },
  {
   "cell_type": "code",
   "execution_count": 61,
   "id": "d33b620a-ca26-4887-844d-38ec8f712394",
   "metadata": {},
   "outputs": [],
   "source": [
    "#19 rows and 6 coloumns"
   ]
  },
  {
   "cell_type": "code",
   "execution_count": 63,
   "id": "9cc7fed2-2c28-416a-b3b4-028d4a514ff2",
   "metadata": {},
   "outputs": [
    {
     "data": {
      "text/plain": [
       "(19, 6)"
      ]
     },
     "execution_count": 63,
     "metadata": {},
     "output_type": "execute_result"
    }
   ],
   "source": [
    "df.shape"
   ]
  },
  {
   "cell_type": "code",
   "execution_count": 66,
   "id": "bd414eb1-6892-445a-a475-eb6f66c315f4",
   "metadata": {},
   "outputs": [
    {
     "data": {
      "text/plain": [
       "Index(['Name', 'Price', 'Place', 'texture', 'Cuisine', 'Taste'], dtype='object')"
      ]
     },
     "execution_count": 66,
     "metadata": {},
     "output_type": "execute_result"
    }
   ],
   "source": [
    "df.columns"
   ]
  },
  {
   "cell_type": "code",
   "execution_count": 81,
   "id": "f80b0190-9fe7-4ad2-b7c5-6492b30b189b",
   "metadata": {},
   "outputs": [
    {
     "data": {
      "text/plain": [
       "250"
      ]
     },
     "execution_count": 81,
     "metadata": {},
     "output_type": "execute_result"
    }
   ],
   "source": [
    "max=df[\"Price\"].max()\n",
    "max\n"
   ]
  },
  {
   "cell_type": "markdown",
   "id": "7f955ab2-fce7-4f46-91ea-106a73710d0a",
   "metadata": {},
   "source": [
    "## Costliest Food"
   ]
  },
  {
   "cell_type": "code",
   "execution_count": 85,
   "id": "36209090-beb6-4a56-b09e-985220169088",
   "metadata": {},
   "outputs": [
    {
     "data": {
      "text/html": [
       "<div>\n",
       "<style scoped>\n",
       "    .dataframe tbody tr th:only-of-type {\n",
       "        vertical-align: middle;\n",
       "    }\n",
       "\n",
       "    .dataframe tbody tr th {\n",
       "        vertical-align: top;\n",
       "    }\n",
       "\n",
       "    .dataframe thead th {\n",
       "        text-align: right;\n",
       "    }\n",
       "</style>\n",
       "<table border=\"1\" class=\"dataframe\">\n",
       "  <thead>\n",
       "    <tr style=\"text-align: right;\">\n",
       "      <th></th>\n",
       "      <th>Name</th>\n",
       "      <th>Price</th>\n",
       "    </tr>\n",
       "  </thead>\n",
       "  <tbody>\n",
       "    <tr>\n",
       "      <th>15</th>\n",
       "      <td>Dal Bati</td>\n",
       "      <td>250</td>\n",
       "    </tr>\n",
       "    <tr>\n",
       "      <th>19</th>\n",
       "      <td>Rasgulla</td>\n",
       "      <td>250</td>\n",
       "    </tr>\n",
       "  </tbody>\n",
       "</table>\n",
       "</div>"
      ],
      "text/plain": [
       "        Name  Price\n",
       "15  Dal Bati    250\n",
       "19  Rasgulla    250"
      ]
     },
     "execution_count": 85,
     "metadata": {},
     "output_type": "execute_result"
    }
   ],
   "source": [
    "df[[\"Name\",\"Price\"]][df[\"Price\"]==max]"
   ]
  },
  {
   "cell_type": "markdown",
   "id": "0d295b0d-6711-4d58-9120-1435c3639473",
   "metadata": {},
   "source": [
    "## Cheapest sweet"
   ]
  },
  {
   "cell_type": "code",
   "execution_count": 99,
   "id": "144d5c13-d8ee-4f0a-96a7-48c86c6e2ec0",
   "metadata": {},
   "outputs": [
    {
     "data": {
      "text/plain": [
       "6    Petha\n",
       "Name: Name, dtype: object"
      ]
     },
     "execution_count": 99,
     "metadata": {},
     "output_type": "execute_result"
    }
   ],
   "source": [
    "df['Name'][(df['Taste']=='sweet') & (df['Price'] == df['Price'][df['Taste']=='sweet'].min())]\n",
    "\n"
   ]
  },
  {
   "cell_type": "code",
   "execution_count": 96,
   "id": "b4ce46be-4d15-4202-9ba6-4d4b6ae9026f",
   "metadata": {},
   "outputs": [
    {
     "data": {
      "text/html": [
       "<div>\n",
       "<style scoped>\n",
       "    .dataframe tbody tr th:only-of-type {\n",
       "        vertical-align: middle;\n",
       "    }\n",
       "\n",
       "    .dataframe tbody tr th {\n",
       "        vertical-align: top;\n",
       "    }\n",
       "\n",
       "    .dataframe thead th {\n",
       "        text-align: right;\n",
       "    }\n",
       "</style>\n",
       "<table border=\"1\" class=\"dataframe\">\n",
       "  <thead>\n",
       "    <tr style=\"text-align: right;\">\n",
       "      <th></th>\n",
       "      <th>Name</th>\n",
       "      <th>Price</th>\n",
       "      <th>Place</th>\n",
       "      <th>texture</th>\n",
       "      <th>Cuisine</th>\n",
       "      <th>Taste</th>\n",
       "    </tr>\n",
       "  </thead>\n",
       "  <tbody>\n",
       "    <tr>\n",
       "      <th>1</th>\n",
       "      <td>Pizza</td>\n",
       "      <td>180</td>\n",
       "      <td>Jaipur</td>\n",
       "      <td>cheesy</td>\n",
       "      <td>Italian</td>\n",
       "      <td>spicy</td>\n",
       "    </tr>\n",
       "    <tr>\n",
       "      <th>2</th>\n",
       "      <td>Pasta</td>\n",
       "      <td>90</td>\n",
       "      <td>Delhi</td>\n",
       "      <td>creamy</td>\n",
       "      <td>Italian</td>\n",
       "      <td>spicy</td>\n",
       "    </tr>\n",
       "    <tr>\n",
       "      <th>3</th>\n",
       "      <td>Momos</td>\n",
       "      <td>40</td>\n",
       "      <td>Delhi</td>\n",
       "      <td>soft</td>\n",
       "      <td>Nepali</td>\n",
       "      <td>spicy</td>\n",
       "    </tr>\n",
       "    <tr>\n",
       "      <th>4</th>\n",
       "      <td>sandwich</td>\n",
       "      <td>60</td>\n",
       "      <td>Jaipur</td>\n",
       "      <td>crunchy</td>\n",
       "      <td>England</td>\n",
       "      <td>spicy</td>\n",
       "    </tr>\n",
       "    <tr>\n",
       "      <th>5</th>\n",
       "      <td>Modak</td>\n",
       "      <td>80</td>\n",
       "      <td>Mumbai</td>\n",
       "      <td>soft</td>\n",
       "      <td>Maharashtrian</td>\n",
       "      <td>sweet</td>\n",
       "    </tr>\n",
       "    <tr>\n",
       "      <th>6</th>\n",
       "      <td>Petha</td>\n",
       "      <td>60</td>\n",
       "      <td>Agra</td>\n",
       "      <td>soft</td>\n",
       "      <td>Indian</td>\n",
       "      <td>sweet</td>\n",
       "    </tr>\n",
       "    <tr>\n",
       "      <th>7</th>\n",
       "      <td>Tomato Salsa</td>\n",
       "      <td>50</td>\n",
       "      <td>Mumbai</td>\n",
       "      <td>creamy</td>\n",
       "      <td>Mexican</td>\n",
       "      <td>spicy</td>\n",
       "    </tr>\n",
       "    <tr>\n",
       "      <th>8</th>\n",
       "      <td>Tacos</td>\n",
       "      <td>70</td>\n",
       "      <td>Banglore</td>\n",
       "      <td>Crunchy</td>\n",
       "      <td>Mexican</td>\n",
       "      <td>spicy</td>\n",
       "    </tr>\n",
       "    <tr>\n",
       "      <th>9</th>\n",
       "      <td>Biryani</td>\n",
       "      <td>200</td>\n",
       "      <td>Kolkata</td>\n",
       "      <td>soft</td>\n",
       "      <td>Mughlai</td>\n",
       "      <td>spicy</td>\n",
       "    </tr>\n",
       "    <tr>\n",
       "      <th>10</th>\n",
       "      <td>Green Tea</td>\n",
       "      <td>100</td>\n",
       "      <td>Banglore</td>\n",
       "      <td>liquid</td>\n",
       "      <td>Chinese</td>\n",
       "      <td>Bitter</td>\n",
       "    </tr>\n",
       "    <tr>\n",
       "      <th>11</th>\n",
       "      <td>gooseberry</td>\n",
       "      <td>200</td>\n",
       "      <td>Pune</td>\n",
       "      <td>soft</td>\n",
       "      <td>Europe</td>\n",
       "      <td>sour</td>\n",
       "    </tr>\n",
       "    <tr>\n",
       "      <th>12</th>\n",
       "      <td>French Fries</td>\n",
       "      <td>150</td>\n",
       "      <td>Kolkata</td>\n",
       "      <td>crunchy</td>\n",
       "      <td>Belgium</td>\n",
       "      <td>salty</td>\n",
       "    </tr>\n",
       "    <tr>\n",
       "      <th>13</th>\n",
       "      <td>Dhokla</td>\n",
       "      <td>100</td>\n",
       "      <td>Ahembdabad</td>\n",
       "      <td>soft</td>\n",
       "      <td>Gujrati</td>\n",
       "      <td>spicy</td>\n",
       "    </tr>\n",
       "    <tr>\n",
       "      <th>14</th>\n",
       "      <td>Thepla</td>\n",
       "      <td>100</td>\n",
       "      <td>Ahembdabad</td>\n",
       "      <td>soft</td>\n",
       "      <td>Gujrati</td>\n",
       "      <td>spicy</td>\n",
       "    </tr>\n",
       "    <tr>\n",
       "      <th>15</th>\n",
       "      <td>Dal Bati</td>\n",
       "      <td>250</td>\n",
       "      <td>Bikaner</td>\n",
       "      <td>soft</td>\n",
       "      <td>Rajasthani</td>\n",
       "      <td>spicy</td>\n",
       "    </tr>\n",
       "    <tr>\n",
       "      <th>16</th>\n",
       "      <td>Vada Pav</td>\n",
       "      <td>50</td>\n",
       "      <td>Mumbai</td>\n",
       "      <td>crunchy</td>\n",
       "      <td>Maharashtrian</td>\n",
       "      <td>spicy</td>\n",
       "    </tr>\n",
       "    <tr>\n",
       "      <th>17</th>\n",
       "      <td>Tortilla chips</td>\n",
       "      <td>100</td>\n",
       "      <td>Surat</td>\n",
       "      <td>crunchy</td>\n",
       "      <td>Mexican</td>\n",
       "      <td>salty</td>\n",
       "    </tr>\n",
       "    <tr>\n",
       "      <th>18</th>\n",
       "      <td>Poha</td>\n",
       "      <td>50</td>\n",
       "      <td>Indore</td>\n",
       "      <td>soft</td>\n",
       "      <td>indian</td>\n",
       "      <td>spicy</td>\n",
       "    </tr>\n",
       "    <tr>\n",
       "      <th>19</th>\n",
       "      <td>Rasgulla</td>\n",
       "      <td>250</td>\n",
       "      <td>Kolkata</td>\n",
       "      <td>soft</td>\n",
       "      <td>indian</td>\n",
       "      <td>sweet</td>\n",
       "    </tr>\n",
       "  </tbody>\n",
       "</table>\n",
       "</div>"
      ],
      "text/plain": [
       "              Name  Price       Place  texture        Cuisine   Taste\n",
       "1            Pizza    180      Jaipur   cheesy        Italian   spicy\n",
       "2            Pasta     90       Delhi   creamy        Italian   spicy\n",
       "3            Momos     40       Delhi     soft         Nepali   spicy\n",
       "4         sandwich     60      Jaipur  crunchy        England   spicy\n",
       "5            Modak     80      Mumbai     soft  Maharashtrian   sweet\n",
       "6            Petha     60        Agra     soft         Indian   sweet\n",
       "7     Tomato Salsa     50      Mumbai   creamy        Mexican   spicy\n",
       "8            Tacos     70    Banglore  Crunchy        Mexican   spicy\n",
       "9          Biryani    200     Kolkata     soft        Mughlai   spicy\n",
       "10       Green Tea    100    Banglore   liquid        Chinese  Bitter\n",
       "11      gooseberry    200        Pune     soft         Europe    sour\n",
       "12    French Fries    150     Kolkata  crunchy        Belgium   salty\n",
       "13          Dhokla    100  Ahembdabad     soft        Gujrati   spicy\n",
       "14          Thepla    100  Ahembdabad     soft        Gujrati   spicy\n",
       "15        Dal Bati    250     Bikaner     soft     Rajasthani   spicy\n",
       "16        Vada Pav     50      Mumbai  crunchy  Maharashtrian   spicy\n",
       "17  Tortilla chips    100       Surat  crunchy        Mexican   salty\n",
       "18            Poha     50      Indore     soft         indian   spicy\n",
       "19        Rasgulla    250     Kolkata     soft         indian   sweet"
      ]
     },
     "execution_count": 96,
     "metadata": {},
     "output_type": "execute_result"
    }
   ],
   "source": [
    "df"
   ]
  },
  {
   "cell_type": "markdown",
   "id": "cb446866-c6f1-4ced-ae75-fd0289615324",
   "metadata": {},
   "source": [
    "## Crunchy food found in jaipur"
   ]
  },
  {
   "cell_type": "code",
   "execution_count": 102,
   "id": "e37c35f4-ccc8-4308-a9fb-fc7c5331a6d6",
   "metadata": {},
   "outputs": [
    {
     "data": {
      "text/plain": [
       "4    sandwich\n",
       "Name: Name, dtype: object"
      ]
     },
     "execution_count": 102,
     "metadata": {},
     "output_type": "execute_result"
    }
   ],
   "source": [
    "df[\"Name\"][(df[\"Place\"]==\"Jaipur\") & (df['texture']==\"crunchy\")]"
   ]
  },
  {
   "cell_type": "markdown",
   "id": "e0ddfea8-0fa6-47fb-8873-0fc1880d49af",
   "metadata": {},
   "source": [
    "## Count of different tastes of food"
   ]
  },
  {
   "cell_type": "code",
   "execution_count": 149,
   "id": "5dde3717-3d9e-4606-bb00-26ce86a51362",
   "metadata": {},
   "outputs": [
    {
     "data": {
      "text/plain": [
       "spicy     12\n",
       "sweet      3\n",
       "salty      2\n",
       "Bitter     1\n",
       "sour       1\n",
       "Name: Taste, dtype: int64"
      ]
     },
     "execution_count": 149,
     "metadata": {},
     "output_type": "execute_result"
    }
   ],
   "source": [
    "df['Taste'].value()"
   ]
  },
  {
   "cell_type": "markdown",
   "id": "73fe3bce-f997-442c-8c15-a752e7e5bf07",
   "metadata": {},
   "source": [
    "## food which is available in Indore and is sweet"
   ]
  },
  {
   "cell_type": "code",
   "execution_count": 150,
   "id": "a500a9c7-42b2-4d11-849a-bc93c1cdbc51",
   "metadata": {},
   "outputs": [
    {
     "data": {
      "text/plain": [
       "Series([], Name: Name, dtype: object)"
      ]
     },
     "execution_count": 150,
     "metadata": {},
     "output_type": "execute_result"
    }
   ],
   "source": [
    "df['Name'][(df['Place']==\"Indore\")&(df['Taste']==\"sweet\")]"
   ]
  },
  {
   "cell_type": "markdown",
   "id": "9ca82e91-f735-4ef9-890f-683c14f3a5ad",
   "metadata": {},
   "source": [
    "## Costliest spicy Food"
   ]
  },
  {
   "cell_type": "code",
   "execution_count": 152,
   "id": "f56381bb-db3c-4c84-8a2f-9e9577bc8f26",
   "metadata": {},
   "outputs": [
    {
     "data": {
      "text/plain": [
       "3    Momos\n",
       "Name: Name, dtype: object"
      ]
     },
     "execution_count": 152,
     "metadata": {},
     "output_type": "execute_result"
    }
   ],
   "source": [
    "df['Name'][(df[\"Taste\"]==\"spicy\") & (df['Price']==df['Price'][df['Taste']==\"spicy\"].min())]"
   ]
  },
  {
   "cell_type": "code",
   "execution_count": 155,
   "id": "7cd84246-bbc5-49ef-9b30-e5c80e1e93ce",
   "metadata": {},
   "outputs": [
    {
     "data": {
      "text/html": [
       "<div>\n",
       "<style scoped>\n",
       "    .dataframe tbody tr th:only-of-type {\n",
       "        vertical-align: middle;\n",
       "    }\n",
       "\n",
       "    .dataframe tbody tr th {\n",
       "        vertical-align: top;\n",
       "    }\n",
       "\n",
       "    .dataframe thead th {\n",
       "        text-align: right;\n",
       "    }\n",
       "</style>\n",
       "<table border=\"1\" class=\"dataframe\">\n",
       "  <thead>\n",
       "    <tr style=\"text-align: right;\">\n",
       "      <th></th>\n",
       "      <th>Name</th>\n",
       "      <th>Price</th>\n",
       "    </tr>\n",
       "  </thead>\n",
       "  <tbody>\n",
       "    <tr>\n",
       "      <th>3</th>\n",
       "      <td>Momos</td>\n",
       "      <td>40</td>\n",
       "    </tr>\n",
       "    <tr>\n",
       "      <th>7</th>\n",
       "      <td>Tomato Salsa</td>\n",
       "      <td>50</td>\n",
       "    </tr>\n",
       "    <tr>\n",
       "      <th>16</th>\n",
       "      <td>Vada Pav</td>\n",
       "      <td>50</td>\n",
       "    </tr>\n",
       "    <tr>\n",
       "      <th>18</th>\n",
       "      <td>Poha</td>\n",
       "      <td>50</td>\n",
       "    </tr>\n",
       "    <tr>\n",
       "      <th>4</th>\n",
       "      <td>sandwich</td>\n",
       "      <td>60</td>\n",
       "    </tr>\n",
       "    <tr>\n",
       "      <th>8</th>\n",
       "      <td>Tacos</td>\n",
       "      <td>70</td>\n",
       "    </tr>\n",
       "    <tr>\n",
       "      <th>2</th>\n",
       "      <td>Pasta</td>\n",
       "      <td>90</td>\n",
       "    </tr>\n",
       "    <tr>\n",
       "      <th>13</th>\n",
       "      <td>Dhokla</td>\n",
       "      <td>100</td>\n",
       "    </tr>\n",
       "    <tr>\n",
       "      <th>14</th>\n",
       "      <td>Thepla</td>\n",
       "      <td>100</td>\n",
       "    </tr>\n",
       "    <tr>\n",
       "      <th>1</th>\n",
       "      <td>Pizza</td>\n",
       "      <td>180</td>\n",
       "    </tr>\n",
       "    <tr>\n",
       "      <th>9</th>\n",
       "      <td>Biryani</td>\n",
       "      <td>200</td>\n",
       "    </tr>\n",
       "    <tr>\n",
       "      <th>15</th>\n",
       "      <td>Dal Bati</td>\n",
       "      <td>250</td>\n",
       "    </tr>\n",
       "  </tbody>\n",
       "</table>\n",
       "</div>"
      ],
      "text/plain": [
       "            Name  Price\n",
       "3          Momos     40\n",
       "7   Tomato Salsa     50\n",
       "16      Vada Pav     50\n",
       "18          Poha     50\n",
       "4       sandwich     60\n",
       "8          Tacos     70\n",
       "2          Pasta     90\n",
       "13        Dhokla    100\n",
       "14        Thepla    100\n",
       "1          Pizza    180\n",
       "9        Biryani    200\n",
       "15      Dal Bati    250"
      ]
     },
     "execution_count": 155,
     "metadata": {},
     "output_type": "execute_result"
    }
   ],
   "source": [
    "df[[\"Name\",\"Price\"]][df[\"Taste\"]==\"spicy\"].sort_values(by='Price')"
   ]
  },
  {
   "cell_type": "markdown",
   "id": "72b98df6-420f-413b-bb60-c3d09724ebdc",
   "metadata": {},
   "source": [
    "## Foods which are soft and sweet"
   ]
  },
  {
   "cell_type": "code",
   "execution_count": 158,
   "id": "d3107cb8-dcf5-43aa-907f-79f931460057",
   "metadata": {},
   "outputs": [
    {
     "data": {
      "text/plain": [
       "5        Modak\n",
       "6        Petha\n",
       "19    Rasgulla\n",
       "Name: Name, dtype: object"
      ]
     },
     "execution_count": 158,
     "metadata": {},
     "output_type": "execute_result"
    }
   ],
   "source": [
    "df['Name'][(df['texture']==\"soft\") & (df['Taste']==\"sweet\")]"
   ]
  }
 ],
 "metadata": {
  "kernelspec": {
   "display_name": "Python 3",
   "language": "python",
   "name": "python3"
  },
  "language_info": {
   "codemirror_mode": {
    "name": "ipython",
    "version": 3
   },
   "file_extension": ".py",
   "mimetype": "text/x-python",
   "name": "python",
   "nbconvert_exporter": "python",
   "pygments_lexer": "ipython3",
   "version": "3.8.8"
  }
 },
 "nbformat": 4,
 "nbformat_minor": 5
}
